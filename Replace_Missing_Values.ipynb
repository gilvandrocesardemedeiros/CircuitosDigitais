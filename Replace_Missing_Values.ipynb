{
  "nbformat": 4,
  "nbformat_minor": 0,
  "metadata": {
    "colab": {
      "name": "Predict_Rain_MLP.ipynb",
      "version": "0.3.2",
      "provenance": [],
      "collapsed_sections": [],
      "include_colab_link": true
    },
    "language_info": {
      "codemirror_mode": {
        "name": "ipython",
        "version": 3
      },
      "file_extension": ".py",
      "mimetype": "text/x-python",
      "name": "python",
      "nbconvert_exporter": "python",
      "pygments_lexer": "ipython3",
      "version": "3.6.8"
    },
    "kernelspec": {
      "display_name": "Python 3",
      "language": "python",
      "name": "python3"
    }
  },
  "cells": [
    {
      "cell_type": "markdown",
      "metadata": {
        "id": "view-in-github",
        "colab_type": "text"
      },
      "source": [
        "<a href=\"https://colab.research.google.com/github/gilvandrocesardemedeiros/CircuitosDigitais/blob/master/Replace_Missing_Values.ipynb\" target=\"_parent\"><img src=\"https://colab.research.google.com/assets/colab-badge.svg\" alt=\"Open In Colab\"/></a>"
      ]
    },
    {
      "metadata": {
        "id": "27ZehESHNz63",
        "colab_type": "code",
        "colab": {
          "base_uri": "https://localhost:8080/",
          "height": 34
        },
        "outputId": "dc80d89a-bc80-45c0-feea-03c8a596628e"
      },
      "cell_type": "code",
      "source": [
        "#Importando bibliotecas\n",
        "import pandas as pd\n",
        "import numpy as np\n",
        "from datetime import datetime\n",
        "from keras.models import Sequential\n",
        "from keras.layers import Dense\n",
        "from keras.wrappers.scikit_learn import KerasRegressor\n",
        "from keras.utils import np_utils\n",
        "from sklearn.model_selection import KFold\n",
        "from sklearn.model_selection import GridSearchCV\n",
        "from sklearn.model_selection import train_test_split\n",
        "from sklearn.preprocessing import RobustScaler\n",
        "from sklearn.preprocessing import LabelEncoder\n",
        "from sklearn.model_selection import train_test_split\n",
        "import matplotlib.pyplot as plt"
      ],
      "execution_count": 1,
      "outputs": [
        {
          "output_type": "stream",
          "text": [
            "Using TensorFlow backend.\n"
          ],
          "name": "stderr"
        }
      ]
    },
    {
      "metadata": {
        "id": "_30s_sAnNz7Z",
        "colab_type": "code",
        "colab": {}
      },
      "cell_type": "code",
      "source": [
        "#Nomes para as colunas\n",
        "columns = [\"Estacao\",\"Data\",\"Hora\",\"Prec\",\"TempMax\",\"TempMin\",\"Insolacao\",\"EvapoPiche\",\"TempCompMedia\",\n",
        "           \"UmidRelatMedia\", \"VelocVento\", \"Missing\"]\n",
        "\n",
        "#Tipos de dados em cada coluna\n",
        "types = {\"Hora\":np.uint16,\"Prec\":np.float64,\"TempMax\":np.float64,\"TempMin\":np.float64,\"Insolacao\":np.float64,\n",
        "         \"EvapoPiche\":np.float64,\"TempCompMedia\":np.float64,\"UmidRelatMedia\":np.float64,\"VelocVento\":np.float64}\n",
        "\n",
        "#Leitura do arquivo csv\n",
        "dataSet = pd.read_csv(\"https://github.com/gilvandrocesardemedeiros/ClimatePrediction/raw/master/Dados_INMET/Diarios/INMET-Dados_Diarios_Natal_1968-2018.csv\",\n",
        "                      sep=';',skiprows=48, nrows = 27003, usecols = columns[1:11], names=columns, dtype = types)"
      ],
      "execution_count": 0,
      "outputs": []
    },
    {
      "metadata": {
        "id": "j6wsU7SJNz7t",
        "colab_type": "code",
        "colab": {}
      },
      "cell_type": "code",
      "source": [
        "#Transformando data em variável do tipo datetime\n",
        "dataSet[\"Data\"] = pd.to_datetime(dataSet[\"Data\"], format = \"%d/%m/%Y\")"
      ],
      "execution_count": 0,
      "outputs": []
    },
    {
      "metadata": {
        "id": "4Q7RdptNNz8A",
        "colab_type": "code",
        "outputId": "c6150205-b8ab-42fd-8d06-e201f9fcf7ef",
        "colab": {
          "base_uri": "https://localhost:8080/",
          "height": 206
        }
      },
      "cell_type": "code",
      "source": [
        "#Verificando dados\n",
        "dataSet.head()"
      ],
      "execution_count": 4,
      "outputs": [
        {
          "output_type": "execute_result",
          "data": {
            "text/html": [
              "<div>\n",
              "<style scoped>\n",
              "    .dataframe tbody tr th:only-of-type {\n",
              "        vertical-align: middle;\n",
              "    }\n",
              "\n",
              "    .dataframe tbody tr th {\n",
              "        vertical-align: top;\n",
              "    }\n",
              "\n",
              "    .dataframe thead th {\n",
              "        text-align: right;\n",
              "    }\n",
              "</style>\n",
              "<table border=\"1\" class=\"dataframe\">\n",
              "  <thead>\n",
              "    <tr style=\"text-align: right;\">\n",
              "      <th></th>\n",
              "      <th>Data</th>\n",
              "      <th>Hora</th>\n",
              "      <th>Prec</th>\n",
              "      <th>TempMax</th>\n",
              "      <th>TempMin</th>\n",
              "      <th>Insolacao</th>\n",
              "      <th>EvapoPiche</th>\n",
              "      <th>TempCompMedia</th>\n",
              "      <th>UmidRelatMedia</th>\n",
              "      <th>VelocVento</th>\n",
              "    </tr>\n",
              "  </thead>\n",
              "  <tbody>\n",
              "    <tr>\n",
              "      <th>0</th>\n",
              "      <td>1968-01-01</td>\n",
              "      <td>0</td>\n",
              "      <td>NaN</td>\n",
              "      <td>30.6</td>\n",
              "      <td>NaN</td>\n",
              "      <td>11.1</td>\n",
              "      <td>4.4</td>\n",
              "      <td>25.14</td>\n",
              "      <td>73.50</td>\n",
              "      <td>2.666667</td>\n",
              "    </tr>\n",
              "    <tr>\n",
              "      <th>1</th>\n",
              "      <td>1968-01-01</td>\n",
              "      <td>1200</td>\n",
              "      <td>0.0</td>\n",
              "      <td>NaN</td>\n",
              "      <td>21.4</td>\n",
              "      <td>NaN</td>\n",
              "      <td>NaN</td>\n",
              "      <td>NaN</td>\n",
              "      <td>NaN</td>\n",
              "      <td>NaN</td>\n",
              "    </tr>\n",
              "    <tr>\n",
              "      <th>2</th>\n",
              "      <td>1968-01-02</td>\n",
              "      <td>0</td>\n",
              "      <td>NaN</td>\n",
              "      <td>31.0</td>\n",
              "      <td>NaN</td>\n",
              "      <td>11.9</td>\n",
              "      <td>6.5</td>\n",
              "      <td>24.92</td>\n",
              "      <td>74.75</td>\n",
              "      <td>1.666667</td>\n",
              "    </tr>\n",
              "    <tr>\n",
              "      <th>3</th>\n",
              "      <td>1968-01-02</td>\n",
              "      <td>1200</td>\n",
              "      <td>0.0</td>\n",
              "      <td>NaN</td>\n",
              "      <td>19.6</td>\n",
              "      <td>NaN</td>\n",
              "      <td>NaN</td>\n",
              "      <td>NaN</td>\n",
              "      <td>NaN</td>\n",
              "      <td>NaN</td>\n",
              "    </tr>\n",
              "    <tr>\n",
              "      <th>4</th>\n",
              "      <td>1968-01-03</td>\n",
              "      <td>0</td>\n",
              "      <td>NaN</td>\n",
              "      <td>31.6</td>\n",
              "      <td>NaN</td>\n",
              "      <td>11.3</td>\n",
              "      <td>5.0</td>\n",
              "      <td>24.90</td>\n",
              "      <td>77.25</td>\n",
              "      <td>2.333333</td>\n",
              "    </tr>\n",
              "  </tbody>\n",
              "</table>\n",
              "</div>"
            ],
            "text/plain": [
              "        Data  Hora  Prec  TempMax  TempMin  Insolacao  EvapoPiche  \\\n",
              "0 1968-01-01     0   NaN     30.6      NaN       11.1         4.4   \n",
              "1 1968-01-01  1200   0.0      NaN     21.4        NaN         NaN   \n",
              "2 1968-01-02     0   NaN     31.0      NaN       11.9         6.5   \n",
              "3 1968-01-02  1200   0.0      NaN     19.6        NaN         NaN   \n",
              "4 1968-01-03     0   NaN     31.6      NaN       11.3         5.0   \n",
              "\n",
              "   TempCompMedia  UmidRelatMedia  VelocVento  \n",
              "0          25.14           73.50    2.666667  \n",
              "1            NaN             NaN         NaN  \n",
              "2          24.92           74.75    1.666667  \n",
              "3            NaN             NaN         NaN  \n",
              "4          24.90           77.25    2.333333  "
            ]
          },
          "metadata": {
            "tags": []
          },
          "execution_count": 4
        }
      ]
    },
    {
      "metadata": {
        "id": "1GBPk-0mNz8Q",
        "colab_type": "code",
        "outputId": "8f3a2df5-8440-4e53-9989-a2fea65eeaed",
        "colab": {
          "base_uri": "https://localhost:8080/",
          "height": 208
        }
      },
      "cell_type": "code",
      "source": [
        "#Verificando o tipo dos dados\n",
        "dataSet.dtypes"
      ],
      "execution_count": 5,
      "outputs": [
        {
          "output_type": "execute_result",
          "data": {
            "text/plain": [
              "Data              datetime64[ns]\n",
              "Hora                      uint16\n",
              "Prec                     float64\n",
              "TempMax                  float64\n",
              "TempMin                  float64\n",
              "Insolacao                float64\n",
              "EvapoPiche               float64\n",
              "TempCompMedia            float64\n",
              "UmidRelatMedia           float64\n",
              "VelocVento               float64\n",
              "dtype: object"
            ]
          },
          "metadata": {
            "tags": []
          },
          "execution_count": 5
        }
      ]
    },
    {
      "metadata": {
        "id": "Bljp6tdBNz8e",
        "colab_type": "code",
        "colab": {}
      },
      "cell_type": "code",
      "source": [
        "#Separando os dados em dois dataframes, um para as 00:00 h e outro para as 12:00 h\n",
        "dataSet00, dataSet12 = dataSet[dataSet[\"Hora\"] == 0], dataSet[dataSet[\"Hora\"] == 1200]"
      ],
      "execution_count": 0,
      "outputs": []
    },
    {
      "metadata": {
        "id": "2bh8K6NANz8r",
        "colab_type": "code",
        "outputId": "cde896f6-737b-4239-a945-43d9873a88eb",
        "colab": {
          "base_uri": "https://localhost:8080/",
          "height": 206
        }
      },
      "cell_type": "code",
      "source": [
        "#Verificando dataframe para os dados disponibilizados às 00:00 h\n",
        "dataSet00.head()"
      ],
      "execution_count": 7,
      "outputs": [
        {
          "output_type": "execute_result",
          "data": {
            "text/html": [
              "<div>\n",
              "<style scoped>\n",
              "    .dataframe tbody tr th:only-of-type {\n",
              "        vertical-align: middle;\n",
              "    }\n",
              "\n",
              "    .dataframe tbody tr th {\n",
              "        vertical-align: top;\n",
              "    }\n",
              "\n",
              "    .dataframe thead th {\n",
              "        text-align: right;\n",
              "    }\n",
              "</style>\n",
              "<table border=\"1\" class=\"dataframe\">\n",
              "  <thead>\n",
              "    <tr style=\"text-align: right;\">\n",
              "      <th></th>\n",
              "      <th>Data</th>\n",
              "      <th>Hora</th>\n",
              "      <th>Prec</th>\n",
              "      <th>TempMax</th>\n",
              "      <th>TempMin</th>\n",
              "      <th>Insolacao</th>\n",
              "      <th>EvapoPiche</th>\n",
              "      <th>TempCompMedia</th>\n",
              "      <th>UmidRelatMedia</th>\n",
              "      <th>VelocVento</th>\n",
              "    </tr>\n",
              "  </thead>\n",
              "  <tbody>\n",
              "    <tr>\n",
              "      <th>0</th>\n",
              "      <td>1968-01-01</td>\n",
              "      <td>0</td>\n",
              "      <td>NaN</td>\n",
              "      <td>30.6</td>\n",
              "      <td>NaN</td>\n",
              "      <td>11.1</td>\n",
              "      <td>4.4</td>\n",
              "      <td>25.14</td>\n",
              "      <td>73.50</td>\n",
              "      <td>2.666667</td>\n",
              "    </tr>\n",
              "    <tr>\n",
              "      <th>2</th>\n",
              "      <td>1968-01-02</td>\n",
              "      <td>0</td>\n",
              "      <td>NaN</td>\n",
              "      <td>31.0</td>\n",
              "      <td>NaN</td>\n",
              "      <td>11.9</td>\n",
              "      <td>6.5</td>\n",
              "      <td>24.92</td>\n",
              "      <td>74.75</td>\n",
              "      <td>1.666667</td>\n",
              "    </tr>\n",
              "    <tr>\n",
              "      <th>4</th>\n",
              "      <td>1968-01-03</td>\n",
              "      <td>0</td>\n",
              "      <td>NaN</td>\n",
              "      <td>31.6</td>\n",
              "      <td>NaN</td>\n",
              "      <td>11.3</td>\n",
              "      <td>5.0</td>\n",
              "      <td>24.90</td>\n",
              "      <td>77.25</td>\n",
              "      <td>2.333333</td>\n",
              "    </tr>\n",
              "    <tr>\n",
              "      <th>6</th>\n",
              "      <td>1968-01-04</td>\n",
              "      <td>0</td>\n",
              "      <td>NaN</td>\n",
              "      <td>31.2</td>\n",
              "      <td>NaN</td>\n",
              "      <td>10.3</td>\n",
              "      <td>4.0</td>\n",
              "      <td>24.82</td>\n",
              "      <td>80.75</td>\n",
              "      <td>3.666667</td>\n",
              "    </tr>\n",
              "    <tr>\n",
              "      <th>8</th>\n",
              "      <td>1968-01-05</td>\n",
              "      <td>0</td>\n",
              "      <td>NaN</td>\n",
              "      <td>30.8</td>\n",
              "      <td>NaN</td>\n",
              "      <td>11.0</td>\n",
              "      <td>4.2</td>\n",
              "      <td>24.78</td>\n",
              "      <td>76.00</td>\n",
              "      <td>4.000000</td>\n",
              "    </tr>\n",
              "  </tbody>\n",
              "</table>\n",
              "</div>"
            ],
            "text/plain": [
              "        Data  Hora  Prec  TempMax  TempMin  Insolacao  EvapoPiche  \\\n",
              "0 1968-01-01     0   NaN     30.6      NaN       11.1         4.4   \n",
              "2 1968-01-02     0   NaN     31.0      NaN       11.9         6.5   \n",
              "4 1968-01-03     0   NaN     31.6      NaN       11.3         5.0   \n",
              "6 1968-01-04     0   NaN     31.2      NaN       10.3         4.0   \n",
              "8 1968-01-05     0   NaN     30.8      NaN       11.0         4.2   \n",
              "\n",
              "   TempCompMedia  UmidRelatMedia  VelocVento  \n",
              "0          25.14           73.50    2.666667  \n",
              "2          24.92           74.75    1.666667  \n",
              "4          24.90           77.25    2.333333  \n",
              "6          24.82           80.75    3.666667  \n",
              "8          24.78           76.00    4.000000  "
            ]
          },
          "metadata": {
            "tags": []
          },
          "execution_count": 7
        }
      ]
    },
    {
      "metadata": {
        "id": "edBEOHdPNz9B",
        "colab_type": "code",
        "outputId": "9ac29f23-35b0-45e8-e61d-528117549202",
        "colab": {
          "base_uri": "https://localhost:8080/",
          "height": 206
        }
      },
      "cell_type": "code",
      "source": [
        "#Verificando dataframe para os dados disponibilizados às 12:00 h\n",
        "dataSet12.head()"
      ],
      "execution_count": 8,
      "outputs": [
        {
          "output_type": "execute_result",
          "data": {
            "text/html": [
              "<div>\n",
              "<style scoped>\n",
              "    .dataframe tbody tr th:only-of-type {\n",
              "        vertical-align: middle;\n",
              "    }\n",
              "\n",
              "    .dataframe tbody tr th {\n",
              "        vertical-align: top;\n",
              "    }\n",
              "\n",
              "    .dataframe thead th {\n",
              "        text-align: right;\n",
              "    }\n",
              "</style>\n",
              "<table border=\"1\" class=\"dataframe\">\n",
              "  <thead>\n",
              "    <tr style=\"text-align: right;\">\n",
              "      <th></th>\n",
              "      <th>Data</th>\n",
              "      <th>Hora</th>\n",
              "      <th>Prec</th>\n",
              "      <th>TempMax</th>\n",
              "      <th>TempMin</th>\n",
              "      <th>Insolacao</th>\n",
              "      <th>EvapoPiche</th>\n",
              "      <th>TempCompMedia</th>\n",
              "      <th>UmidRelatMedia</th>\n",
              "      <th>VelocVento</th>\n",
              "    </tr>\n",
              "  </thead>\n",
              "  <tbody>\n",
              "    <tr>\n",
              "      <th>1</th>\n",
              "      <td>1968-01-01</td>\n",
              "      <td>1200</td>\n",
              "      <td>0.0</td>\n",
              "      <td>NaN</td>\n",
              "      <td>21.4</td>\n",
              "      <td>NaN</td>\n",
              "      <td>NaN</td>\n",
              "      <td>NaN</td>\n",
              "      <td>NaN</td>\n",
              "      <td>NaN</td>\n",
              "    </tr>\n",
              "    <tr>\n",
              "      <th>3</th>\n",
              "      <td>1968-01-02</td>\n",
              "      <td>1200</td>\n",
              "      <td>0.0</td>\n",
              "      <td>NaN</td>\n",
              "      <td>19.6</td>\n",
              "      <td>NaN</td>\n",
              "      <td>NaN</td>\n",
              "      <td>NaN</td>\n",
              "      <td>NaN</td>\n",
              "      <td>NaN</td>\n",
              "    </tr>\n",
              "    <tr>\n",
              "      <th>5</th>\n",
              "      <td>1968-01-03</td>\n",
              "      <td>1200</td>\n",
              "      <td>0.0</td>\n",
              "      <td>NaN</td>\n",
              "      <td>18.5</td>\n",
              "      <td>NaN</td>\n",
              "      <td>NaN</td>\n",
              "      <td>NaN</td>\n",
              "      <td>NaN</td>\n",
              "      <td>NaN</td>\n",
              "    </tr>\n",
              "    <tr>\n",
              "      <th>7</th>\n",
              "      <td>1968-01-04</td>\n",
              "      <td>1200</td>\n",
              "      <td>0.0</td>\n",
              "      <td>NaN</td>\n",
              "      <td>20.7</td>\n",
              "      <td>NaN</td>\n",
              "      <td>NaN</td>\n",
              "      <td>NaN</td>\n",
              "      <td>NaN</td>\n",
              "      <td>NaN</td>\n",
              "    </tr>\n",
              "    <tr>\n",
              "      <th>9</th>\n",
              "      <td>1968-01-05</td>\n",
              "      <td>1200</td>\n",
              "      <td>0.0</td>\n",
              "      <td>NaN</td>\n",
              "      <td>19.9</td>\n",
              "      <td>NaN</td>\n",
              "      <td>NaN</td>\n",
              "      <td>NaN</td>\n",
              "      <td>NaN</td>\n",
              "      <td>NaN</td>\n",
              "    </tr>\n",
              "  </tbody>\n",
              "</table>\n",
              "</div>"
            ],
            "text/plain": [
              "        Data  Hora  Prec  TempMax  TempMin  Insolacao  EvapoPiche  \\\n",
              "1 1968-01-01  1200   0.0      NaN     21.4        NaN         NaN   \n",
              "3 1968-01-02  1200   0.0      NaN     19.6        NaN         NaN   \n",
              "5 1968-01-03  1200   0.0      NaN     18.5        NaN         NaN   \n",
              "7 1968-01-04  1200   0.0      NaN     20.7        NaN         NaN   \n",
              "9 1968-01-05  1200   0.0      NaN     19.9        NaN         NaN   \n",
              "\n",
              "   TempCompMedia  UmidRelatMedia  VelocVento  \n",
              "1            NaN             NaN         NaN  \n",
              "3            NaN             NaN         NaN  \n",
              "5            NaN             NaN         NaN  \n",
              "7            NaN             NaN         NaN  \n",
              "9            NaN             NaN         NaN  "
            ]
          },
          "metadata": {
            "tags": []
          },
          "execution_count": 8
        }
      ]
    },
    {
      "metadata": {
        "id": "OUqiIBkLNz9S",
        "colab_type": "code",
        "colab": {}
      },
      "cell_type": "code",
      "source": [
        "#Transformando a data no índice de cada dataframe\n",
        "dataSet00 = dataSet00.set_index(\"Data\")\n",
        "dataSet12 = dataSet12.set_index(\"Data\")"
      ],
      "execution_count": 0,
      "outputs": []
    },
    {
      "metadata": {
        "id": "CSC3Qof0Nz9j",
        "colab_type": "code",
        "colab": {}
      },
      "cell_type": "code",
      "source": [
        "#Descartando a coluna \"Hora\"\n",
        "dataSet00, dataSet12 = dataSet00.drop(columns = \"Hora\"), dataSet12.drop(columns = \"Hora\")"
      ],
      "execution_count": 0,
      "outputs": []
    },
    {
      "metadata": {
        "id": "EOtr9pK5Nz99",
        "colab_type": "code",
        "outputId": "2e2f6e86-cc58-421e-d75a-e47887d32666",
        "colab": {
          "base_uri": "https://localhost:8080/",
          "height": 156
        }
      },
      "cell_type": "code",
      "source": [
        "#Juntando os dados em um mesmo dataframe (no caso, o dataSet00)\n",
        "for i in dataSet00.index:\n",
        "    try:\n",
        "        dataSet00[\"Prec\"].loc[i] = dataSet12[\"Prec\"].loc[i]\n",
        "        dataSet00[\"TempMin\"].loc[i] = dataSet12[\"TempMin\"].loc[i]\n",
        "    except:\n",
        "        print(\"Data \" + str(i.day) + \"/\" + str(i.month) + \"/\" + str(i.year) + \" Não encontrada!\")"
      ],
      "execution_count": 11,
      "outputs": [
        {
          "output_type": "stream",
          "text": [
            "Data 5/7/1986 Não encontrada!\n",
            "Data 20/7/1986 Não encontrada!\n",
            "Data 3/6/1989 Não encontrada!\n",
            "Data 12/6/1989 Não encontrada!\n",
            "Data 4/12/1992 Não encontrada!\n",
            "Data 26/5/2018 Não encontrada!\n",
            "Data 1/8/2018 Não encontrada!\n",
            "Data 27/10/2018 Não encontrada!\n"
          ],
          "name": "stdout"
        }
      ]
    },
    {
      "metadata": {
        "id": "ZkvEVq8aNz-M",
        "colab_type": "code",
        "outputId": "78a24773-b168-42b8-f1e0-08ef1136575d",
        "colab": {
          "base_uri": "https://localhost:8080/",
          "height": 34
        }
      },
      "cell_type": "code",
      "source": [
        "#Atribuindo à variável dataSet o DataFrame atualizado\n",
        "dataSet = dataSet00\n",
        "#Verificando dimensões do DataFrame\n",
        "print(dataSet.shape)"
      ],
      "execution_count": 12,
      "outputs": [
        {
          "output_type": "stream",
          "text": [
            "(13502, 8)\n"
          ],
          "name": "stdout"
        }
      ]
    },
    {
      "metadata": {
        "id": "jBsDkedfcZ_h",
        "colab_type": "code",
        "colab": {}
      },
      "cell_type": "code",
      "source": [
        "#Transformando a coluna Data de volta em uma coluna de informações do dataSet\n",
        "dataSet = dataSet.reset_index()"
      ],
      "execution_count": 0,
      "outputs": []
    },
    {
      "metadata": {
        "id": "XGeOl_FCqgyK",
        "colab_type": "code",
        "outputId": "9166f88a-23e4-4d7b-acee-090d4ab0dff1",
        "colab": {
          "base_uri": "https://localhost:8080/",
          "height": 34
        }
      },
      "cell_type": "code",
      "source": [
        "#Eliminando da base de dados dias que não tenham ao menos 5 das variáveis no dataSet\n",
        "#dataSet = dataSet.dropna(thresh=5)\n",
        "#Eliminando da base de dados dias com variáveis faltantes\n",
        "dataSet = dataSet.dropna()\n",
        "#Exibindo novas dimensões da base de dados\n",
        "print(dataSet.shape)"
      ],
      "execution_count": 14,
      "outputs": [
        {
          "output_type": "stream",
          "text": [
            "(13455, 9)\n"
          ],
          "name": "stdout"
        }
      ]
    },
    {
      "metadata": {
        "id": "4YfK3SJ0dQAW",
        "colab_type": "text"
      },
      "cell_type": "markdown",
      "source": [
        "# Considerando os seguintes intervalos: \n",
        "- Outono: 20 de março a 21 de junho (fechado em 20/03 e aberto em 21/06)\n",
        "- Inverno: 21 de junho a 22 de setembro (fechado em 21/06 e aberto em 22/09)\n",
        "- Primavera: de 22 de setembro a 21 de dezembro (fechado em 22/09 e aberto em 21/12)\n",
        "- Verão: de 21 de dezembro a 20 de março (fechado em 21/12 e aberto em 20/03)"
      ]
    },
    {
      "metadata": {
        "id": "dtSvce66c8zF",
        "colab_type": "code",
        "colab": {}
      },
      "cell_type": "code",
      "source": [
        "#Função que retorna a estação do ano para uma determinada data, para ser adicionada à base de dados\n",
        "def season(data):\n",
        "    if (data.month > 3 and data.month < 6) or (data.month == 3 and data.day >= 20) or (data.month == 6 and data.day < 21):\n",
        "        return \"Out\"\n",
        "    if (data.month > 6 and data.month < 9) or (data.month == 6 and data.day >= 21) or (data.month == 9 and data.day < 22):\n",
        "        return \"Inv\"\n",
        "    if (data.month > 9 and data.month < 12) or (data.month == 9 and data.day >= 22) or (data.month == 12 and data.day < 21):\n",
        "        return \"Pri\"\n",
        "    else:\n",
        "        return \"Ver\""
      ],
      "execution_count": 0,
      "outputs": []
    },
    {
      "metadata": {
        "id": "FTRevEZ9AUSe",
        "colab_type": "code",
        "colab": {}
      },
      "cell_type": "code",
      "source": [
        "#Identificando a estação do ano na base de dados e guardando a informação referente ao ano de cada dado\n",
        "estacao = []\n",
        "for i in dataSet.index:\n",
        "    estacao.insert(i, season(dataSet.loc[i, \"Data\"]))"
      ],
      "execution_count": 0,
      "outputs": []
    },
    {
      "metadata": {
        "id": "Ut_YTEMKd3Jv",
        "colab_type": "code",
        "outputId": "dedd4905-6a61-4d82-c974-89cccff8e050",
        "colab": {
          "base_uri": "https://localhost:8080/",
          "height": 86
        }
      },
      "cell_type": "code",
      "source": [
        "#Contando quantos dados existem para cada estação\n",
        "print(\"Outono: \" + str(estacao.count(\"Out\")))\n",
        "print(\"Inverno: \" + str(estacao.count(\"Inv\")))\n",
        "print(\"Primavera: \" + str(estacao.count(\"Pri\")))\n",
        "print(\"Verão: \" + str(estacao.count(\"Ver\")))"
      ],
      "execution_count": 17,
      "outputs": [
        {
          "output_type": "stream",
          "text": [
            "Outono: 3397\n",
            "Inverno: 3460\n",
            "Primavera: 3337\n",
            "Verão: 3261\n"
          ],
          "name": "stdout"
        }
      ]
    },
    {
      "metadata": {
        "id": "UbW5mMKJcojI",
        "colab_type": "code",
        "outputId": "fde282f0-aeac-48e1-b48e-eabf133a8054",
        "colab": {
          "base_uri": "https://localhost:8080/",
          "height": 206
        }
      },
      "cell_type": "code",
      "source": [
        "#Eliminando a coluna \"Data\" e visualizando dados\n",
        "dataSet = dataSet.drop(columns=\"Data\")\n",
        "dataSet.head()"
      ],
      "execution_count": 18,
      "outputs": [
        {
          "output_type": "execute_result",
          "data": {
            "text/html": [
              "<div>\n",
              "<style scoped>\n",
              "    .dataframe tbody tr th:only-of-type {\n",
              "        vertical-align: middle;\n",
              "    }\n",
              "\n",
              "    .dataframe tbody tr th {\n",
              "        vertical-align: top;\n",
              "    }\n",
              "\n",
              "    .dataframe thead th {\n",
              "        text-align: right;\n",
              "    }\n",
              "</style>\n",
              "<table border=\"1\" class=\"dataframe\">\n",
              "  <thead>\n",
              "    <tr style=\"text-align: right;\">\n",
              "      <th></th>\n",
              "      <th>Prec</th>\n",
              "      <th>TempMax</th>\n",
              "      <th>TempMin</th>\n",
              "      <th>Insolacao</th>\n",
              "      <th>EvapoPiche</th>\n",
              "      <th>TempCompMedia</th>\n",
              "      <th>UmidRelatMedia</th>\n",
              "      <th>VelocVento</th>\n",
              "    </tr>\n",
              "  </thead>\n",
              "  <tbody>\n",
              "    <tr>\n",
              "      <th>0</th>\n",
              "      <td>0.0</td>\n",
              "      <td>30.6</td>\n",
              "      <td>21.4</td>\n",
              "      <td>11.1</td>\n",
              "      <td>4.4</td>\n",
              "      <td>25.14</td>\n",
              "      <td>73.50</td>\n",
              "      <td>2.666667</td>\n",
              "    </tr>\n",
              "    <tr>\n",
              "      <th>1</th>\n",
              "      <td>0.0</td>\n",
              "      <td>31.0</td>\n",
              "      <td>19.6</td>\n",
              "      <td>11.9</td>\n",
              "      <td>6.5</td>\n",
              "      <td>24.92</td>\n",
              "      <td>74.75</td>\n",
              "      <td>1.666667</td>\n",
              "    </tr>\n",
              "    <tr>\n",
              "      <th>2</th>\n",
              "      <td>0.0</td>\n",
              "      <td>31.6</td>\n",
              "      <td>18.5</td>\n",
              "      <td>11.3</td>\n",
              "      <td>5.0</td>\n",
              "      <td>24.90</td>\n",
              "      <td>77.25</td>\n",
              "      <td>2.333333</td>\n",
              "    </tr>\n",
              "    <tr>\n",
              "      <th>3</th>\n",
              "      <td>0.0</td>\n",
              "      <td>31.2</td>\n",
              "      <td>20.7</td>\n",
              "      <td>10.3</td>\n",
              "      <td>4.0</td>\n",
              "      <td>24.82</td>\n",
              "      <td>80.75</td>\n",
              "      <td>3.666667</td>\n",
              "    </tr>\n",
              "    <tr>\n",
              "      <th>4</th>\n",
              "      <td>0.0</td>\n",
              "      <td>30.8</td>\n",
              "      <td>19.9</td>\n",
              "      <td>11.0</td>\n",
              "      <td>4.2</td>\n",
              "      <td>24.78</td>\n",
              "      <td>76.00</td>\n",
              "      <td>4.000000</td>\n",
              "    </tr>\n",
              "  </tbody>\n",
              "</table>\n",
              "</div>"
            ],
            "text/plain": [
              "   Prec  TempMax  TempMin  Insolacao  EvapoPiche  TempCompMedia  \\\n",
              "0   0.0     30.6     21.4       11.1         4.4          25.14   \n",
              "1   0.0     31.0     19.6       11.9         6.5          24.92   \n",
              "2   0.0     31.6     18.5       11.3         5.0          24.90   \n",
              "3   0.0     31.2     20.7       10.3         4.0          24.82   \n",
              "4   0.0     30.8     19.9       11.0         4.2          24.78   \n",
              "\n",
              "   UmidRelatMedia  VelocVento  \n",
              "0           73.50    2.666667  \n",
              "1           74.75    1.666667  \n",
              "2           77.25    2.333333  \n",
              "3           80.75    3.666667  \n",
              "4           76.00    4.000000  "
            ]
          },
          "metadata": {
            "tags": []
          },
          "execution_count": 18
        }
      ]
    },
    {
      "metadata": {
        "id": "oPXso2gaeUoN",
        "colab_type": "code",
        "colab": {}
      },
      "cell_type": "code",
      "source": [
        "#Decodificando as estações em uma matriz (one hot encoding - dummy variables)\n",
        "encoder = LabelEncoder()\n",
        "encoder.fit(estacao)\n",
        "encodedSeason = encoder.transform(estacao)\n",
        "dummySeason = np_utils.to_categorical(encodedSeason)"
      ],
      "execution_count": 0,
      "outputs": []
    },
    {
      "metadata": {
        "id": "z3c5JCUHqBna",
        "colab_type": "code",
        "outputId": "251c0558-7fa9-43dc-b558-3eee1978e406",
        "colab": {
          "base_uri": "https://localhost:8080/",
          "height": 104
        }
      },
      "cell_type": "code",
      "source": [
        "#Identificar como aconteceu a transformação\n",
        "auxSeason = encoder.transform([\"Inv\",\"Out\",\"Pri\",\"Ver\"])\n",
        "auxDummy = np_utils.to_categorical(auxSeason)\n",
        "print(\"[Inv,Out,Pri,Ver]\")\n",
        "print(auxDummy)"
      ],
      "execution_count": 20,
      "outputs": [
        {
          "output_type": "stream",
          "text": [
            "[Inv,Out,Pri,Ver]\n",
            "[[1. 0. 0. 0.]\n",
            " [0. 1. 0. 0.]\n",
            " [0. 0. 1. 0.]\n",
            " [0. 0. 0. 1.]]\n"
          ],
          "name": "stdout"
        }
      ]
    },
    {
      "metadata": {
        "id": "cWsOQWadAsGG",
        "colab_type": "code",
        "colab": {}
      },
      "cell_type": "code",
      "source": [
        "#Separando a variável que será prevista, precipitação, da base de dados\n",
        "prec = dataSet[\"Prec\"]\n",
        "dataSet = dataSet.drop(columns = \"Prec\")"
      ],
      "execution_count": 0,
      "outputs": []
    },
    {
      "metadata": {
        "id": "yEz1zDeWDvBs",
        "colab_type": "code",
        "colab": {}
      },
      "cell_type": "code",
      "source": [
        "#Adicionando ao dataSet as informações de estação climática\n",
        "dataSet[\"Inv\"] = dummySeason[:,0]\n",
        "dataSet[\"Out\"] = dummySeason[:,1]\n",
        "dataSet[\"Pri\"] = dummySeason[:,2]\n",
        "dataSet[\"Ver\"] = dummySeason[:,3]"
      ],
      "execution_count": 0,
      "outputs": []
    },
    {
      "metadata": {
        "id": "Y2eHNMUbET06",
        "colab_type": "code",
        "outputId": "36f22297-ff0e-4224-97ee-cb521a57cd52",
        "colab": {
          "base_uri": "https://localhost:8080/",
          "height": 206
        }
      },
      "cell_type": "code",
      "source": [
        "#Visualizando dados\n",
        "dataSet.head()"
      ],
      "execution_count": 23,
      "outputs": [
        {
          "output_type": "execute_result",
          "data": {
            "text/html": [
              "<div>\n",
              "<style scoped>\n",
              "    .dataframe tbody tr th:only-of-type {\n",
              "        vertical-align: middle;\n",
              "    }\n",
              "\n",
              "    .dataframe tbody tr th {\n",
              "        vertical-align: top;\n",
              "    }\n",
              "\n",
              "    .dataframe thead th {\n",
              "        text-align: right;\n",
              "    }\n",
              "</style>\n",
              "<table border=\"1\" class=\"dataframe\">\n",
              "  <thead>\n",
              "    <tr style=\"text-align: right;\">\n",
              "      <th></th>\n",
              "      <th>TempMax</th>\n",
              "      <th>TempMin</th>\n",
              "      <th>Insolacao</th>\n",
              "      <th>EvapoPiche</th>\n",
              "      <th>TempCompMedia</th>\n",
              "      <th>UmidRelatMedia</th>\n",
              "      <th>VelocVento</th>\n",
              "      <th>Inv</th>\n",
              "      <th>Out</th>\n",
              "      <th>Pri</th>\n",
              "      <th>Ver</th>\n",
              "    </tr>\n",
              "  </thead>\n",
              "  <tbody>\n",
              "    <tr>\n",
              "      <th>0</th>\n",
              "      <td>30.6</td>\n",
              "      <td>21.4</td>\n",
              "      <td>11.1</td>\n",
              "      <td>4.4</td>\n",
              "      <td>25.14</td>\n",
              "      <td>73.50</td>\n",
              "      <td>2.666667</td>\n",
              "      <td>0.0</td>\n",
              "      <td>0.0</td>\n",
              "      <td>0.0</td>\n",
              "      <td>1.0</td>\n",
              "    </tr>\n",
              "    <tr>\n",
              "      <th>1</th>\n",
              "      <td>31.0</td>\n",
              "      <td>19.6</td>\n",
              "      <td>11.9</td>\n",
              "      <td>6.5</td>\n",
              "      <td>24.92</td>\n",
              "      <td>74.75</td>\n",
              "      <td>1.666667</td>\n",
              "      <td>0.0</td>\n",
              "      <td>0.0</td>\n",
              "      <td>0.0</td>\n",
              "      <td>1.0</td>\n",
              "    </tr>\n",
              "    <tr>\n",
              "      <th>2</th>\n",
              "      <td>31.6</td>\n",
              "      <td>18.5</td>\n",
              "      <td>11.3</td>\n",
              "      <td>5.0</td>\n",
              "      <td>24.90</td>\n",
              "      <td>77.25</td>\n",
              "      <td>2.333333</td>\n",
              "      <td>0.0</td>\n",
              "      <td>0.0</td>\n",
              "      <td>0.0</td>\n",
              "      <td>1.0</td>\n",
              "    </tr>\n",
              "    <tr>\n",
              "      <th>3</th>\n",
              "      <td>31.2</td>\n",
              "      <td>20.7</td>\n",
              "      <td>10.3</td>\n",
              "      <td>4.0</td>\n",
              "      <td>24.82</td>\n",
              "      <td>80.75</td>\n",
              "      <td>3.666667</td>\n",
              "      <td>0.0</td>\n",
              "      <td>0.0</td>\n",
              "      <td>0.0</td>\n",
              "      <td>1.0</td>\n",
              "    </tr>\n",
              "    <tr>\n",
              "      <th>4</th>\n",
              "      <td>30.8</td>\n",
              "      <td>19.9</td>\n",
              "      <td>11.0</td>\n",
              "      <td>4.2</td>\n",
              "      <td>24.78</td>\n",
              "      <td>76.00</td>\n",
              "      <td>4.000000</td>\n",
              "      <td>0.0</td>\n",
              "      <td>0.0</td>\n",
              "      <td>0.0</td>\n",
              "      <td>1.0</td>\n",
              "    </tr>\n",
              "  </tbody>\n",
              "</table>\n",
              "</div>"
            ],
            "text/plain": [
              "   TempMax  TempMin  Insolacao  EvapoPiche  TempCompMedia  UmidRelatMedia  \\\n",
              "0     30.6     21.4       11.1         4.4          25.14           73.50   \n",
              "1     31.0     19.6       11.9         6.5          24.92           74.75   \n",
              "2     31.6     18.5       11.3         5.0          24.90           77.25   \n",
              "3     31.2     20.7       10.3         4.0          24.82           80.75   \n",
              "4     30.8     19.9       11.0         4.2          24.78           76.00   \n",
              "\n",
              "   VelocVento  Inv  Out  Pri  Ver  \n",
              "0    2.666667  0.0  0.0  0.0  1.0  \n",
              "1    1.666667  0.0  0.0  0.0  1.0  \n",
              "2    2.333333  0.0  0.0  0.0  1.0  \n",
              "3    3.666667  0.0  0.0  0.0  1.0  \n",
              "4    4.000000  0.0  0.0  0.0  1.0  "
            ]
          },
          "metadata": {
            "tags": []
          },
          "execution_count": 23
        }
      ]
    },
    {
      "metadata": {
        "id": "z-Gj0o_wnAHf",
        "colab_type": "code",
        "colab": {}
      },
      "cell_type": "code",
      "source": [
        "#Separando conjunto de treino e teste\n",
        "#X_train, X_test, Y_train, Y_test = train_test_split(dataSet, prec, test_size = 0.1, random_state = 9)"
      ],
      "execution_count": 0,
      "outputs": []
    },
    {
      "metadata": {
        "id": "q9vTWZ9PCH4H",
        "colab_type": "code",
        "colab": {}
      },
      "cell_type": "code",
      "source": [
        "#Efetuando uma transformação robusta, trabalhando com os dados entre os percentis 10 e 90\n",
        "rs = RobustScaler(quantile_range = (10.0,90.0))\n",
        "X_train = rs.fit_transform(dataSet)\n",
        "X_test = rs.transform(X_test)"
      ],
      "execution_count": 0,
      "outputs": []
    },
    {
      "metadata": {
        "id": "lkLDSlvMJ_r5",
        "colab_type": "code",
        "colab": {}
      },
      "cell_type": "code",
      "source": [
        "#Trocando dados faltantes por 0\n",
        "#dataSet = np.nan_to_num(dataSet, copy = False)\n",
        "#prec = np.nan_to_num(prec, copy = False)"
      ],
      "execution_count": 0,
      "outputs": []
    },
    {
      "metadata": {
        "id": "kMFGTMz8Kl75",
        "colab_type": "code",
        "outputId": "54c29f03-30a1-45ee-e7b9-241ea9fce711",
        "colab": {
          "base_uri": "https://localhost:8080/",
          "height": 34
        }
      },
      "cell_type": "code",
      "source": [
        "#Verificando dimensões do dataSet\n",
        "print(dataSet.shape)"
      ],
      "execution_count": 39,
      "outputs": [
        {
          "output_type": "stream",
          "text": [
            "(13455, 11)\n"
          ],
          "name": "stdout"
        }
      ]
    },
    {
      "metadata": {
        "id": "Hf3ar3QlVnKT",
        "colab_type": "code",
        "outputId": "d72865c8-86d0-4400-d50b-3e26a1254866",
        "colab": {
          "base_uri": "https://localhost:8080/",
          "height": 54
        }
      },
      "cell_type": "code",
      "source": [
        "'''#Função para avaliar o desempenho da rede\n",
        "def acerto(y_true, y_pred):\n",
        "  try:\n",
        "    print(y_true.eval())\n",
        "    total = y_true.eval()\n",
        "    acertos = 0\n",
        "\n",
        "    for i in range(total):\n",
        "      if (y_true[i] <= (y_pred[i] + 5)) and (y_true[i] >= (y_pred[i] - 5)):\n",
        "        acertos += 1\n",
        "\n",
        "    return (acertos / total)\n",
        "  except:\n",
        "    return 0\n",
        "    '''"
      ],
      "execution_count": 40,
      "outputs": [
        {
          "output_type": "execute_result",
          "data": {
            "text/plain": [
              "'#Função para avaliar o desempenho da rede\\ndef acerto(y_true, y_pred):\\n  try:\\n    print(y_true.eval())\\n    total = y_true.eval()\\n    acertos = 0\\n\\n    for i in range(total):\\n      if (y_true[i] <= (y_pred[i] + 5)) and (y_true[i] >= (y_pred[i] - 5)):\\n        acertos += 1\\n\\n    return (acertos / total)\\n  except:\\n    return 0\\n    '"
            ]
          },
          "metadata": {
            "tags": []
          },
          "execution_count": 40
        }
      ]
    },
    {
      "metadata": {
        "id": "GgM6EySIB4-I",
        "colab_type": "code",
        "colab": {}
      },
      "cell_type": "code",
      "source": [
        "#Definindo uma função para criar a MLP\n",
        "def trainMLP(optimizer='rmsprop', init='normal', units = 11, camadas = 2):    \n",
        "  #Criando o modelo\n",
        "  mlp = Sequential()\n",
        "  #Adicionando a camada de entrada\n",
        "  mlp.add(Dense(activation = 'tanh', input_dim = 11, units = units, kernel_initializer = init))\n",
        "  #Adicionando as camadas escondidas\n",
        "  for i in range(camadas):\n",
        "    mlp.add(Dense(activation = 'tanh', units = units, kernel_initializer = init))\n",
        "  #Adicionando a camada de saída\n",
        "  mlp.add(Dense(units = 1, kernel_initializer=init))    \n",
        "  # Compilando o modelo\n",
        "  mlp.compile(loss='mae',optimizer = optimizer, metrics= ['mse', 'acc'])\n",
        "  return mlp"
      ],
      "execution_count": 0,
      "outputs": []
    },
    {
      "metadata": {
        "colab_type": "code",
        "id": "eqVxoZwYVAaJ",
        "colab": {}
      },
      "cell_type": "code",
      "source": [
        "#Modelo de classificação do Keras\n",
        "estimator = KerasRegressor(build_fn=trainMLP, epochs = 400)"
      ],
      "execution_count": 0,
      "outputs": []
    },
    {
      "metadata": {
        "colab_type": "code",
        "id": "wGupNX3XU_kO",
        "colab": {}
      },
      "cell_type": "code",
      "source": [
        "#Criando o objeto para Cross Validation\n",
        "kfold = KFold(n_splits=5, shuffle=True, random_state=7)"
      ],
      "execution_count": 0,
      "outputs": []
    },
    {
      "metadata": {
        "id": "zyeaH28XAO3j",
        "colab_type": "code",
        "colab": {}
      },
      "cell_type": "code",
      "source": [
        "#Treinando a rede\n",
        "#estimator.fit(dataSet, prec)"
      ],
      "execution_count": 0,
      "outputs": []
    },
    {
      "metadata": {
        "id": "MQlUXb3SE7O-",
        "colab_type": "code",
        "colab": {}
      },
      "cell_type": "code",
      "source": [
        "#Parâmetros para o Grid Search\n",
        "parameters = {'batch_size': [20, 32],             \n",
        "              'camadas': [1,2,3]}"
      ],
      "execution_count": 0,
      "outputs": []
    },
    {
      "metadata": {
        "id": "uyU0TuUjOacd",
        "colab_type": "code",
        "colab": {}
      },
      "cell_type": "code",
      "source": [
        "grid_search = GridSearchCV(estimator = estimator, param_grid = parameters, n_jobs = -1,\n",
        "                       scoring = \"neg_mean_absolute_error\", verbose=2, cv = kfold, return_train_score = True)"
      ],
      "execution_count": 0,
      "outputs": []
    },
    {
      "metadata": {
        "id": "n3pAva5JWTUd",
        "colab_type": "code",
        "colab": {
          "base_uri": "https://localhost:8080/",
          "height": 34
        },
        "outputId": "749f84f9-eb3a-4d75-8544-148556591484"
      },
      "cell_type": "code",
      "source": [
        "prec"
      ],
      "execution_count": 47,
      "outputs": [
        {
          "output_type": "execute_result",
          "data": {
            "text/plain": [
              "array([0., 0., 0., ..., 0., 0., 0.])"
            ]
          },
          "metadata": {
            "tags": []
          },
          "execution_count": 47
        }
      ]
    },
    {
      "metadata": {
        "id": "M0yrJYODR7kb",
        "colab_type": "code",
        "colab": {
          "base_uri": "https://localhost:8080/",
          "height": 7175
        },
        "outputId": "3dc28c5b-1d87-4382-d16c-3588ff2334f1"
      },
      "cell_type": "code",
      "source": [
        "grid_result = grid_search.fit(dataSet, prec)"
      ],
      "execution_count": 48,
      "outputs": [
        {
          "output_type": "stream",
          "text": [
            "Fitting 4 folds for each of 12 candidates, totalling 48 fits\n"
          ],
          "name": "stdout"
        },
        {
          "output_type": "stream",
          "text": [
            "[Parallel(n_jobs=-1)]: Using backend LokyBackend with 2 concurrent workers.\n",
            "/usr/local/lib/python3.6/dist-packages/sklearn/externals/joblib/externals/loky/process_executor.py:706: UserWarning: A worker stopped while some jobs were given to the executor. This can be caused by a too short worker timeout or by a memory leak.\n",
            "  \"timeout or by a memory leak.\", UserWarning\n"
          ],
          "name": "stderr"
        },
        {
          "output_type": "stream",
          "text": [
            "WARNING:tensorflow:From /usr/local/lib/python3.6/dist-packages/tensorflow/python/framework/op_def_library.py:263: colocate_with (from tensorflow.python.framework.ops) is deprecated and will be removed in a future version.\n",
            "Instructions for updating:\n",
            "Colocations handled automatically by placer.\n",
            "WARNING:tensorflow:From /usr/local/lib/python3.6/dist-packages/tensorflow/python/ops/math_ops.py:3066: to_int32 (from tensorflow.python.ops.math_ops) is deprecated and will be removed in a future version.\n",
            "Instructions for updating:\n",
            "Use tf.cast instead.\n"
          ],
          "name": "stdout"
        },
        {
          "output_type": "stream",
          "text": [
            "[Parallel(n_jobs=-1)]: Done  48 out of  48 | elapsed: 48.8min finished\n"
          ],
          "name": "stderr"
        },
        {
          "output_type": "stream",
          "text": [
            "Epoch 1/200\n",
            "13455/13455 [==============================] - 1s 58us/step - loss: 4.4051 - mean_squared_error: 181.3411 - acc: 0.4150\n",
            "Epoch 2/200\n",
            "13455/13455 [==============================] - 1s 48us/step - loss: 4.3422 - mean_squared_error: 174.2241 - acc: 0.3376\n",
            "Epoch 3/200\n",
            "13455/13455 [==============================] - 1s 48us/step - loss: 4.3238 - mean_squared_error: 172.1510 - acc: 0.3255\n",
            "Epoch 4/200\n",
            "13455/13455 [==============================] - 1s 47us/step - loss: 4.3115 - mean_squared_error: 170.2712 - acc: 0.3092\n",
            "Epoch 5/200\n",
            "13455/13455 [==============================] - 1s 48us/step - loss: 4.3016 - mean_squared_error: 168.8261 - acc: 0.3015\n",
            "Epoch 6/200\n",
            "13455/13455 [==============================] - 1s 48us/step - loss: 4.2791 - mean_squared_error: 167.4509 - acc: 0.3054\n",
            "Epoch 7/200\n",
            "13455/13455 [==============================] - 1s 47us/step - loss: 4.2180 - mean_squared_error: 164.3772 - acc: 0.3318\n",
            "Epoch 8/200\n",
            "13455/13455 [==============================] - 1s 47us/step - loss: 4.1085 - mean_squared_error: 158.0862 - acc: 0.3724\n",
            "Epoch 9/200\n",
            "13455/13455 [==============================] - 1s 47us/step - loss: 4.0229 - mean_squared_error: 152.2116 - acc: 0.4001\n",
            "Epoch 10/200\n",
            "13455/13455 [==============================] - 1s 48us/step - loss: 3.9698 - mean_squared_error: 148.1182 - acc: 0.4094\n",
            "Epoch 11/200\n",
            "13455/13455 [==============================] - 1s 48us/step - loss: 3.9355 - mean_squared_error: 145.0158 - acc: 0.4111\n",
            "Epoch 12/200\n",
            "13455/13455 [==============================] - 1s 48us/step - loss: 3.9146 - mean_squared_error: 143.5658 - acc: 0.4178\n",
            "Epoch 13/200\n",
            "13455/13455 [==============================] - 1s 48us/step - loss: 3.8952 - mean_squared_error: 141.6808 - acc: 0.4214\n",
            "Epoch 14/200\n",
            "13455/13455 [==============================] - 1s 47us/step - loss: 3.8816 - mean_squared_error: 140.0660 - acc: 0.4205\n",
            "Epoch 15/200\n",
            "13455/13455 [==============================] - 1s 47us/step - loss: 3.8695 - mean_squared_error: 139.6788 - acc: 0.4256\n",
            "Epoch 16/200\n",
            "13455/13455 [==============================] - 1s 47us/step - loss: 3.8580 - mean_squared_error: 138.8641 - acc: 0.4265\n",
            "Epoch 17/200\n",
            "13455/13455 [==============================] - 1s 48us/step - loss: 3.8477 - mean_squared_error: 137.3144 - acc: 0.4282\n",
            "Epoch 18/200\n",
            "13455/13455 [==============================] - 1s 47us/step - loss: 3.8365 - mean_squared_error: 137.2266 - acc: 0.4332\n",
            "Epoch 19/200\n",
            "13455/13455 [==============================] - 1s 47us/step - loss: 3.8313 - mean_squared_error: 135.8302 - acc: 0.4331\n",
            "Epoch 20/200\n",
            "13455/13455 [==============================] - 1s 47us/step - loss: 3.8231 - mean_squared_error: 135.9400 - acc: 0.4362\n",
            "Epoch 21/200\n",
            "13455/13455 [==============================] - 1s 47us/step - loss: 3.8161 - mean_squared_error: 135.4499 - acc: 0.4369\n",
            "Epoch 22/200\n",
            "13455/13455 [==============================] - 1s 48us/step - loss: 3.8073 - mean_squared_error: 134.8333 - acc: 0.4400\n",
            "Epoch 23/200\n",
            "13455/13455 [==============================] - 1s 48us/step - loss: 3.8013 - mean_squared_error: 134.1715 - acc: 0.4436\n",
            "Epoch 24/200\n",
            "13455/13455 [==============================] - 1s 47us/step - loss: 3.7939 - mean_squared_error: 134.2792 - acc: 0.4456\n",
            "Epoch 25/200\n",
            "13455/13455 [==============================] - 1s 47us/step - loss: 3.7904 - mean_squared_error: 133.1493 - acc: 0.4491\n",
            "Epoch 26/200\n",
            "13455/13455 [==============================] - 1s 48us/step - loss: 3.7843 - mean_squared_error: 132.9957 - acc: 0.4512\n",
            "Epoch 27/200\n",
            "13455/13455 [==============================] - 1s 48us/step - loss: 3.7771 - mean_squared_error: 132.3478 - acc: 0.4541\n",
            "Epoch 28/200\n",
            "13455/13455 [==============================] - 1s 48us/step - loss: 3.7760 - mean_squared_error: 132.8464 - acc: 0.4548\n",
            "Epoch 29/200\n",
            "13455/13455 [==============================] - 1s 48us/step - loss: 3.7730 - mean_squared_error: 131.3846 - acc: 0.4557\n",
            "Epoch 30/200\n",
            "13455/13455 [==============================] - 1s 48us/step - loss: 3.7696 - mean_squared_error: 131.7541 - acc: 0.4592\n",
            "Epoch 31/200\n",
            "13455/13455 [==============================] - 1s 47us/step - loss: 3.7660 - mean_squared_error: 131.8161 - acc: 0.4630\n",
            "Epoch 32/200\n",
            "13455/13455 [==============================] - 1s 48us/step - loss: 3.7635 - mean_squared_error: 131.3220 - acc: 0.4603\n",
            "Epoch 33/200\n",
            "13455/13455 [==============================] - 1s 47us/step - loss: 3.7597 - mean_squared_error: 131.2988 - acc: 0.4601\n",
            "Epoch 34/200\n",
            "13455/13455 [==============================] - 1s 47us/step - loss: 3.7573 - mean_squared_error: 130.5035 - acc: 0.4625\n",
            "Epoch 35/200\n",
            "13455/13455 [==============================] - 1s 48us/step - loss: 3.7541 - mean_squared_error: 130.1337 - acc: 0.4637\n",
            "Epoch 36/200\n",
            "13455/13455 [==============================] - 1s 48us/step - loss: 3.7520 - mean_squared_error: 130.7702 - acc: 0.4669\n",
            "Epoch 37/200\n",
            "13455/13455 [==============================] - 1s 47us/step - loss: 3.7484 - mean_squared_error: 129.2924 - acc: 0.4663\n",
            "Epoch 38/200\n",
            "13455/13455 [==============================] - 1s 48us/step - loss: 3.7481 - mean_squared_error: 130.7731 - acc: 0.4679\n",
            "Epoch 39/200\n",
            "13455/13455 [==============================] - 1s 47us/step - loss: 3.7454 - mean_squared_error: 130.1489 - acc: 0.4679\n",
            "Epoch 40/200\n",
            "13455/13455 [==============================] - 1s 47us/step - loss: 3.7452 - mean_squared_error: 129.7111 - acc: 0.4695\n",
            "Epoch 41/200\n",
            "13455/13455 [==============================] - 1s 48us/step - loss: 3.7416 - mean_squared_error: 129.5013 - acc: 0.4693\n",
            "Epoch 42/200\n",
            "13455/13455 [==============================] - 1s 47us/step - loss: 3.7403 - mean_squared_error: 129.4253 - acc: 0.4689\n",
            "Epoch 43/200\n",
            "13455/13455 [==============================] - 1s 48us/step - loss: 3.7382 - mean_squared_error: 129.6579 - acc: 0.4691\n",
            "Epoch 44/200\n",
            "13455/13455 [==============================] - 1s 47us/step - loss: 3.7369 - mean_squared_error: 129.2548 - acc: 0.4705\n",
            "Epoch 45/200\n",
            "13455/13455 [==============================] - 1s 48us/step - loss: 3.7368 - mean_squared_error: 129.7321 - acc: 0.4710\n",
            "Epoch 46/200\n",
            "13455/13455 [==============================] - 1s 48us/step - loss: 3.7364 - mean_squared_error: 129.1203 - acc: 0.4727\n",
            "Epoch 47/200\n",
            "13455/13455 [==============================] - 1s 51us/step - loss: 3.7353 - mean_squared_error: 128.6798 - acc: 0.4722\n",
            "Epoch 48/200\n",
            "13455/13455 [==============================] - 1s 49us/step - loss: 3.7336 - mean_squared_error: 129.1638 - acc: 0.4727\n",
            "Epoch 49/200\n",
            "13455/13455 [==============================] - 1s 50us/step - loss: 3.7330 - mean_squared_error: 128.9909 - acc: 0.4716\n",
            "Epoch 50/200\n",
            "13455/13455 [==============================] - 1s 51us/step - loss: 3.7299 - mean_squared_error: 128.6629 - acc: 0.4722\n",
            "Epoch 51/200\n",
            "13455/13455 [==============================] - 1s 50us/step - loss: 3.7289 - mean_squared_error: 129.0802 - acc: 0.4748\n",
            "Epoch 52/200\n",
            "13455/13455 [==============================] - 1s 52us/step - loss: 3.7277 - mean_squared_error: 128.7164 - acc: 0.4742\n",
            "Epoch 53/200\n",
            "13455/13455 [==============================] - 1s 50us/step - loss: 3.7285 - mean_squared_error: 128.1251 - acc: 0.4757\n",
            "Epoch 54/200\n",
            "13455/13455 [==============================] - 1s 50us/step - loss: 3.7279 - mean_squared_error: 129.0775 - acc: 0.4714\n",
            "Epoch 55/200\n",
            "13455/13455 [==============================] - 1s 47us/step - loss: 3.7266 - mean_squared_error: 128.5613 - acc: 0.4742\n",
            "Epoch 56/200\n",
            "13455/13455 [==============================] - 1s 48us/step - loss: 3.7260 - mean_squared_error: 128.8935 - acc: 0.4737\n",
            "Epoch 57/200\n",
            "13455/13455 [==============================] - 1s 47us/step - loss: 3.7265 - mean_squared_error: 128.7158 - acc: 0.4748\n",
            "Epoch 58/200\n",
            "13455/13455 [==============================] - 1s 48us/step - loss: 3.7222 - mean_squared_error: 128.3742 - acc: 0.4740\n",
            "Epoch 59/200\n",
            "13455/13455 [==============================] - 1s 47us/step - loss: 3.7246 - mean_squared_error: 128.5545 - acc: 0.4746\n",
            "Epoch 60/200\n",
            "13455/13455 [==============================] - 1s 47us/step - loss: 3.7227 - mean_squared_error: 128.3934 - acc: 0.4735\n",
            "Epoch 61/200\n",
            "13455/13455 [==============================] - 1s 47us/step - loss: 3.7206 - mean_squared_error: 128.8129 - acc: 0.4740\n",
            "Epoch 62/200\n",
            "13455/13455 [==============================] - 1s 47us/step - loss: 3.7216 - mean_squared_error: 127.8862 - acc: 0.4753\n",
            "Epoch 63/200\n",
            "13455/13455 [==============================] - 1s 47us/step - loss: 3.7170 - mean_squared_error: 127.9633 - acc: 0.4764\n",
            "Epoch 64/200\n",
            "13455/13455 [==============================] - 1s 48us/step - loss: 3.7187 - mean_squared_error: 129.3053 - acc: 0.4745\n",
            "Epoch 65/200\n",
            "13455/13455 [==============================] - 1s 48us/step - loss: 3.7194 - mean_squared_error: 128.1437 - acc: 0.4744\n",
            "Epoch 66/200\n",
            "13455/13455 [==============================] - 1s 48us/step - loss: 3.7202 - mean_squared_error: 128.2803 - acc: 0.4739\n",
            "Epoch 67/200\n",
            "13455/13455 [==============================] - 1s 48us/step - loss: 3.7174 - mean_squared_error: 128.6000 - acc: 0.4770\n",
            "Epoch 68/200\n",
            "13455/13455 [==============================] - 1s 48us/step - loss: 3.7169 - mean_squared_error: 128.2393 - acc: 0.4760\n",
            "Epoch 69/200\n",
            "13455/13455 [==============================] - 1s 47us/step - loss: 3.7161 - mean_squared_error: 128.3058 - acc: 0.4749\n",
            "Epoch 70/200\n",
            "13455/13455 [==============================] - 1s 47us/step - loss: 3.7162 - mean_squared_error: 128.2025 - acc: 0.4755\n",
            "Epoch 71/200\n",
            "13455/13455 [==============================] - 1s 47us/step - loss: 3.7155 - mean_squared_error: 127.7297 - acc: 0.4759\n",
            "Epoch 72/200\n",
            "13455/13455 [==============================] - 1s 47us/step - loss: 3.7167 - mean_squared_error: 128.7684 - acc: 0.4786\n",
            "Epoch 73/200\n",
            "13455/13455 [==============================] - 1s 47us/step - loss: 3.7129 - mean_squared_error: 127.9560 - acc: 0.4750\n",
            "Epoch 74/200\n",
            "13455/13455 [==============================] - 1s 48us/step - loss: 3.7113 - mean_squared_error: 127.0575 - acc: 0.4748\n",
            "Epoch 75/200\n",
            "13455/13455 [==============================] - 1s 48us/step - loss: 3.7141 - mean_squared_error: 128.1327 - acc: 0.4747\n",
            "Epoch 76/200\n",
            "13455/13455 [==============================] - 1s 48us/step - loss: 3.7109 - mean_squared_error: 126.8992 - acc: 0.4741\n",
            "Epoch 77/200\n",
            "13455/13455 [==============================] - 1s 47us/step - loss: 3.7135 - mean_squared_error: 127.9623 - acc: 0.4747\n",
            "Epoch 78/200\n",
            "13455/13455 [==============================] - 1s 48us/step - loss: 3.7121 - mean_squared_error: 127.0595 - acc: 0.4746\n",
            "Epoch 79/200\n",
            "13455/13455 [==============================] - 1s 47us/step - loss: 3.7107 - mean_squared_error: 127.3418 - acc: 0.4752\n",
            "Epoch 80/200\n",
            "13455/13455 [==============================] - 1s 47us/step - loss: 3.7110 - mean_squared_error: 127.6940 - acc: 0.4748\n",
            "Epoch 81/200\n",
            "13455/13455 [==============================] - 1s 47us/step - loss: 3.7090 - mean_squared_error: 128.0462 - acc: 0.4769\n",
            "Epoch 82/200\n",
            "13455/13455 [==============================] - 1s 48us/step - loss: 3.7111 - mean_squared_error: 127.5668 - acc: 0.4748\n",
            "Epoch 83/200\n",
            "13455/13455 [==============================] - 1s 47us/step - loss: 3.7091 - mean_squared_error: 127.1596 - acc: 0.4751\n",
            "Epoch 84/200\n",
            "13455/13455 [==============================] - 1s 48us/step - loss: 3.7107 - mean_squared_error: 127.2153 - acc: 0.4778\n",
            "Epoch 85/200\n",
            "13455/13455 [==============================] - 1s 47us/step - loss: 3.7106 - mean_squared_error: 127.4346 - acc: 0.4771\n",
            "Epoch 86/200\n",
            "13455/13455 [==============================] - 1s 47us/step - loss: 3.7091 - mean_squared_error: 127.2550 - acc: 0.4756\n",
            "Epoch 87/200\n",
            "13455/13455 [==============================] - 1s 48us/step - loss: 3.7076 - mean_squared_error: 126.8060 - acc: 0.4781\n",
            "Epoch 88/200\n",
            "13455/13455 [==============================] - 1s 47us/step - loss: 3.7086 - mean_squared_error: 127.0743 - acc: 0.4764\n",
            "Epoch 89/200\n",
            "13455/13455 [==============================] - 1s 47us/step - loss: 3.7063 - mean_squared_error: 127.1749 - acc: 0.4758\n",
            "Epoch 90/200\n",
            "13455/13455 [==============================] - 1s 48us/step - loss: 3.7073 - mean_squared_error: 127.5912 - acc: 0.4770\n",
            "Epoch 91/200\n",
            "13455/13455 [==============================] - 1s 48us/step - loss: 3.7088 - mean_squared_error: 127.3240 - acc: 0.4770\n",
            "Epoch 92/200\n",
            "13455/13455 [==============================] - 1s 48us/step - loss: 3.7057 - mean_squared_error: 127.3931 - acc: 0.4784\n",
            "Epoch 93/200\n",
            "13455/13455 [==============================] - 1s 47us/step - loss: 3.7053 - mean_squared_error: 126.9577 - acc: 0.4776\n",
            "Epoch 94/200\n",
            "13455/13455 [==============================] - 1s 48us/step - loss: 3.7045 - mean_squared_error: 127.1968 - acc: 0.4760\n",
            "Epoch 95/200\n",
            "13455/13455 [==============================] - 1s 48us/step - loss: 3.7045 - mean_squared_error: 127.0375 - acc: 0.4775\n",
            "Epoch 96/200\n",
            "13455/13455 [==============================] - 1s 48us/step - loss: 3.7064 - mean_squared_error: 126.9260 - acc: 0.4795\n",
            "Epoch 97/200\n",
            "13455/13455 [==============================] - 1s 48us/step - loss: 3.7061 - mean_squared_error: 126.8715 - acc: 0.4766\n",
            "Epoch 98/200\n",
            "13455/13455 [==============================] - 1s 48us/step - loss: 3.7036 - mean_squared_error: 127.0965 - acc: 0.4776\n",
            "Epoch 99/200\n",
            "13455/13455 [==============================] - 1s 48us/step - loss: 3.7030 - mean_squared_error: 127.1867 - acc: 0.4763\n",
            "Epoch 100/200\n",
            "13455/13455 [==============================] - 1s 48us/step - loss: 3.7039 - mean_squared_error: 126.7720 - acc: 0.4781\n",
            "Epoch 101/200\n",
            "13455/13455 [==============================] - 1s 48us/step - loss: 3.7028 - mean_squared_error: 126.6127 - acc: 0.4773\n",
            "Epoch 102/200\n",
            "13455/13455 [==============================] - 1s 48us/step - loss: 3.7027 - mean_squared_error: 126.6394 - acc: 0.4774\n",
            "Epoch 103/200\n",
            "13455/13455 [==============================] - 1s 48us/step - loss: 3.7016 - mean_squared_error: 126.1569 - acc: 0.4751\n",
            "Epoch 104/200\n",
            "13455/13455 [==============================] - 1s 48us/step - loss: 3.7009 - mean_squared_error: 127.1306 - acc: 0.4789\n",
            "Epoch 105/200\n",
            "13455/13455 [==============================] - 1s 47us/step - loss: 3.7003 - mean_squared_error: 126.3269 - acc: 0.4784\n",
            "Epoch 106/200\n",
            "13455/13455 [==============================] - 1s 48us/step - loss: 3.7006 - mean_squared_error: 126.6989 - acc: 0.4766\n",
            "Epoch 107/200\n",
            "13455/13455 [==============================] - 1s 47us/step - loss: 3.7011 - mean_squared_error: 126.7215 - acc: 0.4751\n",
            "Epoch 108/200\n",
            "13455/13455 [==============================] - 1s 48us/step - loss: 3.7000 - mean_squared_error: 125.6880 - acc: 0.4771\n",
            "Epoch 109/200\n",
            "13455/13455 [==============================] - 1s 48us/step - loss: 3.7002 - mean_squared_error: 126.4557 - acc: 0.4778\n",
            "Epoch 110/200\n",
            "13455/13455 [==============================] - 1s 48us/step - loss: 3.7012 - mean_squared_error: 126.3810 - acc: 0.4760\n",
            "Epoch 111/200\n",
            "13455/13455 [==============================] - 1s 49us/step - loss: 3.7002 - mean_squared_error: 126.5971 - acc: 0.4768\n",
            "Epoch 112/200\n",
            "13455/13455 [==============================] - 1s 48us/step - loss: 3.7019 - mean_squared_error: 125.9895 - acc: 0.4761\n",
            "Epoch 113/200\n",
            "13455/13455 [==============================] - 1s 48us/step - loss: 3.6991 - mean_squared_error: 126.5902 - acc: 0.4768\n",
            "Epoch 114/200\n",
            "13455/13455 [==============================] - 1s 48us/step - loss: 3.7000 - mean_squared_error: 126.5818 - acc: 0.4770\n",
            "Epoch 115/200\n",
            "13455/13455 [==============================] - 1s 48us/step - loss: 3.6992 - mean_squared_error: 126.2013 - acc: 0.4774\n",
            "Epoch 116/200\n",
            "13455/13455 [==============================] - 1s 48us/step - loss: 3.6982 - mean_squared_error: 126.1888 - acc: 0.4759\n",
            "Epoch 117/200\n",
            "13455/13455 [==============================] - 1s 47us/step - loss: 3.7002 - mean_squared_error: 126.7835 - acc: 0.4777\n",
            "Epoch 118/200\n",
            "13455/13455 [==============================] - 1s 48us/step - loss: 3.6988 - mean_squared_error: 126.1680 - acc: 0.4754\n",
            "Epoch 119/200\n",
            "13455/13455 [==============================] - 1s 47us/step - loss: 3.6975 - mean_squared_error: 126.2045 - acc: 0.4757\n",
            "Epoch 120/200\n",
            "13455/13455 [==============================] - 1s 47us/step - loss: 3.6981 - mean_squared_error: 126.3086 - acc: 0.4757\n",
            "Epoch 121/200\n",
            "13455/13455 [==============================] - 1s 48us/step - loss: 3.6967 - mean_squared_error: 126.5227 - acc: 0.4780\n",
            "Epoch 122/200\n",
            "13455/13455 [==============================] - 1s 47us/step - loss: 3.6949 - mean_squared_error: 125.8601 - acc: 0.4760\n",
            "Epoch 123/200\n",
            "13455/13455 [==============================] - 1s 47us/step - loss: 3.6936 - mean_squared_error: 127.3610 - acc: 0.4800\n",
            "Epoch 124/200\n",
            "13455/13455 [==============================] - 1s 47us/step - loss: 3.6950 - mean_squared_error: 125.4155 - acc: 0.4779\n",
            "Epoch 125/200\n",
            "13455/13455 [==============================] - 1s 47us/step - loss: 3.6936 - mean_squared_error: 126.0900 - acc: 0.4763\n",
            "Epoch 126/200\n",
            "13455/13455 [==============================] - 1s 48us/step - loss: 3.6944 - mean_squared_error: 126.6339 - acc: 0.4775\n",
            "Epoch 127/200\n",
            "13455/13455 [==============================] - 1s 47us/step - loss: 3.6944 - mean_squared_error: 126.0867 - acc: 0.4787\n",
            "Epoch 128/200\n",
            "13455/13455 [==============================] - 1s 47us/step - loss: 3.6929 - mean_squared_error: 125.8675 - acc: 0.4772\n",
            "Epoch 129/200\n",
            "13455/13455 [==============================] - 1s 47us/step - loss: 3.6941 - mean_squared_error: 126.2101 - acc: 0.4777\n",
            "Epoch 130/200\n",
            "13455/13455 [==============================] - 1s 47us/step - loss: 3.6912 - mean_squared_error: 126.2057 - acc: 0.4776\n",
            "Epoch 131/200\n",
            "13455/13455 [==============================] - 1s 47us/step - loss: 3.6860 - mean_squared_error: 127.0696 - acc: 0.4759\n",
            "Epoch 132/200\n",
            "13455/13455 [==============================] - 1s 48us/step - loss: 3.6944 - mean_squared_error: 125.0232 - acc: 0.4765\n",
            "Epoch 133/200\n",
            "13455/13455 [==============================] - 1s 48us/step - loss: 3.6917 - mean_squared_error: 126.1570 - acc: 0.4772\n",
            "Epoch 134/200\n",
            "13455/13455 [==============================] - 1s 48us/step - loss: 3.6915 - mean_squared_error: 125.8638 - acc: 0.4771\n",
            "Epoch 135/200\n",
            "13455/13455 [==============================] - 1s 48us/step - loss: 3.6892 - mean_squared_error: 125.7963 - acc: 0.4763\n",
            "Epoch 136/200\n",
            "13455/13455 [==============================] - 1s 48us/step - loss: 3.6897 - mean_squared_error: 125.9197 - acc: 0.4774\n",
            "Epoch 137/200\n",
            "13455/13455 [==============================] - 1s 47us/step - loss: 3.6898 - mean_squared_error: 126.1349 - acc: 0.4768\n",
            "Epoch 138/200\n",
            "13455/13455 [==============================] - 1s 48us/step - loss: 3.6901 - mean_squared_error: 125.9233 - acc: 0.4737\n",
            "Epoch 139/200\n",
            "13455/13455 [==============================] - 1s 47us/step - loss: 3.6904 - mean_squared_error: 126.0315 - acc: 0.4760\n",
            "Epoch 140/200\n",
            "13455/13455 [==============================] - 1s 48us/step - loss: 3.6890 - mean_squared_error: 125.3503 - acc: 0.4767\n",
            "Epoch 141/200\n",
            "13455/13455 [==============================] - 1s 47us/step - loss: 3.6893 - mean_squared_error: 126.1674 - acc: 0.4783\n",
            "Epoch 142/200\n",
            "13455/13455 [==============================] - 1s 48us/step - loss: 3.6890 - mean_squared_error: 125.8995 - acc: 0.4768\n",
            "Epoch 143/200\n",
            "13455/13455 [==============================] - 1s 47us/step - loss: 3.6874 - mean_squared_error: 124.3084 - acc: 0.4777\n",
            "Epoch 144/200\n",
            "13455/13455 [==============================] - 1s 47us/step - loss: 3.6854 - mean_squared_error: 126.1170 - acc: 0.4785\n",
            "Epoch 145/200\n",
            "13455/13455 [==============================] - 1s 48us/step - loss: 3.6879 - mean_squared_error: 125.8545 - acc: 0.4775\n",
            "Epoch 146/200\n",
            "13455/13455 [==============================] - 1s 48us/step - loss: 3.6868 - mean_squared_error: 125.5957 - acc: 0.4774\n",
            "Epoch 147/200\n",
            "13455/13455 [==============================] - 1s 49us/step - loss: 3.6882 - mean_squared_error: 125.9539 - acc: 0.4774\n",
            "Epoch 148/200\n",
            "13455/13455 [==============================] - 1s 48us/step - loss: 3.6871 - mean_squared_error: 125.4530 - acc: 0.4785\n",
            "Epoch 149/200\n",
            "13455/13455 [==============================] - 1s 48us/step - loss: 3.6883 - mean_squared_error: 124.9172 - acc: 0.4762\n",
            "Epoch 150/200\n",
            "13455/13455 [==============================] - 1s 48us/step - loss: 3.6867 - mean_squared_error: 125.9841 - acc: 0.4781\n",
            "Epoch 151/200\n",
            "13455/13455 [==============================] - 1s 49us/step - loss: 3.6875 - mean_squared_error: 125.0463 - acc: 0.4761\n",
            "Epoch 152/200\n",
            "13455/13455 [==============================] - 1s 48us/step - loss: 3.6831 - mean_squared_error: 125.9730 - acc: 0.4770\n",
            "Epoch 153/200\n",
            "13455/13455 [==============================] - 1s 48us/step - loss: 3.6877 - mean_squared_error: 125.3586 - acc: 0.4759\n",
            "Epoch 154/200\n",
            "13455/13455 [==============================] - 1s 48us/step - loss: 3.6842 - mean_squared_error: 125.9691 - acc: 0.4772\n",
            "Epoch 155/200\n",
            "13455/13455 [==============================] - 1s 48us/step - loss: 3.6849 - mean_squared_error: 124.9012 - acc: 0.4747\n",
            "Epoch 156/200\n",
            "13455/13455 [==============================] - 1s 48us/step - loss: 3.6857 - mean_squared_error: 125.9124 - acc: 0.4774\n",
            "Epoch 157/200\n",
            "13455/13455 [==============================] - 1s 48us/step - loss: 3.6859 - mean_squared_error: 125.9332 - acc: 0.4779\n",
            "Epoch 158/200\n",
            "13455/13455 [==============================] - 1s 48us/step - loss: 3.6834 - mean_squared_error: 125.6023 - acc: 0.4771\n",
            "Epoch 159/200\n",
            "13455/13455 [==============================] - 1s 49us/step - loss: 3.6854 - mean_squared_error: 125.3238 - acc: 0.4765\n",
            "Epoch 160/200\n",
            "13455/13455 [==============================] - 1s 50us/step - loss: 3.6829 - mean_squared_error: 125.4843 - acc: 0.4776\n",
            "Epoch 161/200\n",
            "13455/13455 [==============================] - 1s 47us/step - loss: 3.6824 - mean_squared_error: 125.6019 - acc: 0.4760\n",
            "Epoch 162/200\n",
            "13455/13455 [==============================] - 1s 47us/step - loss: 3.6839 - mean_squared_error: 125.2370 - acc: 0.4753\n",
            "Epoch 163/200\n",
            "13455/13455 [==============================] - 1s 47us/step - loss: 3.6847 - mean_squared_error: 125.1875 - acc: 0.4786\n",
            "Epoch 164/200\n",
            "13455/13455 [==============================] - 1s 48us/step - loss: 3.6828 - mean_squared_error: 125.2256 - acc: 0.4778\n",
            "Epoch 165/200\n",
            "13455/13455 [==============================] - 1s 48us/step - loss: 3.6831 - mean_squared_error: 124.7799 - acc: 0.4750\n",
            "Epoch 166/200\n",
            "13455/13455 [==============================] - 1s 48us/step - loss: 3.6822 - mean_squared_error: 124.8320 - acc: 0.4766\n",
            "Epoch 167/200\n",
            "13455/13455 [==============================] - 1s 47us/step - loss: 3.6813 - mean_squared_error: 124.5482 - acc: 0.4768\n",
            "Epoch 168/200\n",
            "13455/13455 [==============================] - 1s 48us/step - loss: 3.6825 - mean_squared_error: 125.7183 - acc: 0.4774\n",
            "Epoch 169/200\n",
            "13455/13455 [==============================] - 1s 48us/step - loss: 3.6827 - mean_squared_error: 125.4233 - acc: 0.4738\n",
            "Epoch 170/200\n",
            "13455/13455 [==============================] - 1s 48us/step - loss: 3.6794 - mean_squared_error: 124.7082 - acc: 0.4772\n",
            "Epoch 171/200\n",
            "13455/13455 [==============================] - 1s 48us/step - loss: 3.6815 - mean_squared_error: 125.8454 - acc: 0.4752\n",
            "Epoch 172/200\n",
            "13455/13455 [==============================] - 1s 48us/step - loss: 3.6815 - mean_squared_error: 125.0553 - acc: 0.4768\n",
            "Epoch 173/200\n",
            "13455/13455 [==============================] - 1s 48us/step - loss: 3.6808 - mean_squared_error: 125.1431 - acc: 0.4755\n",
            "Epoch 174/200\n",
            "13455/13455 [==============================] - 1s 47us/step - loss: 3.6799 - mean_squared_error: 124.9883 - acc: 0.4751\n",
            "Epoch 175/200\n",
            "13455/13455 [==============================] - 1s 47us/step - loss: 3.6785 - mean_squared_error: 124.6755 - acc: 0.4771\n",
            "Epoch 176/200\n",
            "13455/13455 [==============================] - 1s 48us/step - loss: 3.6786 - mean_squared_error: 124.8277 - acc: 0.4780\n",
            "Epoch 177/200\n",
            "13455/13455 [==============================] - 1s 48us/step - loss: 3.6803 - mean_squared_error: 124.8401 - acc: 0.4757\n",
            "Epoch 178/200\n",
            "13455/13455 [==============================] - 1s 47us/step - loss: 3.6790 - mean_squared_error: 124.9283 - acc: 0.4766\n",
            "Epoch 179/200\n",
            "13455/13455 [==============================] - 1s 47us/step - loss: 3.6806 - mean_squared_error: 124.9289 - acc: 0.4760\n",
            "Epoch 180/200\n",
            "13455/13455 [==============================] - 1s 47us/step - loss: 3.6791 - mean_squared_error: 124.6007 - acc: 0.4757\n",
            "Epoch 181/200\n",
            "13455/13455 [==============================] - 1s 48us/step - loss: 3.6800 - mean_squared_error: 124.4105 - acc: 0.4745\n",
            "Epoch 182/200\n",
            "13455/13455 [==============================] - 1s 47us/step - loss: 3.6760 - mean_squared_error: 124.3011 - acc: 0.4770\n",
            "Epoch 183/200\n",
            "13455/13455 [==============================] - 1s 49us/step - loss: 3.6785 - mean_squared_error: 124.9593 - acc: 0.4764\n",
            "Epoch 184/200\n",
            "13455/13455 [==============================] - 1s 47us/step - loss: 3.6797 - mean_squared_error: 124.5899 - acc: 0.4746\n",
            "Epoch 185/200\n",
            "13455/13455 [==============================] - 1s 47us/step - loss: 3.6777 - mean_squared_error: 124.5546 - acc: 0.4740\n",
            "Epoch 186/200\n",
            "13455/13455 [==============================] - 1s 48us/step - loss: 3.6768 - mean_squared_error: 125.2394 - acc: 0.4768\n",
            "Epoch 187/200\n",
            "13455/13455 [==============================] - 1s 47us/step - loss: 3.6790 - mean_squared_error: 124.2945 - acc: 0.4763\n",
            "Epoch 188/200\n",
            "13455/13455 [==============================] - 1s 48us/step - loss: 3.6771 - mean_squared_error: 124.8631 - acc: 0.4774\n",
            "Epoch 189/200\n",
            "13455/13455 [==============================] - 1s 48us/step - loss: 3.6769 - mean_squared_error: 123.9324 - acc: 0.4766\n",
            "Epoch 190/200\n",
            "13455/13455 [==============================] - 1s 48us/step - loss: 3.6773 - mean_squared_error: 124.8720 - acc: 0.4766\n",
            "Epoch 191/200\n",
            "13455/13455 [==============================] - 1s 47us/step - loss: 3.6757 - mean_squared_error: 124.3804 - acc: 0.4758\n",
            "Epoch 192/200\n",
            "13455/13455 [==============================] - 1s 48us/step - loss: 3.6746 - mean_squared_error: 123.7920 - acc: 0.4772\n",
            "Epoch 193/200\n",
            "13455/13455 [==============================] - 1s 48us/step - loss: 3.6761 - mean_squared_error: 124.8331 - acc: 0.4766\n",
            "Epoch 194/200\n",
            "13455/13455 [==============================] - 1s 48us/step - loss: 3.6759 - mean_squared_error: 124.2382 - acc: 0.4761\n",
            "Epoch 195/200\n",
            "13455/13455 [==============================] - 1s 47us/step - loss: 3.6735 - mean_squared_error: 124.0285 - acc: 0.4754\n",
            "Epoch 196/200\n",
            "13455/13455 [==============================] - 1s 48us/step - loss: 3.6750 - mean_squared_error: 124.4616 - acc: 0.4778\n",
            "Epoch 197/200\n",
            "13455/13455 [==============================] - 1s 48us/step - loss: 3.6749 - mean_squared_error: 124.8226 - acc: 0.4786\n",
            "Epoch 198/200\n",
            "13455/13455 [==============================] - 1s 48us/step - loss: 3.6740 - mean_squared_error: 124.0439 - acc: 0.4766\n",
            "Epoch 199/200\n",
            "13455/13455 [==============================] - 1s 48us/step - loss: 3.6724 - mean_squared_error: 123.6620 - acc: 0.4774\n",
            "Epoch 200/200\n",
            "13455/13455 [==============================] - 1s 47us/step - loss: 3.6702 - mean_squared_error: 124.6215 - acc: 0.4771\n"
          ],
          "name": "stdout"
        }
      ]
    },
    {
      "metadata": {
        "id": "niuNkZazQT5L",
        "colab_type": "code",
        "colab": {
          "base_uri": "https://localhost:8080/",
          "height": 243
        },
        "outputId": "058a02f9-ecd2-4c0a-e86b-09cec848c4b2"
      },
      "cell_type": "code",
      "source": [
        "print(\"Melhor resultado: %f, usando %s\" % (grid_result.best_score_, grid_result.best_params_))\n",
        "means = grid_result.cv_results_['mean_test_score']\n",
        "stds = grid_result.cv_results_['std_test_score']\n",
        "params = grid_result.cv_results_['params']\n",
        "print(\"Resultados (Desvio padrão) {Parâmetros}\")\n",
        "for mean, stdev, param in zip(means, stds, params):\n",
        "\tprint(\"%f (%f) %r\" % (mean, stdev, param))"
      ],
      "execution_count": 49,
      "outputs": [
        {
          "output_type": "stream",
          "text": [
            "Best: -3.669920 using {'batch_size': 20, 'optimizer': 'rmsprop', 'units': 11}\n",
            "-3.683627 (0.087387) with: {'batch_size': 20, 'optimizer': 'adam', 'units': 5}\n",
            "-3.675229 (0.068590) with: {'batch_size': 20, 'optimizer': 'adam', 'units': 11}\n",
            "-3.672389 (0.087125) with: {'batch_size': 20, 'optimizer': 'adam', 'units': 22}\n",
            "-3.694954 (0.100129) with: {'batch_size': 20, 'optimizer': 'rmsprop', 'units': 5}\n",
            "-3.669920 (0.081840) with: {'batch_size': 20, 'optimizer': 'rmsprop', 'units': 11}\n",
            "-3.673383 (0.091741) with: {'batch_size': 20, 'optimizer': 'rmsprop', 'units': 22}\n",
            "-3.693413 (0.085924) with: {'batch_size': 40, 'optimizer': 'adam', 'units': 5}\n",
            "-3.680783 (0.089789) with: {'batch_size': 40, 'optimizer': 'adam', 'units': 11}\n",
            "-3.693335 (0.073886) with: {'batch_size': 40, 'optimizer': 'adam', 'units': 22}\n",
            "-3.707034 (0.088895) with: {'batch_size': 40, 'optimizer': 'rmsprop', 'units': 5}\n",
            "-3.690766 (0.080827) with: {'batch_size': 40, 'optimizer': 'rmsprop', 'units': 11}\n",
            "-3.697705 (0.094144) with: {'batch_size': 40, 'optimizer': 'rmsprop', 'units': 22}\n"
          ],
          "name": "stdout"
        }
      ]
    },
    {
      "metadata": {
        "id": "_u6GdTGCDe4C",
        "colab_type": "code",
        "colab": {
          "base_uri": "https://localhost:8080/",
          "height": 286
        },
        "outputId": "f9b434ab-f0db-4854-d911-f975608e5ed7"
      },
      "cell_type": "code",
      "source": [
        "plt.scatter(grid_search.predict(dataSet) / max(grid_search.predict(dataSet)), prec / max(prec))"
      ],
      "execution_count": 61,
      "outputs": [
        {
          "output_type": "execute_result",
          "data": {
            "text/plain": [
              "<matplotlib.collections.PathCollection at 0x7f924b872748>"
            ]
          },
          "metadata": {
            "tags": []
          },
          "execution_count": 61
        },
        {
          "output_type": "display_data",
          "data": {
            "image/png": "[encoded data removed]",
            "text/plain": [
              "<Figure size 432x288 with 1 Axes>"
            ]
          },
          "metadata": {
            "tags": []
          }
        }
      ]
    },
    {
      "metadata": {
        "id": "odMh7NI5A413",
        "colab_type": "code",
        "colab": {
          "base_uri": "https://localhost:8080/",
          "height": 52
        },
        "outputId": "6b4aeb92-453c-4b11-9b8d-9629a1010298"
      },
      "cell_type": "code",
      "source": [
        "print(np.corrcoef(prec,grid_search.predict(dataSet)))"
      ],
      "execution_count": 62,
      "outputs": [
        {
          "output_type": "stream",
          "text": [
            "[[1.         0.58658253]\n",
            " [0.58658253 1.        ]]\n"
          ],
          "name": "stdout"
        }
      ]
    },
    {
      "metadata": {
        "id": "BCuUY6uhOrOo",
        "colab_type": "code",
        "colab": {}
      },
      "cell_type": "code",
      "source": [
        ""
      ],
      "execution_count": 0,
      "outputs": []
    },
    {
      "metadata": {
        "id": "0igJgQewOzNi",
        "colab_type": "code",
        "colab": {}
      },
      "cell_type": "code",
      "source": [
        ""
      ],
      "execution_count": 0,
      "outputs": []
    },
    {
      "metadata": {
        "id": "sqBn48tfA0LJ",
        "colab_type": "code",
        "colab": {}
      },
      "cell_type": "code",
      "source": [
        ""
      ],
      "execution_count": 0,
      "outputs": []
    },
    {
      "metadata": {
        "id": "nUtJBQYeL9PE",
        "colab_type": "text"
      },
      "cell_type": "markdown",
      "source": [
        ""
      ]
    },
    {
      "metadata": {
        "id": "MnrQPE09L9HL",
        "colab_type": "text"
      },
      "cell_type": "markdown",
      "source": [
        ""
      ]
    },
    {
      "metadata": {
        "id": "jWs_JBYAfQ1q",
        "colab_type": "code",
        "colab": {}
      },
      "cell_type": "code",
      "source": [
        ""
      ],
      "execution_count": 0,
      "outputs": []
    },
    {
      "metadata": {
        "id": "I5G5bohWhXQD",
        "colab_type": "code",
        "colab": {}
      },
      "cell_type": "code",
      "source": [
        ""
      ],
      "execution_count": 0,
      "outputs": []
    },
    {
      "metadata": {
        "id": "F2rQXnA6j0Xy",
        "colab_type": "code",
        "colab": {}
      },
      "cell_type": "code",
      "source": [
        ""
      ],
      "execution_count": 0,
      "outputs": []
    },
    {
      "metadata": {
        "id": "NjwIE1hecadS",
        "colab_type": "code",
        "colab": {}
      },
      "cell_type": "code",
      "source": [
        ""
      ],
      "execution_count": 0,
      "outputs": []
    },
    {
      "metadata": {
        "id": "lSIFz0ACnboP",
        "colab_type": "code",
        "colab": {}
      },
      "cell_type": "code",
      "source": [
        ""
      ],
      "execution_count": 0,
      "outputs": []
    },
    {
      "metadata": {
        "id": "RjWaTbkQNz-x",
        "colab_type": "code",
        "colab": {}
      },
      "cell_type": "code",
      "source": [
        ""
      ],
      "execution_count": 0,
      "outputs": []
    },
    {
      "metadata": {
        "id": "5wDWbpJSNz_F",
        "colab_type": "code",
        "colab": {}
      },
      "cell_type": "code",
      "source": [
        ""
      ],
      "execution_count": 0,
      "outputs": []
    },
    {
      "metadata": {
        "id": "CPODjA6bm8P5",
        "colab_type": "code",
        "colab": {}
      },
      "cell_type": "code",
      "source": [
        ""
      ],
      "execution_count": 0,
      "outputs": []
    },
    {
      "metadata": {
        "id": "Zs74NDWBNz_r",
        "colab_type": "code",
        "colab": {}
      },
      "cell_type": "code",
      "source": [
        ""
      ],
      "execution_count": 0,
      "outputs": []
    },
    {
      "metadata": {
        "id": "w-MZq6icm7iU",
        "colab_type": "text"
      },
      "cell_type": "markdown",
      "source": [
        ""
      ]
    },
    {
      "metadata": {
        "id": "dSO-wGBBN0AA",
        "colab_type": "code",
        "colab": {}
      },
      "cell_type": "code",
      "source": [
        ""
      ],
      "execution_count": 0,
      "outputs": []
    },
    {
      "metadata": {
        "id": "D9yfrDIaN0AL",
        "colab_type": "code",
        "colab": {}
      },
      "cell_type": "code",
      "source": [
        ""
      ],
      "execution_count": 0,
      "outputs": []
    },
    {
      "metadata": {
        "id": "gWeRFuONN0Aj",
        "colab_type": "code",
        "colab": {}
      },
      "cell_type": "code",
      "source": [
        ""
      ],
      "execution_count": 0,
      "outputs": []
    },
    {
      "metadata": {
        "id": "DGjQfELKN0A7",
        "colab_type": "code",
        "colab": {}
      },
      "cell_type": "code",
      "source": [
        ""
      ],
      "execution_count": 0,
      "outputs": []
    },
    {
      "metadata": {
        "id": "Sl1HYZOnN0BO",
        "colab_type": "code",
        "colab": {}
      },
      "cell_type": "code",
      "source": [
        ""
      ],
      "execution_count": 0,
      "outputs": []
    },
    {
      "metadata": {
        "id": "I2gQRcFCN0Bi",
        "colab_type": "code",
        "colab": {}
      },
      "cell_type": "code",
      "source": [
        ""
      ],
      "execution_count": 0,
      "outputs": []
    },
    {
      "metadata": {
        "id": "9tZo25aeN0By",
        "colab_type": "code",
        "colab": {}
      },
      "cell_type": "code",
      "source": [
        ""
      ],
      "execution_count": 0,
      "outputs": []
    },
    {
      "metadata": {
        "id": "UTZYi1RvN0Cc",
        "colab_type": "code",
        "colab": {}
      },
      "cell_type": "code",
      "source": [
        ""
      ],
      "execution_count": 0,
      "outputs": []
    },
    {
      "metadata": {
        "id": "W4nk88kUN0Cn",
        "colab_type": "code",
        "colab": {}
      },
      "cell_type": "code",
      "source": [
        ""
      ],
      "execution_count": 0,
      "outputs": []
    },
    {
      "metadata": {
        "id": "SnJyaBDdN0Cu",
        "colab_type": "code",
        "colab": {}
      },
      "cell_type": "code",
      "source": [
        ""
      ],
      "execution_count": 0,
      "outputs": []
    },
    {
      "metadata": {
        "id": "0QBr8WOUN0C7",
        "colab_type": "code",
        "colab": {}
      },
      "cell_type": "code",
      "source": [
        ""
      ],
      "execution_count": 0,
      "outputs": []
    },
    {
      "metadata": {
        "id": "u6qD1wW8N0DP",
        "colab_type": "code",
        "colab": {}
      },
      "cell_type": "code",
      "source": [
        ""
      ],
      "execution_count": 0,
      "outputs": []
    },
    {
      "metadata": {
        "id": "zNKrMGCDN0DZ",
        "colab_type": "code",
        "colab": {}
      },
      "cell_type": "code",
      "source": [
        ""
      ],
      "execution_count": 0,
      "outputs": []
    },
    {
      "metadata": {
        "id": "5A7WtLZ-N0Dk",
        "colab_type": "code",
        "colab": {}
      },
      "cell_type": "code",
      "source": [
        ""
      ],
      "execution_count": 0,
      "outputs": []
    },
    {
      "metadata": {
        "id": "zq6fXXomN0D5",
        "colab_type": "code",
        "colab": {}
      },
      "cell_type": "code",
      "source": [
        ""
      ],
      "execution_count": 0,
      "outputs": []
    },
    {
      "metadata": {
        "id": "3taxcy_IN0EB",
        "colab_type": "code",
        "colab": {}
      },
      "cell_type": "code",
      "source": [
        ""
      ],
      "execution_count": 0,
      "outputs": []
    },
    {
      "metadata": {
        "id": "_RrGhlUwN0EZ",
        "colab_type": "code",
        "colab": {}
      },
      "cell_type": "code",
      "source": [
        ""
      ],
      "execution_count": 0,
      "outputs": []
    },
    {
      "metadata": {
        "id": "OA0hBJ_sN0Ei",
        "colab_type": "code",
        "colab": {}
      },
      "cell_type": "code",
      "source": [
        ""
      ],
      "execution_count": 0,
      "outputs": []
    },
    {
      "metadata": {
        "id": "ZLzM6_QyN0Eu",
        "colab_type": "code",
        "colab": {}
      },
      "cell_type": "code",
      "source": [
        ""
      ],
      "execution_count": 0,
      "outputs": []
    },
    {
      "metadata": {
        "id": "DTozMQsmN0E4",
        "colab_type": "code",
        "colab": {}
      },
      "cell_type": "code",
      "source": [
        ""
      ],
      "execution_count": 0,
      "outputs": []
    },
    {
      "metadata": {
        "id": "HbpvTMZjN0E-",
        "colab_type": "code",
        "colab": {}
      },
      "cell_type": "code",
      "source": [
        ""
      ],
      "execution_count": 0,
      "outputs": []
    }
  ]
}