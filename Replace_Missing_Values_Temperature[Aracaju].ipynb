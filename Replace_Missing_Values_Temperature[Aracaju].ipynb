{
  "nbformat": 4,
  "nbformat_minor": 0,
  "metadata": {
    "colab": {
      "name": "Replace_Missing_Values_Temperature[Aracaju].ipynb",
      "version": "0.3.2",
      "provenance": [],
      "collapsed_sections": [],
      "include_colab_link": true
    },
    "language_info": {
      "codemirror_mode": {
        "name": "ipython",
        "version": 3
      },
      "file_extension": ".py",
      "mimetype": "text/x-python",
      "name": "python",
      "nbconvert_exporter": "python",
      "pygments_lexer": "ipython3",
      "version": "3.6.8"
    },
    "kernelspec": {
      "display_name": "Python 3",
      "language": "python",
      "name": "python3"
    }
  },
  "cells": [
    {
      "cell_type": "markdown",
      "metadata": {
        "id": "view-in-github",
        "colab_type": "text"
      },
      "source": [
        "<a href=\"https://colab.research.google.com/github/gilvandrocesardemedeiros/CircuitosDigitais/blob/master/Replace_Missing_Values_Temperature%5BAracaju%5D.ipynb\" target=\"_parent\"><img src=\"https://colab.research.google.com/assets/colab-badge.svg\" alt=\"Open In Colab\"/></a>"
      ]
    },
    {
      "cell_type": "code",
      "metadata": {
        "colab_type": "code",
        "id": "27ZehESHNz63",
        "outputId": "083bb057-7fba-45b4-8458-a0d84dea97cc",
        "colab": {
          "base_uri": "https://localhost:8080/",
          "height": 34
        }
      },
      "source": [
        "#Importando bibliotecas\n",
        "import pandas as pd\n",
        "import numpy as np\n",
        "from datetime import datetime\n",
        "from keras.models import Sequential\n",
        "from keras.layers import Dense\n",
        "from keras.wrappers.scikit_learn import KerasRegressor\n",
        "from sklearn.metrics import mean_absolute_error\n",
        "from sklearn.metrics import mean_squared_error\n",
        "from sklearn.model_selection import KFold\n",
        "from sklearn.model_selection import GridSearchCV\n",
        "from sklearn.model_selection import train_test_split\n",
        "from sklearn.preprocessing import MinMaxScaler\n",
        "import matplotlib.pyplot as plt"
      ],
      "execution_count": 1,
      "outputs": [
        {
          "output_type": "stream",
          "text": [
            "Using TensorFlow backend.\n"
          ],
          "name": "stderr"
        }
      ]
    },
    {
      "cell_type": "code",
      "metadata": {
        "colab_type": "code",
        "id": "luAOhXWRbNSl",
        "colab": {}
      },
      "source": [
        "#Leitura de dados\n",
        "dataSet = pd.read_csv(\"https://raw.githubusercontent.com/gilvandrocesardemedeiros/Meteorology_replace-missing-values/master/DadosDiarios/aracajudiario.csv\",\n",
        "                      sep=';',skiprows=16)"
      ],
      "execution_count": 0,
      "outputs": []
    },
    {
      "cell_type": "code",
      "metadata": {
        "colab_type": "code",
        "id": "U2KZogNEbFyE",
        "colab": {}
      },
      "source": [
        "#Transformando data em variável do tipo datetime\n",
        "dataSet[\"Data\"] = pd.to_datetime(dataSet[\"Data\"], format = \"%d/%m/%Y\")"
      ],
      "execution_count": 0,
      "outputs": []
    },
    {
      "cell_type": "code",
      "metadata": {
        "colab_type": "code",
        "id": "50HIjpA1b_Tz",
        "outputId": "8b59cf8d-f389-4a5c-80c5-0b5e03463cdf",
        "colab": {
          "base_uri": "https://localhost:8080/",
          "height": 355
        }
      },
      "source": [
        "#Descrevendo base de dados\n",
        "dataSet.describe()"
      ],
      "execution_count": 4,
      "outputs": [
        {
          "output_type": "execute_result",
          "data": {
            "text/html": [
              "<div>\n",
              "<style scoped>\n",
              "    .dataframe tbody tr th:only-of-type {\n",
              "        vertical-align: middle;\n",
              "    }\n",
              "\n",
              "    .dataframe tbody tr th {\n",
              "        vertical-align: top;\n",
              "    }\n",
              "\n",
              "    .dataframe thead th {\n",
              "        text-align: right;\n",
              "    }\n",
              "</style>\n",
              "<table border=\"1\" class=\"dataframe\">\n",
              "  <thead>\n",
              "    <tr style=\"text-align: right;\">\n",
              "      <th></th>\n",
              "      <th>Estacao</th>\n",
              "      <th>Hora</th>\n",
              "      <th>Precipitacao</th>\n",
              "      <th>TempMaxima</th>\n",
              "      <th>TempMinima</th>\n",
              "      <th>Insolacao</th>\n",
              "      <th>Evaporacao Piche</th>\n",
              "      <th>Temp Comp Media</th>\n",
              "      <th>Umidade Relativa Media</th>\n",
              "      <th>Velocidade do Vento Media</th>\n",
              "      <th>Unnamed: 11</th>\n",
              "    </tr>\n",
              "  </thead>\n",
              "  <tbody>\n",
              "    <tr>\n",
              "      <th>count</th>\n",
              "      <td>22441.0</td>\n",
              "      <td>22441.000000</td>\n",
              "      <td>11198.000000</td>\n",
              "      <td>11210.000000</td>\n",
              "      <td>10076.000000</td>\n",
              "      <td>10767.000000</td>\n",
              "      <td>6743.000000</td>\n",
              "      <td>11071.000000</td>\n",
              "      <td>11196.000000</td>\n",
              "      <td>9385.000000</td>\n",
              "      <td>0.0</td>\n",
              "    </tr>\n",
              "    <tr>\n",
              "      <th>mean</th>\n",
              "      <td>83096.0</td>\n",
              "      <td>599.492001</td>\n",
              "      <td>3.344731</td>\n",
              "      <td>29.388662</td>\n",
              "      <td>23.116485</td>\n",
              "      <td>7.837606</td>\n",
              "      <td>3.931915</td>\n",
              "      <td>26.381604</td>\n",
              "      <td>76.868502</td>\n",
              "      <td>2.762278</td>\n",
              "      <td>NaN</td>\n",
              "    </tr>\n",
              "    <tr>\n",
              "      <th>std</th>\n",
              "      <td>0.0</td>\n",
              "      <td>600.013154</td>\n",
              "      <td>9.240869</td>\n",
              "      <td>1.402776</td>\n",
              "      <td>1.429518</td>\n",
              "      <td>3.128315</td>\n",
              "      <td>1.309769</td>\n",
              "      <td>1.263401</td>\n",
              "      <td>5.708472</td>\n",
              "      <td>1.094090</td>\n",
              "      <td>NaN</td>\n",
              "    </tr>\n",
              "    <tr>\n",
              "      <th>min</th>\n",
              "      <td>83096.0</td>\n",
              "      <td>0.000000</td>\n",
              "      <td>0.000000</td>\n",
              "      <td>23.900000</td>\n",
              "      <td>11.000000</td>\n",
              "      <td>0.000000</td>\n",
              "      <td>0.000000</td>\n",
              "      <td>19.600000</td>\n",
              "      <td>44.250000</td>\n",
              "      <td>0.000000</td>\n",
              "      <td>NaN</td>\n",
              "    </tr>\n",
              "    <tr>\n",
              "      <th>25%</th>\n",
              "      <td>83096.0</td>\n",
              "      <td>0.000000</td>\n",
              "      <td>0.000000</td>\n",
              "      <td>28.300000</td>\n",
              "      <td>22.200000</td>\n",
              "      <td>6.200000</td>\n",
              "      <td>3.100000</td>\n",
              "      <td>25.520000</td>\n",
              "      <td>73.250000</td>\n",
              "      <td>2.200000</td>\n",
              "      <td>NaN</td>\n",
              "    </tr>\n",
              "    <tr>\n",
              "      <th>50%</th>\n",
              "      <td>83096.0</td>\n",
              "      <td>0.000000</td>\n",
              "      <td>0.000000</td>\n",
              "      <td>29.500000</td>\n",
              "      <td>23.300000</td>\n",
              "      <td>8.900000</td>\n",
              "      <td>4.000000</td>\n",
              "      <td>26.520000</td>\n",
              "      <td>76.500000</td>\n",
              "      <td>2.733333</td>\n",
              "      <td>NaN</td>\n",
              "    </tr>\n",
              "    <tr>\n",
              "      <th>75%</th>\n",
              "      <td>83096.0</td>\n",
              "      <td>1200.000000</td>\n",
              "      <td>2.500000</td>\n",
              "      <td>30.400000</td>\n",
              "      <td>24.100000</td>\n",
              "      <td>10.200000</td>\n",
              "      <td>4.700000</td>\n",
              "      <td>27.320000</td>\n",
              "      <td>80.000000</td>\n",
              "      <td>3.400000</td>\n",
              "      <td>NaN</td>\n",
              "    </tr>\n",
              "    <tr>\n",
              "      <th>max</th>\n",
              "      <td>83096.0</td>\n",
              "      <td>1200.000000</td>\n",
              "      <td>157.000000</td>\n",
              "      <td>35.300000</td>\n",
              "      <td>27.100000</td>\n",
              "      <td>12.500000</td>\n",
              "      <td>18.100000</td>\n",
              "      <td>29.920000</td>\n",
              "      <td>100.000000</td>\n",
              "      <td>6.900000</td>\n",
              "      <td>NaN</td>\n",
              "    </tr>\n",
              "  </tbody>\n",
              "</table>\n",
              "</div>"
            ],
            "text/plain": [
              "       Estacao          Hora  ...  Velocidade do Vento Media  Unnamed: 11\n",
              "count  22441.0  22441.000000  ...                9385.000000          0.0\n",
              "mean   83096.0    599.492001  ...                   2.762278          NaN\n",
              "std        0.0    600.013154  ...                   1.094090          NaN\n",
              "min    83096.0      0.000000  ...                   0.000000          NaN\n",
              "25%    83096.0      0.000000  ...                   2.200000          NaN\n",
              "50%    83096.0      0.000000  ...                   2.733333          NaN\n",
              "75%    83096.0   1200.000000  ...                   3.400000          NaN\n",
              "max    83096.0   1200.000000  ...                   6.900000          NaN\n",
              "\n",
              "[8 rows x 11 columns]"
            ]
          },
          "metadata": {
            "tags": []
          },
          "execution_count": 4
        }
      ]
    },
    {
      "cell_type": "code",
      "metadata": {
        "colab_type": "code",
        "id": "4Q7RdptNNz8A",
        "outputId": "f362e8e3-bb79-4c74-d712-86de8b000c1c",
        "colab": {
          "base_uri": "https://localhost:8080/",
          "height": 241
        }
      },
      "source": [
        "#Verificando dados\n",
        "dataSet.head()"
      ],
      "execution_count": 5,
      "outputs": [
        {
          "output_type": "execute_result",
          "data": {
            "text/html": [
              "<div>\n",
              "<style scoped>\n",
              "    .dataframe tbody tr th:only-of-type {\n",
              "        vertical-align: middle;\n",
              "    }\n",
              "\n",
              "    .dataframe tbody tr th {\n",
              "        vertical-align: top;\n",
              "    }\n",
              "\n",
              "    .dataframe thead th {\n",
              "        text-align: right;\n",
              "    }\n",
              "</style>\n",
              "<table border=\"1\" class=\"dataframe\">\n",
              "  <thead>\n",
              "    <tr style=\"text-align: right;\">\n",
              "      <th></th>\n",
              "      <th>Estacao</th>\n",
              "      <th>Data</th>\n",
              "      <th>Hora</th>\n",
              "      <th>Precipitacao</th>\n",
              "      <th>TempMaxima</th>\n",
              "      <th>TempMinima</th>\n",
              "      <th>Insolacao</th>\n",
              "      <th>Evaporacao Piche</th>\n",
              "      <th>Temp Comp Media</th>\n",
              "      <th>Umidade Relativa Media</th>\n",
              "      <th>Velocidade do Vento Media</th>\n",
              "      <th>Unnamed: 11</th>\n",
              "    </tr>\n",
              "  </thead>\n",
              "  <tbody>\n",
              "    <tr>\n",
              "      <th>0</th>\n",
              "      <td>83096</td>\n",
              "      <td>1980-01-01</td>\n",
              "      <td>0</td>\n",
              "      <td>NaN</td>\n",
              "      <td>29.0</td>\n",
              "      <td>NaN</td>\n",
              "      <td>4.1</td>\n",
              "      <td>2.2</td>\n",
              "      <td>26.34</td>\n",
              "      <td>75.5</td>\n",
              "      <td>4.033333</td>\n",
              "      <td>NaN</td>\n",
              "    </tr>\n",
              "    <tr>\n",
              "      <th>1</th>\n",
              "      <td>83096</td>\n",
              "      <td>1980-01-01</td>\n",
              "      <td>1200</td>\n",
              "      <td>0.0</td>\n",
              "      <td>NaN</td>\n",
              "      <td>22.5</td>\n",
              "      <td>NaN</td>\n",
              "      <td>NaN</td>\n",
              "      <td>NaN</td>\n",
              "      <td>NaN</td>\n",
              "      <td>NaN</td>\n",
              "      <td>NaN</td>\n",
              "    </tr>\n",
              "    <tr>\n",
              "      <th>2</th>\n",
              "      <td>83096</td>\n",
              "      <td>1980-01-02</td>\n",
              "      <td>0</td>\n",
              "      <td>NaN</td>\n",
              "      <td>29.1</td>\n",
              "      <td>NaN</td>\n",
              "      <td>3.9</td>\n",
              "      <td>3.0</td>\n",
              "      <td>26.90</td>\n",
              "      <td>81.5</td>\n",
              "      <td>4.333333</td>\n",
              "      <td>NaN</td>\n",
              "    </tr>\n",
              "    <tr>\n",
              "      <th>3</th>\n",
              "      <td>83096</td>\n",
              "      <td>1980-01-02</td>\n",
              "      <td>1200</td>\n",
              "      <td>0.0</td>\n",
              "      <td>NaN</td>\n",
              "      <td>24.3</td>\n",
              "      <td>NaN</td>\n",
              "      <td>NaN</td>\n",
              "      <td>NaN</td>\n",
              "      <td>NaN</td>\n",
              "      <td>NaN</td>\n",
              "      <td>NaN</td>\n",
              "    </tr>\n",
              "    <tr>\n",
              "      <th>4</th>\n",
              "      <td>83096</td>\n",
              "      <td>1980-01-03</td>\n",
              "      <td>0</td>\n",
              "      <td>NaN</td>\n",
              "      <td>29.0</td>\n",
              "      <td>NaN</td>\n",
              "      <td>0.3</td>\n",
              "      <td>2.5</td>\n",
              "      <td>26.94</td>\n",
              "      <td>86.5</td>\n",
              "      <td>4.400000</td>\n",
              "      <td>NaN</td>\n",
              "    </tr>\n",
              "  </tbody>\n",
              "</table>\n",
              "</div>"
            ],
            "text/plain": [
              "   Estacao       Data  ...  Velocidade do Vento Media  Unnamed: 11\n",
              "0    83096 1980-01-01  ...                   4.033333          NaN\n",
              "1    83096 1980-01-01  ...                        NaN          NaN\n",
              "2    83096 1980-01-02  ...                   4.333333          NaN\n",
              "3    83096 1980-01-02  ...                        NaN          NaN\n",
              "4    83096 1980-01-03  ...                   4.400000          NaN\n",
              "\n",
              "[5 rows x 12 columns]"
            ]
          },
          "metadata": {
            "tags": []
          },
          "execution_count": 5
        }
      ]
    },
    {
      "cell_type": "code",
      "metadata": {
        "colab_type": "code",
        "id": "w7vRJrsVfUQq",
        "colab": {}
      },
      "source": [
        "#Atribuindo \"Data\" como índice para a base de dados\n",
        "dataSet = dataSet.set_index(\"Data\")"
      ],
      "execution_count": 0,
      "outputs": []
    },
    {
      "cell_type": "code",
      "metadata": {
        "colab_type": "code",
        "id": "Bljp6tdBNz8e",
        "colab": {}
      },
      "source": [
        "#Separando os dados em dois dataframes, um para as 00:00 h e outro para as 12:00 h\n",
        "dataSet00, dataSet12 = dataSet[dataSet[\"Hora\"] == 0], dataSet[dataSet[\"Hora\"] == 1200]"
      ],
      "execution_count": 0,
      "outputs": []
    },
    {
      "cell_type": "code",
      "metadata": {
        "colab_type": "code",
        "id": "VS2cw3HfcxPt",
        "colab": {}
      },
      "source": [
        "#Descartando as colunas \"Hora\", \"Estacao\" e \"Unnamed: 11\" \n",
        "dataSet00, dataSet12 = dataSet00.drop(columns = [\"Hora\", \"Estacao\", \"Unnamed: 11\"]), dataSet12.drop(columns = [\"Hora\", \"Estacao\", \"Unnamed: 11\"])"
      ],
      "execution_count": 0,
      "outputs": []
    },
    {
      "cell_type": "code",
      "metadata": {
        "colab_type": "code",
        "id": "2bh8K6NANz8r",
        "outputId": "f1f69848-7724-44a5-bdee-9969f0852038",
        "colab": {
          "base_uri": "https://localhost:8080/",
          "height": 318
        }
      },
      "source": [
        "#Verificando dataframe para os dados disponibilizados às 00:00 h\n",
        "dataSet00.describe()"
      ],
      "execution_count": 9,
      "outputs": [
        {
          "output_type": "execute_result",
          "data": {
            "text/html": [
              "<div>\n",
              "<style scoped>\n",
              "    .dataframe tbody tr th:only-of-type {\n",
              "        vertical-align: middle;\n",
              "    }\n",
              "\n",
              "    .dataframe tbody tr th {\n",
              "        vertical-align: top;\n",
              "    }\n",
              "\n",
              "    .dataframe thead th {\n",
              "        text-align: right;\n",
              "    }\n",
              "</style>\n",
              "<table border=\"1\" class=\"dataframe\">\n",
              "  <thead>\n",
              "    <tr style=\"text-align: right;\">\n",
              "      <th></th>\n",
              "      <th>Precipitacao</th>\n",
              "      <th>TempMaxima</th>\n",
              "      <th>TempMinima</th>\n",
              "      <th>Insolacao</th>\n",
              "      <th>Evaporacao Piche</th>\n",
              "      <th>Temp Comp Media</th>\n",
              "      <th>Umidade Relativa Media</th>\n",
              "      <th>Velocidade do Vento Media</th>\n",
              "    </tr>\n",
              "  </thead>\n",
              "  <tbody>\n",
              "    <tr>\n",
              "      <th>count</th>\n",
              "      <td>0.0</td>\n",
              "      <td>11210.000000</td>\n",
              "      <td>0.0</td>\n",
              "      <td>10767.000000</td>\n",
              "      <td>6743.000000</td>\n",
              "      <td>11071.000000</td>\n",
              "      <td>11196.000000</td>\n",
              "      <td>9385.000000</td>\n",
              "    </tr>\n",
              "    <tr>\n",
              "      <th>mean</th>\n",
              "      <td>NaN</td>\n",
              "      <td>29.388662</td>\n",
              "      <td>NaN</td>\n",
              "      <td>7.837606</td>\n",
              "      <td>3.931915</td>\n",
              "      <td>26.381604</td>\n",
              "      <td>76.868502</td>\n",
              "      <td>2.762278</td>\n",
              "    </tr>\n",
              "    <tr>\n",
              "      <th>std</th>\n",
              "      <td>NaN</td>\n",
              "      <td>1.402776</td>\n",
              "      <td>NaN</td>\n",
              "      <td>3.128315</td>\n",
              "      <td>1.309769</td>\n",
              "      <td>1.263401</td>\n",
              "      <td>5.708472</td>\n",
              "      <td>1.094090</td>\n",
              "    </tr>\n",
              "    <tr>\n",
              "      <th>min</th>\n",
              "      <td>NaN</td>\n",
              "      <td>23.900000</td>\n",
              "      <td>NaN</td>\n",
              "      <td>0.000000</td>\n",
              "      <td>0.000000</td>\n",
              "      <td>19.600000</td>\n",
              "      <td>44.250000</td>\n",
              "      <td>0.000000</td>\n",
              "    </tr>\n",
              "    <tr>\n",
              "      <th>25%</th>\n",
              "      <td>NaN</td>\n",
              "      <td>28.300000</td>\n",
              "      <td>NaN</td>\n",
              "      <td>6.200000</td>\n",
              "      <td>3.100000</td>\n",
              "      <td>25.520000</td>\n",
              "      <td>73.250000</td>\n",
              "      <td>2.200000</td>\n",
              "    </tr>\n",
              "    <tr>\n",
              "      <th>50%</th>\n",
              "      <td>NaN</td>\n",
              "      <td>29.500000</td>\n",
              "      <td>NaN</td>\n",
              "      <td>8.900000</td>\n",
              "      <td>4.000000</td>\n",
              "      <td>26.520000</td>\n",
              "      <td>76.500000</td>\n",
              "      <td>2.733333</td>\n",
              "    </tr>\n",
              "    <tr>\n",
              "      <th>75%</th>\n",
              "      <td>NaN</td>\n",
              "      <td>30.400000</td>\n",
              "      <td>NaN</td>\n",
              "      <td>10.200000</td>\n",
              "      <td>4.700000</td>\n",
              "      <td>27.320000</td>\n",
              "      <td>80.000000</td>\n",
              "      <td>3.400000</td>\n",
              "    </tr>\n",
              "    <tr>\n",
              "      <th>max</th>\n",
              "      <td>NaN</td>\n",
              "      <td>35.300000</td>\n",
              "      <td>NaN</td>\n",
              "      <td>12.500000</td>\n",
              "      <td>18.100000</td>\n",
              "      <td>29.920000</td>\n",
              "      <td>100.000000</td>\n",
              "      <td>6.900000</td>\n",
              "    </tr>\n",
              "  </tbody>\n",
              "</table>\n",
              "</div>"
            ],
            "text/plain": [
              "       Precipitacao  ...  Velocidade do Vento Media\n",
              "count           0.0  ...                9385.000000\n",
              "mean            NaN  ...                   2.762278\n",
              "std             NaN  ...                   1.094090\n",
              "min             NaN  ...                   0.000000\n",
              "25%             NaN  ...                   2.200000\n",
              "50%             NaN  ...                   2.733333\n",
              "75%             NaN  ...                   3.400000\n",
              "max             NaN  ...                   6.900000\n",
              "\n",
              "[8 rows x 8 columns]"
            ]
          },
          "metadata": {
            "tags": []
          },
          "execution_count": 9
        }
      ]
    },
    {
      "cell_type": "code",
      "metadata": {
        "colab_type": "code",
        "id": "edBEOHdPNz9B",
        "outputId": "fe326cea-4487-4643-d75c-22e7798eb81a",
        "colab": {
          "base_uri": "https://localhost:8080/",
          "height": 300
        }
      },
      "source": [
        "#Verificando dataframe para os dados disponibilizados às 12:00 h\n",
        "dataSet12.describe()"
      ],
      "execution_count": 10,
      "outputs": [
        {
          "output_type": "execute_result",
          "data": {
            "text/html": [
              "<div>\n",
              "<style scoped>\n",
              "    .dataframe tbody tr th:only-of-type {\n",
              "        vertical-align: middle;\n",
              "    }\n",
              "\n",
              "    .dataframe tbody tr th {\n",
              "        vertical-align: top;\n",
              "    }\n",
              "\n",
              "    .dataframe thead th {\n",
              "        text-align: right;\n",
              "    }\n",
              "</style>\n",
              "<table border=\"1\" class=\"dataframe\">\n",
              "  <thead>\n",
              "    <tr style=\"text-align: right;\">\n",
              "      <th></th>\n",
              "      <th>Precipitacao</th>\n",
              "      <th>TempMaxima</th>\n",
              "      <th>TempMinima</th>\n",
              "      <th>Insolacao</th>\n",
              "      <th>Evaporacao Piche</th>\n",
              "      <th>Temp Comp Media</th>\n",
              "      <th>Umidade Relativa Media</th>\n",
              "      <th>Velocidade do Vento Media</th>\n",
              "    </tr>\n",
              "  </thead>\n",
              "  <tbody>\n",
              "    <tr>\n",
              "      <th>count</th>\n",
              "      <td>11198.000000</td>\n",
              "      <td>0.0</td>\n",
              "      <td>10076.000000</td>\n",
              "      <td>0.0</td>\n",
              "      <td>0.0</td>\n",
              "      <td>0.0</td>\n",
              "      <td>0.0</td>\n",
              "      <td>0.0</td>\n",
              "    </tr>\n",
              "    <tr>\n",
              "      <th>mean</th>\n",
              "      <td>3.344731</td>\n",
              "      <td>NaN</td>\n",
              "      <td>23.116485</td>\n",
              "      <td>NaN</td>\n",
              "      <td>NaN</td>\n",
              "      <td>NaN</td>\n",
              "      <td>NaN</td>\n",
              "      <td>NaN</td>\n",
              "    </tr>\n",
              "    <tr>\n",
              "      <th>std</th>\n",
              "      <td>9.240869</td>\n",
              "      <td>NaN</td>\n",
              "      <td>1.429518</td>\n",
              "      <td>NaN</td>\n",
              "      <td>NaN</td>\n",
              "      <td>NaN</td>\n",
              "      <td>NaN</td>\n",
              "      <td>NaN</td>\n",
              "    </tr>\n",
              "    <tr>\n",
              "      <th>min</th>\n",
              "      <td>0.000000</td>\n",
              "      <td>NaN</td>\n",
              "      <td>11.000000</td>\n",
              "      <td>NaN</td>\n",
              "      <td>NaN</td>\n",
              "      <td>NaN</td>\n",
              "      <td>NaN</td>\n",
              "      <td>NaN</td>\n",
              "    </tr>\n",
              "    <tr>\n",
              "      <th>25%</th>\n",
              "      <td>0.000000</td>\n",
              "      <td>NaN</td>\n",
              "      <td>22.200000</td>\n",
              "      <td>NaN</td>\n",
              "      <td>NaN</td>\n",
              "      <td>NaN</td>\n",
              "      <td>NaN</td>\n",
              "      <td>NaN</td>\n",
              "    </tr>\n",
              "    <tr>\n",
              "      <th>50%</th>\n",
              "      <td>0.000000</td>\n",
              "      <td>NaN</td>\n",
              "      <td>23.300000</td>\n",
              "      <td>NaN</td>\n",
              "      <td>NaN</td>\n",
              "      <td>NaN</td>\n",
              "      <td>NaN</td>\n",
              "      <td>NaN</td>\n",
              "    </tr>\n",
              "    <tr>\n",
              "      <th>75%</th>\n",
              "      <td>2.500000</td>\n",
              "      <td>NaN</td>\n",
              "      <td>24.100000</td>\n",
              "      <td>NaN</td>\n",
              "      <td>NaN</td>\n",
              "      <td>NaN</td>\n",
              "      <td>NaN</td>\n",
              "      <td>NaN</td>\n",
              "    </tr>\n",
              "    <tr>\n",
              "      <th>max</th>\n",
              "      <td>157.000000</td>\n",
              "      <td>NaN</td>\n",
              "      <td>27.100000</td>\n",
              "      <td>NaN</td>\n",
              "      <td>NaN</td>\n",
              "      <td>NaN</td>\n",
              "      <td>NaN</td>\n",
              "      <td>NaN</td>\n",
              "    </tr>\n",
              "  </tbody>\n",
              "</table>\n",
              "</div>"
            ],
            "text/plain": [
              "       Precipitacao  ...  Velocidade do Vento Media\n",
              "count  11198.000000  ...                        0.0\n",
              "mean       3.344731  ...                        NaN\n",
              "std        9.240869  ...                        NaN\n",
              "min        0.000000  ...                        NaN\n",
              "25%        0.000000  ...                        NaN\n",
              "50%        0.000000  ...                        NaN\n",
              "75%        2.500000  ...                        NaN\n",
              "max      157.000000  ...                        NaN\n",
              "\n",
              "[8 rows x 8 columns]"
            ]
          },
          "metadata": {
            "tags": []
          },
          "execution_count": 10
        }
      ]
    },
    {
      "cell_type": "code",
      "metadata": {
        "id": "Xs_VBUYPuotW",
        "colab_type": "code",
        "colab": {}
      },
      "source": [
        "#Eliminando colunas completas por \"NaN\" em cada uma das bases de dados\n",
        "dataSet00 = dataSet00.drop(columns = [\"Precipitacao\",\"TempMinima\"])\n",
        "dataSet12 = dataSet12.drop(columns = [\"TempMaxima\",\"Insolacao\",\"Evaporacao Piche\",\"Temp Comp Media\",\"Umidade Relativa Media\",\"Velocidade do Vento Media\"])"
      ],
      "execution_count": 0,
      "outputs": []
    },
    {
      "cell_type": "code",
      "metadata": {
        "id": "9db4R2AnzSxH",
        "colab_type": "code",
        "outputId": "12968da1-e6d9-477c-9e8b-c9f3ef839d92",
        "colab": {
          "base_uri": "https://localhost:8080/",
          "height": 238
        }
      },
      "source": [
        "#Exibindo a base de dados recém filtrada para 00:00 h\n",
        "dataSet00.head()"
      ],
      "execution_count": 12,
      "outputs": [
        {
          "output_type": "execute_result",
          "data": {
            "text/html": [
              "<div>\n",
              "<style scoped>\n",
              "    .dataframe tbody tr th:only-of-type {\n",
              "        vertical-align: middle;\n",
              "    }\n",
              "\n",
              "    .dataframe tbody tr th {\n",
              "        vertical-align: top;\n",
              "    }\n",
              "\n",
              "    .dataframe thead th {\n",
              "        text-align: right;\n",
              "    }\n",
              "</style>\n",
              "<table border=\"1\" class=\"dataframe\">\n",
              "  <thead>\n",
              "    <tr style=\"text-align: right;\">\n",
              "      <th></th>\n",
              "      <th>TempMaxima</th>\n",
              "      <th>Insolacao</th>\n",
              "      <th>Evaporacao Piche</th>\n",
              "      <th>Temp Comp Media</th>\n",
              "      <th>Umidade Relativa Media</th>\n",
              "      <th>Velocidade do Vento Media</th>\n",
              "    </tr>\n",
              "    <tr>\n",
              "      <th>Data</th>\n",
              "      <th></th>\n",
              "      <th></th>\n",
              "      <th></th>\n",
              "      <th></th>\n",
              "      <th></th>\n",
              "      <th></th>\n",
              "    </tr>\n",
              "  </thead>\n",
              "  <tbody>\n",
              "    <tr>\n",
              "      <th>1980-01-01</th>\n",
              "      <td>29.0</td>\n",
              "      <td>4.1</td>\n",
              "      <td>2.2</td>\n",
              "      <td>26.34</td>\n",
              "      <td>75.50</td>\n",
              "      <td>4.033333</td>\n",
              "    </tr>\n",
              "    <tr>\n",
              "      <th>1980-01-02</th>\n",
              "      <td>29.1</td>\n",
              "      <td>3.9</td>\n",
              "      <td>3.0</td>\n",
              "      <td>26.90</td>\n",
              "      <td>81.50</td>\n",
              "      <td>4.333333</td>\n",
              "    </tr>\n",
              "    <tr>\n",
              "      <th>1980-01-03</th>\n",
              "      <td>29.0</td>\n",
              "      <td>0.3</td>\n",
              "      <td>2.5</td>\n",
              "      <td>26.94</td>\n",
              "      <td>86.50</td>\n",
              "      <td>4.400000</td>\n",
              "    </tr>\n",
              "    <tr>\n",
              "      <th>1980-01-04</th>\n",
              "      <td>28.9</td>\n",
              "      <td>3.0</td>\n",
              "      <td>1.8</td>\n",
              "      <td>25.36</td>\n",
              "      <td>87.50</td>\n",
              "      <td>3.566667</td>\n",
              "    </tr>\n",
              "    <tr>\n",
              "      <th>1980-01-05</th>\n",
              "      <td>28.8</td>\n",
              "      <td>1.2</td>\n",
              "      <td>1.5</td>\n",
              "      <td>26.02</td>\n",
              "      <td>83.25</td>\n",
              "      <td>2.166667</td>\n",
              "    </tr>\n",
              "  </tbody>\n",
              "</table>\n",
              "</div>"
            ],
            "text/plain": [
              "            TempMaxima  ...  Velocidade do Vento Media\n",
              "Data                    ...                           \n",
              "1980-01-01        29.0  ...                   4.033333\n",
              "1980-01-02        29.1  ...                   4.333333\n",
              "1980-01-03        29.0  ...                   4.400000\n",
              "1980-01-04        28.9  ...                   3.566667\n",
              "1980-01-05        28.8  ...                   2.166667\n",
              "\n",
              "[5 rows x 6 columns]"
            ]
          },
          "metadata": {
            "tags": []
          },
          "execution_count": 12
        }
      ]
    },
    {
      "cell_type": "code",
      "metadata": {
        "id": "qAoV5ljOzVW5",
        "colab_type": "code",
        "outputId": "acf8a7c5-7435-4c90-eb4b-0c393e3b43ce",
        "colab": {
          "base_uri": "https://localhost:8080/",
          "height": 238
        }
      },
      "source": [
        "#Exibindo a base de dados recém filtrada para 12:00 h\n",
        "dataSet12.head()"
      ],
      "execution_count": 13,
      "outputs": [
        {
          "output_type": "execute_result",
          "data": {
            "text/html": [
              "<div>\n",
              "<style scoped>\n",
              "    .dataframe tbody tr th:only-of-type {\n",
              "        vertical-align: middle;\n",
              "    }\n",
              "\n",
              "    .dataframe tbody tr th {\n",
              "        vertical-align: top;\n",
              "    }\n",
              "\n",
              "    .dataframe thead th {\n",
              "        text-align: right;\n",
              "    }\n",
              "</style>\n",
              "<table border=\"1\" class=\"dataframe\">\n",
              "  <thead>\n",
              "    <tr style=\"text-align: right;\">\n",
              "      <th></th>\n",
              "      <th>Precipitacao</th>\n",
              "      <th>TempMinima</th>\n",
              "    </tr>\n",
              "    <tr>\n",
              "      <th>Data</th>\n",
              "      <th></th>\n",
              "      <th></th>\n",
              "    </tr>\n",
              "  </thead>\n",
              "  <tbody>\n",
              "    <tr>\n",
              "      <th>1980-01-01</th>\n",
              "      <td>0.0</td>\n",
              "      <td>22.5</td>\n",
              "    </tr>\n",
              "    <tr>\n",
              "      <th>1980-01-02</th>\n",
              "      <td>0.0</td>\n",
              "      <td>24.3</td>\n",
              "    </tr>\n",
              "    <tr>\n",
              "      <th>1980-01-03</th>\n",
              "      <td>0.0</td>\n",
              "      <td>25.2</td>\n",
              "    </tr>\n",
              "    <tr>\n",
              "      <th>1980-01-04</th>\n",
              "      <td>12.2</td>\n",
              "      <td>25.1</td>\n",
              "    </tr>\n",
              "    <tr>\n",
              "      <th>1980-01-05</th>\n",
              "      <td>8.2</td>\n",
              "      <td>21.9</td>\n",
              "    </tr>\n",
              "  </tbody>\n",
              "</table>\n",
              "</div>"
            ],
            "text/plain": [
              "            Precipitacao  TempMinima\n",
              "Data                                \n",
              "1980-01-01           0.0        22.5\n",
              "1980-01-02           0.0        24.3\n",
              "1980-01-03           0.0        25.2\n",
              "1980-01-04          12.2        25.1\n",
              "1980-01-05           8.2        21.9"
            ]
          },
          "metadata": {
            "tags": []
          },
          "execution_count": 13
        }
      ]
    },
    {
      "cell_type": "code",
      "metadata": {
        "id": "5T6G_Hkbpgqm",
        "colab_type": "code",
        "colab": {}
      },
      "source": [
        "#Criando o intervalo completo de tempo de 01-01-1980 à 31-12-2017\n",
        "dataInicial = '1980-01-01'\n",
        "dataFinal = '2017-12-31'\n",
        "tempo = pd.date_range(dataInicial, dataFinal)\n",
        "#Atribuindo este intervalo de tempo à um dataSet provisório\n",
        "dataSetProv = pd.DataFrame()\n",
        "dataSetProv[\"Data\"] = tempo"
      ],
      "execution_count": 0,
      "outputs": []
    },
    {
      "cell_type": "code",
      "metadata": {
        "id": "LEDQSzHSsLSO",
        "colab_type": "code",
        "colab": {}
      },
      "source": [
        "#Atribuindo o índice para o dataSet provisório como sendo a coluna de datas\n",
        "dataSetProv = dataSetProv.set_index(\"Data\")"
      ],
      "execution_count": 0,
      "outputs": []
    },
    {
      "cell_type": "code",
      "metadata": {
        "id": "dzb5GKz-zwz2",
        "colab_type": "code",
        "outputId": "0b5837bd-e165-466e-ee99-ea9c4487c89e",
        "colab": {
          "base_uri": "https://localhost:8080/",
          "height": 220
        }
      },
      "source": [
        "#Visualizando o dataSet provisório\n",
        "dataSetProv.head()"
      ],
      "execution_count": 16,
      "outputs": [
        {
          "output_type": "execute_result",
          "data": {
            "text/html": [
              "<div>\n",
              "<style scoped>\n",
              "    .dataframe tbody tr th:only-of-type {\n",
              "        vertical-align: middle;\n",
              "    }\n",
              "\n",
              "    .dataframe tbody tr th {\n",
              "        vertical-align: top;\n",
              "    }\n",
              "\n",
              "    .dataframe thead th {\n",
              "        text-align: right;\n",
              "    }\n",
              "</style>\n",
              "<table border=\"1\" class=\"dataframe\">\n",
              "  <thead>\n",
              "    <tr style=\"text-align: right;\">\n",
              "      <th></th>\n",
              "    </tr>\n",
              "    <tr>\n",
              "      <th>Data</th>\n",
              "    </tr>\n",
              "  </thead>\n",
              "  <tbody>\n",
              "    <tr>\n",
              "      <th>1980-01-01</th>\n",
              "    </tr>\n",
              "    <tr>\n",
              "      <th>1980-01-02</th>\n",
              "    </tr>\n",
              "    <tr>\n",
              "      <th>1980-01-03</th>\n",
              "    </tr>\n",
              "    <tr>\n",
              "      <th>1980-01-04</th>\n",
              "    </tr>\n",
              "    <tr>\n",
              "      <th>1980-01-05</th>\n",
              "    </tr>\n",
              "  </tbody>\n",
              "</table>\n",
              "</div>"
            ],
            "text/plain": [
              "Empty DataFrame\n",
              "Columns: []\n",
              "Index: [1980-01-01 00:00:00, 1980-01-02 00:00:00, 1980-01-03 00:00:00, 1980-01-04 00:00:00, 1980-01-05 00:00:00]"
            ]
          },
          "metadata": {
            "tags": []
          },
          "execution_count": 16
        }
      ]
    },
    {
      "cell_type": "code",
      "metadata": {
        "id": "lLM2wkyGz0B7",
        "colab_type": "code",
        "colab": {}
      },
      "source": [
        "#Mesclando o dataSet provisório como sendo o resultado da junção dos dataSet00 e dataSet12\n",
        "dataSetProv = dataSetProv.join(dataSet00).join(dataSet12)"
      ],
      "execution_count": 0,
      "outputs": []
    },
    {
      "cell_type": "code",
      "metadata": {
        "id": "NmmhR9a_0arR",
        "colab_type": "code",
        "outputId": "f2496cc4-140b-4157-d9f1-afb10c567edd",
        "colab": {
          "base_uri": "https://localhost:8080/",
          "height": 255
        }
      },
      "source": [
        "#Mostrando o resultado da junção\n",
        "dataSetProv.head()"
      ],
      "execution_count": 18,
      "outputs": [
        {
          "output_type": "execute_result",
          "data": {
            "text/html": [
              "<div>\n",
              "<style scoped>\n",
              "    .dataframe tbody tr th:only-of-type {\n",
              "        vertical-align: middle;\n",
              "    }\n",
              "\n",
              "    .dataframe tbody tr th {\n",
              "        vertical-align: top;\n",
              "    }\n",
              "\n",
              "    .dataframe thead th {\n",
              "        text-align: right;\n",
              "    }\n",
              "</style>\n",
              "<table border=\"1\" class=\"dataframe\">\n",
              "  <thead>\n",
              "    <tr style=\"text-align: right;\">\n",
              "      <th></th>\n",
              "      <th>TempMaxima</th>\n",
              "      <th>Insolacao</th>\n",
              "      <th>Evaporacao Piche</th>\n",
              "      <th>Temp Comp Media</th>\n",
              "      <th>Umidade Relativa Media</th>\n",
              "      <th>Velocidade do Vento Media</th>\n",
              "      <th>Precipitacao</th>\n",
              "      <th>TempMinima</th>\n",
              "    </tr>\n",
              "    <tr>\n",
              "      <th>Data</th>\n",
              "      <th></th>\n",
              "      <th></th>\n",
              "      <th></th>\n",
              "      <th></th>\n",
              "      <th></th>\n",
              "      <th></th>\n",
              "      <th></th>\n",
              "      <th></th>\n",
              "    </tr>\n",
              "  </thead>\n",
              "  <tbody>\n",
              "    <tr>\n",
              "      <th>1980-01-01</th>\n",
              "      <td>29.0</td>\n",
              "      <td>4.1</td>\n",
              "      <td>2.2</td>\n",
              "      <td>26.34</td>\n",
              "      <td>75.50</td>\n",
              "      <td>4.033333</td>\n",
              "      <td>0.0</td>\n",
              "      <td>22.5</td>\n",
              "    </tr>\n",
              "    <tr>\n",
              "      <th>1980-01-02</th>\n",
              "      <td>29.1</td>\n",
              "      <td>3.9</td>\n",
              "      <td>3.0</td>\n",
              "      <td>26.90</td>\n",
              "      <td>81.50</td>\n",
              "      <td>4.333333</td>\n",
              "      <td>0.0</td>\n",
              "      <td>24.3</td>\n",
              "    </tr>\n",
              "    <tr>\n",
              "      <th>1980-01-03</th>\n",
              "      <td>29.0</td>\n",
              "      <td>0.3</td>\n",
              "      <td>2.5</td>\n",
              "      <td>26.94</td>\n",
              "      <td>86.50</td>\n",
              "      <td>4.400000</td>\n",
              "      <td>0.0</td>\n",
              "      <td>25.2</td>\n",
              "    </tr>\n",
              "    <tr>\n",
              "      <th>1980-01-04</th>\n",
              "      <td>28.9</td>\n",
              "      <td>3.0</td>\n",
              "      <td>1.8</td>\n",
              "      <td>25.36</td>\n",
              "      <td>87.50</td>\n",
              "      <td>3.566667</td>\n",
              "      <td>12.2</td>\n",
              "      <td>25.1</td>\n",
              "    </tr>\n",
              "    <tr>\n",
              "      <th>1980-01-05</th>\n",
              "      <td>28.8</td>\n",
              "      <td>1.2</td>\n",
              "      <td>1.5</td>\n",
              "      <td>26.02</td>\n",
              "      <td>83.25</td>\n",
              "      <td>2.166667</td>\n",
              "      <td>8.2</td>\n",
              "      <td>21.9</td>\n",
              "    </tr>\n",
              "  </tbody>\n",
              "</table>\n",
              "</div>"
            ],
            "text/plain": [
              "            TempMaxima  Insolacao  ...  Precipitacao  TempMinima\n",
              "Data                               ...                          \n",
              "1980-01-01        29.0        4.1  ...           0.0        22.5\n",
              "1980-01-02        29.1        3.9  ...           0.0        24.3\n",
              "1980-01-03        29.0        0.3  ...           0.0        25.2\n",
              "1980-01-04        28.9        3.0  ...          12.2        25.1\n",
              "1980-01-05        28.8        1.2  ...           8.2        21.9\n",
              "\n",
              "[5 rows x 8 columns]"
            ]
          },
          "metadata": {
            "tags": []
          },
          "execution_count": 18
        }
      ]
    },
    {
      "cell_type": "code",
      "metadata": {
        "id": "IA0D4QLe1HTM",
        "colab_type": "code",
        "outputId": "43cde7a1-c466-41d7-a17f-2609c8d013ac",
        "colab": {
          "base_uri": "https://localhost:8080/",
          "height": 34
        }
      },
      "source": [
        "#Quantidade de dias existentes na base de dados\n",
        "len(dataSetProv)"
      ],
      "execution_count": 19,
      "outputs": [
        {
          "output_type": "execute_result",
          "data": {
            "text/plain": [
              "13880"
            ]
          },
          "metadata": {
            "tags": []
          },
          "execution_count": 19
        }
      ]
    },
    {
      "cell_type": "code",
      "metadata": {
        "id": "1NePoHQ41Sty",
        "colab_type": "code",
        "colab": {}
      },
      "source": [
        "#Tornando o dataSet como sendo o dataSet provisório\n",
        "dataSet = dataSetProv"
      ],
      "execution_count": 0,
      "outputs": []
    },
    {
      "cell_type": "code",
      "metadata": {
        "id": "Przni-8o1h_S",
        "colab_type": "code",
        "outputId": "f24db375-1e04-4708-8283-7c0f625f2073",
        "colab": {
          "base_uri": "https://localhost:8080/",
          "height": 318
        }
      },
      "source": [
        "#Descrevendo o novo dataSet\n",
        "dataSet.describe()"
      ],
      "execution_count": 21,
      "outputs": [
        {
          "output_type": "execute_result",
          "data": {
            "text/html": [
              "<div>\n",
              "<style scoped>\n",
              "    .dataframe tbody tr th:only-of-type {\n",
              "        vertical-align: middle;\n",
              "    }\n",
              "\n",
              "    .dataframe tbody tr th {\n",
              "        vertical-align: top;\n",
              "    }\n",
              "\n",
              "    .dataframe thead th {\n",
              "        text-align: right;\n",
              "    }\n",
              "</style>\n",
              "<table border=\"1\" class=\"dataframe\">\n",
              "  <thead>\n",
              "    <tr style=\"text-align: right;\">\n",
              "      <th></th>\n",
              "      <th>TempMaxima</th>\n",
              "      <th>Insolacao</th>\n",
              "      <th>Evaporacao Piche</th>\n",
              "      <th>Temp Comp Media</th>\n",
              "      <th>Umidade Relativa Media</th>\n",
              "      <th>Velocidade do Vento Media</th>\n",
              "      <th>Precipitacao</th>\n",
              "      <th>TempMinima</th>\n",
              "    </tr>\n",
              "  </thead>\n",
              "  <tbody>\n",
              "    <tr>\n",
              "      <th>count</th>\n",
              "      <td>11210.000000</td>\n",
              "      <td>10767.000000</td>\n",
              "      <td>6743.000000</td>\n",
              "      <td>11071.000000</td>\n",
              "      <td>11196.000000</td>\n",
              "      <td>9385.000000</td>\n",
              "      <td>11198.000000</td>\n",
              "      <td>10076.000000</td>\n",
              "    </tr>\n",
              "    <tr>\n",
              "      <th>mean</th>\n",
              "      <td>29.388662</td>\n",
              "      <td>7.837606</td>\n",
              "      <td>3.931915</td>\n",
              "      <td>26.381604</td>\n",
              "      <td>76.868502</td>\n",
              "      <td>2.762278</td>\n",
              "      <td>3.344731</td>\n",
              "      <td>23.116485</td>\n",
              "    </tr>\n",
              "    <tr>\n",
              "      <th>std</th>\n",
              "      <td>1.402776</td>\n",
              "      <td>3.128315</td>\n",
              "      <td>1.309769</td>\n",
              "      <td>1.263401</td>\n",
              "      <td>5.708472</td>\n",
              "      <td>1.094090</td>\n",
              "      <td>9.240869</td>\n",
              "      <td>1.429518</td>\n",
              "    </tr>\n",
              "    <tr>\n",
              "      <th>min</th>\n",
              "      <td>23.900000</td>\n",
              "      <td>0.000000</td>\n",
              "      <td>0.000000</td>\n",
              "      <td>19.600000</td>\n",
              "      <td>44.250000</td>\n",
              "      <td>0.000000</td>\n",
              "      <td>0.000000</td>\n",
              "      <td>11.000000</td>\n",
              "    </tr>\n",
              "    <tr>\n",
              "      <th>25%</th>\n",
              "      <td>28.300000</td>\n",
              "      <td>6.200000</td>\n",
              "      <td>3.100000</td>\n",
              "      <td>25.520000</td>\n",
              "      <td>73.250000</td>\n",
              "      <td>2.200000</td>\n",
              "      <td>0.000000</td>\n",
              "      <td>22.200000</td>\n",
              "    </tr>\n",
              "    <tr>\n",
              "      <th>50%</th>\n",
              "      <td>29.500000</td>\n",
              "      <td>8.900000</td>\n",
              "      <td>4.000000</td>\n",
              "      <td>26.520000</td>\n",
              "      <td>76.500000</td>\n",
              "      <td>2.733333</td>\n",
              "      <td>0.000000</td>\n",
              "      <td>23.300000</td>\n",
              "    </tr>\n",
              "    <tr>\n",
              "      <th>75%</th>\n",
              "      <td>30.400000</td>\n",
              "      <td>10.200000</td>\n",
              "      <td>4.700000</td>\n",
              "      <td>27.320000</td>\n",
              "      <td>80.000000</td>\n",
              "      <td>3.400000</td>\n",
              "      <td>2.500000</td>\n",
              "      <td>24.100000</td>\n",
              "    </tr>\n",
              "    <tr>\n",
              "      <th>max</th>\n",
              "      <td>35.300000</td>\n",
              "      <td>12.500000</td>\n",
              "      <td>18.100000</td>\n",
              "      <td>29.920000</td>\n",
              "      <td>100.000000</td>\n",
              "      <td>6.900000</td>\n",
              "      <td>157.000000</td>\n",
              "      <td>27.100000</td>\n",
              "    </tr>\n",
              "  </tbody>\n",
              "</table>\n",
              "</div>"
            ],
            "text/plain": [
              "         TempMaxima     Insolacao  ...  Precipitacao    TempMinima\n",
              "count  11210.000000  10767.000000  ...  11198.000000  10076.000000\n",
              "mean      29.388662      7.837606  ...      3.344731     23.116485\n",
              "std        1.402776      3.128315  ...      9.240869      1.429518\n",
              "min       23.900000      0.000000  ...      0.000000     11.000000\n",
              "25%       28.300000      6.200000  ...      0.000000     22.200000\n",
              "50%       29.500000      8.900000  ...      0.000000     23.300000\n",
              "75%       30.400000     10.200000  ...      2.500000     24.100000\n",
              "max       35.300000     12.500000  ...    157.000000     27.100000\n",
              "\n",
              "[8 rows x 8 columns]"
            ]
          },
          "metadata": {
            "tags": []
          },
          "execution_count": 21
        }
      ]
    },
    {
      "cell_type": "code",
      "metadata": {
        "colab_type": "code",
        "id": "UbW5mMKJcojI",
        "outputId": "1f15799d-e53d-4784-b36d-9d158a1987ab",
        "colab": {
          "base_uri": "https://localhost:8080/",
          "height": 255
        }
      },
      "source": [
        "#Mostrando o cabeçalho do novo dataSet\n",
        "dataSet.head()"
      ],
      "execution_count": 22,
      "outputs": [
        {
          "output_type": "execute_result",
          "data": {
            "text/html": [
              "<div>\n",
              "<style scoped>\n",
              "    .dataframe tbody tr th:only-of-type {\n",
              "        vertical-align: middle;\n",
              "    }\n",
              "\n",
              "    .dataframe tbody tr th {\n",
              "        vertical-align: top;\n",
              "    }\n",
              "\n",
              "    .dataframe thead th {\n",
              "        text-align: right;\n",
              "    }\n",
              "</style>\n",
              "<table border=\"1\" class=\"dataframe\">\n",
              "  <thead>\n",
              "    <tr style=\"text-align: right;\">\n",
              "      <th></th>\n",
              "      <th>TempMaxima</th>\n",
              "      <th>Insolacao</th>\n",
              "      <th>Evaporacao Piche</th>\n",
              "      <th>Temp Comp Media</th>\n",
              "      <th>Umidade Relativa Media</th>\n",
              "      <th>Velocidade do Vento Media</th>\n",
              "      <th>Precipitacao</th>\n",
              "      <th>TempMinima</th>\n",
              "    </tr>\n",
              "    <tr>\n",
              "      <th>Data</th>\n",
              "      <th></th>\n",
              "      <th></th>\n",
              "      <th></th>\n",
              "      <th></th>\n",
              "      <th></th>\n",
              "      <th></th>\n",
              "      <th></th>\n",
              "      <th></th>\n",
              "    </tr>\n",
              "  </thead>\n",
              "  <tbody>\n",
              "    <tr>\n",
              "      <th>1980-01-01</th>\n",
              "      <td>29.0</td>\n",
              "      <td>4.1</td>\n",
              "      <td>2.2</td>\n",
              "      <td>26.34</td>\n",
              "      <td>75.50</td>\n",
              "      <td>4.033333</td>\n",
              "      <td>0.0</td>\n",
              "      <td>22.5</td>\n",
              "    </tr>\n",
              "    <tr>\n",
              "      <th>1980-01-02</th>\n",
              "      <td>29.1</td>\n",
              "      <td>3.9</td>\n",
              "      <td>3.0</td>\n",
              "      <td>26.90</td>\n",
              "      <td>81.50</td>\n",
              "      <td>4.333333</td>\n",
              "      <td>0.0</td>\n",
              "      <td>24.3</td>\n",
              "    </tr>\n",
              "    <tr>\n",
              "      <th>1980-01-03</th>\n",
              "      <td>29.0</td>\n",
              "      <td>0.3</td>\n",
              "      <td>2.5</td>\n",
              "      <td>26.94</td>\n",
              "      <td>86.50</td>\n",
              "      <td>4.400000</td>\n",
              "      <td>0.0</td>\n",
              "      <td>25.2</td>\n",
              "    </tr>\n",
              "    <tr>\n",
              "      <th>1980-01-04</th>\n",
              "      <td>28.9</td>\n",
              "      <td>3.0</td>\n",
              "      <td>1.8</td>\n",
              "      <td>25.36</td>\n",
              "      <td>87.50</td>\n",
              "      <td>3.566667</td>\n",
              "      <td>12.2</td>\n",
              "      <td>25.1</td>\n",
              "    </tr>\n",
              "    <tr>\n",
              "      <th>1980-01-05</th>\n",
              "      <td>28.8</td>\n",
              "      <td>1.2</td>\n",
              "      <td>1.5</td>\n",
              "      <td>26.02</td>\n",
              "      <td>83.25</td>\n",
              "      <td>2.166667</td>\n",
              "      <td>8.2</td>\n",
              "      <td>21.9</td>\n",
              "    </tr>\n",
              "  </tbody>\n",
              "</table>\n",
              "</div>"
            ],
            "text/plain": [
              "            TempMaxima  Insolacao  ...  Precipitacao  TempMinima\n",
              "Data                               ...                          \n",
              "1980-01-01        29.0        4.1  ...           0.0        22.5\n",
              "1980-01-02        29.1        3.9  ...           0.0        24.3\n",
              "1980-01-03        29.0        0.3  ...           0.0        25.2\n",
              "1980-01-04        28.9        3.0  ...          12.2        25.1\n",
              "1980-01-05        28.8        1.2  ...           8.2        21.9\n",
              "\n",
              "[5 rows x 8 columns]"
            ]
          },
          "metadata": {
            "tags": []
          },
          "execution_count": 22
        }
      ]
    },
    {
      "cell_type": "markdown",
      "metadata": {
        "id": "1BFETae_BXj2",
        "colab_type": "text"
      },
      "source": [
        "# Modelagem para previsão de Temperatura Máxima"
      ]
    },
    {
      "cell_type": "code",
      "metadata": {
        "colab_type": "code",
        "id": "XAkzBJk1jvPD",
        "colab": {}
      },
      "source": [
        "#Separando base de dados para treino de rede neural para previsão de temperatura máxima\n",
        "dataTreinoTempMax = dataSet.dropna(subset = [\"TempMaxima\"])"
      ],
      "execution_count": 0,
      "outputs": []
    },
    {
      "cell_type": "code",
      "metadata": {
        "colab_type": "code",
        "id": "cWsOQWadAsGG",
        "colab": {}
      },
      "source": [
        "#Separando a variável que será prevista, TempMaxima, da base de dados\n",
        "tempMax = dataTreinoTempMax[\"TempMaxima\"]\n",
        "dataTreinoTempMax = dataTreinoTempMax.drop(columns = \"TempMaxima\")"
      ],
      "execution_count": 0,
      "outputs": []
    },
    {
      "cell_type": "code",
      "metadata": {
        "colab_type": "code",
        "id": "Y2eHNMUbET06",
        "outputId": "afc48942-aba7-4c45-f845-059131e61878",
        "colab": {
          "base_uri": "https://localhost:8080/",
          "height": 238
        }
      },
      "source": [
        "#Visualizando cabeçalho dos dados para treino\n",
        "dataTreinoTempMax.head()"
      ],
      "execution_count": 25,
      "outputs": [
        {
          "output_type": "execute_result",
          "data": {
            "text/html": [
              "<div>\n",
              "<style scoped>\n",
              "    .dataframe tbody tr th:only-of-type {\n",
              "        vertical-align: middle;\n",
              "    }\n",
              "\n",
              "    .dataframe tbody tr th {\n",
              "        vertical-align: top;\n",
              "    }\n",
              "\n",
              "    .dataframe thead th {\n",
              "        text-align: right;\n",
              "    }\n",
              "</style>\n",
              "<table border=\"1\" class=\"dataframe\">\n",
              "  <thead>\n",
              "    <tr style=\"text-align: right;\">\n",
              "      <th></th>\n",
              "      <th>Insolacao</th>\n",
              "      <th>Evaporacao Piche</th>\n",
              "      <th>Temp Comp Media</th>\n",
              "      <th>Umidade Relativa Media</th>\n",
              "      <th>Velocidade do Vento Media</th>\n",
              "      <th>Precipitacao</th>\n",
              "      <th>TempMinima</th>\n",
              "    </tr>\n",
              "    <tr>\n",
              "      <th>Data</th>\n",
              "      <th></th>\n",
              "      <th></th>\n",
              "      <th></th>\n",
              "      <th></th>\n",
              "      <th></th>\n",
              "      <th></th>\n",
              "      <th></th>\n",
              "    </tr>\n",
              "  </thead>\n",
              "  <tbody>\n",
              "    <tr>\n",
              "      <th>1980-01-01</th>\n",
              "      <td>4.1</td>\n",
              "      <td>2.2</td>\n",
              "      <td>26.34</td>\n",
              "      <td>75.50</td>\n",
              "      <td>4.033333</td>\n",
              "      <td>0.0</td>\n",
              "      <td>22.5</td>\n",
              "    </tr>\n",
              "    <tr>\n",
              "      <th>1980-01-02</th>\n",
              "      <td>3.9</td>\n",
              "      <td>3.0</td>\n",
              "      <td>26.90</td>\n",
              "      <td>81.50</td>\n",
              "      <td>4.333333</td>\n",
              "      <td>0.0</td>\n",
              "      <td>24.3</td>\n",
              "    </tr>\n",
              "    <tr>\n",
              "      <th>1980-01-03</th>\n",
              "      <td>0.3</td>\n",
              "      <td>2.5</td>\n",
              "      <td>26.94</td>\n",
              "      <td>86.50</td>\n",
              "      <td>4.400000</td>\n",
              "      <td>0.0</td>\n",
              "      <td>25.2</td>\n",
              "    </tr>\n",
              "    <tr>\n",
              "      <th>1980-01-04</th>\n",
              "      <td>3.0</td>\n",
              "      <td>1.8</td>\n",
              "      <td>25.36</td>\n",
              "      <td>87.50</td>\n",
              "      <td>3.566667</td>\n",
              "      <td>12.2</td>\n",
              "      <td>25.1</td>\n",
              "    </tr>\n",
              "    <tr>\n",
              "      <th>1980-01-05</th>\n",
              "      <td>1.2</td>\n",
              "      <td>1.5</td>\n",
              "      <td>26.02</td>\n",
              "      <td>83.25</td>\n",
              "      <td>2.166667</td>\n",
              "      <td>8.2</td>\n",
              "      <td>21.9</td>\n",
              "    </tr>\n",
              "  </tbody>\n",
              "</table>\n",
              "</div>"
            ],
            "text/plain": [
              "            Insolacao  Evaporacao Piche  ...  Precipitacao  TempMinima\n",
              "Data                                     ...                          \n",
              "1980-01-01        4.1               2.2  ...           0.0        22.5\n",
              "1980-01-02        3.9               3.0  ...           0.0        24.3\n",
              "1980-01-03        0.3               2.5  ...           0.0        25.2\n",
              "1980-01-04        3.0               1.8  ...          12.2        25.1\n",
              "1980-01-05        1.2               1.5  ...           8.2        21.9\n",
              "\n",
              "[5 rows x 7 columns]"
            ]
          },
          "metadata": {
            "tags": []
          },
          "execution_count": 25
        }
      ]
    },
    {
      "cell_type": "code",
      "metadata": {
        "id": "DeWIE8gOpgru",
        "colab_type": "code",
        "outputId": "6a35c721-5c3a-4a05-b2b3-2ec723f2f8a7",
        "colab": {
          "base_uri": "https://localhost:8080/",
          "height": 139
        }
      },
      "source": [
        "#Visualizando cabeçalho das informações de temperatura \n",
        "tempMax.head()"
      ],
      "execution_count": 26,
      "outputs": [
        {
          "output_type": "execute_result",
          "data": {
            "text/plain": [
              "Data\n",
              "1980-01-01    29.0\n",
              "1980-01-02    29.1\n",
              "1980-01-03    29.0\n",
              "1980-01-04    28.9\n",
              "1980-01-05    28.8\n",
              "Name: TempMaxima, dtype: float64"
            ]
          },
          "metadata": {
            "tags": []
          },
          "execution_count": 26
        }
      ]
    },
    {
      "cell_type": "code",
      "metadata": {
        "id": "I0-DbUGapgr-",
        "colab_type": "code",
        "colab": {}
      },
      "source": [
        "#Guardando a informação de como as colunas estão distribuídas no dataFrame\n",
        "colunas = dataTreinoTempMax.columns"
      ],
      "execution_count": 0,
      "outputs": []
    },
    {
      "cell_type": "code",
      "metadata": {
        "colab_type": "code",
        "id": "zcB-8-0njm4Y",
        "colab": {}
      },
      "source": [
        "#Efetuando uma transformação que lineariza todas as informações para cada coluna entre -1 e 1\n",
        "mms = MinMaxScaler(feature_range=(-1, 1))\n",
        "dataTreinoTempMax = mms.fit_transform(dataTreinoTempMax)"
      ],
      "execution_count": 0,
      "outputs": []
    },
    {
      "cell_type": "code",
      "metadata": {
        "colab_type": "code",
        "id": "x9LE5w9AkH_q",
        "outputId": "8fa14852-4361-434c-94b8-e014a7e3989d",
        "colab": {
          "base_uri": "https://localhost:8080/",
          "height": 300
        }
      },
      "source": [
        "#Visualizando como está a base de dados para treino após a linearização\n",
        "prov = pd.DataFrame(dataTreinoTempMax)\n",
        "prov.columns = colunas\n",
        "prov.describe()"
      ],
      "execution_count": 29,
      "outputs": [
        {
          "output_type": "execute_result",
          "data": {
            "text/html": [
              "<div>\n",
              "<style scoped>\n",
              "    .dataframe tbody tr th:only-of-type {\n",
              "        vertical-align: middle;\n",
              "    }\n",
              "\n",
              "    .dataframe tbody tr th {\n",
              "        vertical-align: top;\n",
              "    }\n",
              "\n",
              "    .dataframe thead th {\n",
              "        text-align: right;\n",
              "    }\n",
              "</style>\n",
              "<table border=\"1\" class=\"dataframe\">\n",
              "  <thead>\n",
              "    <tr style=\"text-align: right;\">\n",
              "      <th></th>\n",
              "      <th>Insolacao</th>\n",
              "      <th>Evaporacao Piche</th>\n",
              "      <th>Temp Comp Media</th>\n",
              "      <th>Umidade Relativa Media</th>\n",
              "      <th>Velocidade do Vento Media</th>\n",
              "      <th>Precipitacao</th>\n",
              "      <th>TempMinima</th>\n",
              "    </tr>\n",
              "  </thead>\n",
              "  <tbody>\n",
              "    <tr>\n",
              "      <th>count</th>\n",
              "      <td>10749.000000</td>\n",
              "      <td>6733.000000</td>\n",
              "      <td>11064.000000</td>\n",
              "      <td>11183.000000</td>\n",
              "      <td>9365.000000</td>\n",
              "      <td>11178.000000</td>\n",
              "      <td>10065.000000</td>\n",
              "    </tr>\n",
              "    <tr>\n",
              "      <th>mean</th>\n",
              "      <td>0.254838</td>\n",
              "      <td>-0.565322</td>\n",
              "      <td>0.314089</td>\n",
              "      <td>0.170119</td>\n",
              "      <td>-0.198969</td>\n",
              "      <td>-0.957337</td>\n",
              "      <td>0.505041</td>\n",
              "    </tr>\n",
              "    <tr>\n",
              "      <th>std</th>\n",
              "      <td>0.499799</td>\n",
              "      <td>0.144675</td>\n",
              "      <td>0.244769</td>\n",
              "      <td>0.204843</td>\n",
              "      <td>0.316555</td>\n",
              "      <td>0.117807</td>\n",
              "      <td>0.177576</td>\n",
              "    </tr>\n",
              "    <tr>\n",
              "      <th>min</th>\n",
              "      <td>-1.000000</td>\n",
              "      <td>-1.000000</td>\n",
              "      <td>-1.000000</td>\n",
              "      <td>-1.000000</td>\n",
              "      <td>-1.000000</td>\n",
              "      <td>-1.000000</td>\n",
              "      <td>-1.000000</td>\n",
              "    </tr>\n",
              "    <tr>\n",
              "      <th>25%</th>\n",
              "      <td>-0.008000</td>\n",
              "      <td>-0.657459</td>\n",
              "      <td>0.147287</td>\n",
              "      <td>0.040359</td>\n",
              "      <td>-0.362319</td>\n",
              "      <td>-1.000000</td>\n",
              "      <td>0.391304</td>\n",
              "    </tr>\n",
              "    <tr>\n",
              "      <th>50%</th>\n",
              "      <td>0.424000</td>\n",
              "      <td>-0.558011</td>\n",
              "      <td>0.341085</td>\n",
              "      <td>0.156951</td>\n",
              "      <td>-0.207730</td>\n",
              "      <td>-1.000000</td>\n",
              "      <td>0.527950</td>\n",
              "    </tr>\n",
              "    <tr>\n",
              "      <th>75%</th>\n",
              "      <td>0.632000</td>\n",
              "      <td>-0.480663</td>\n",
              "      <td>0.496124</td>\n",
              "      <td>0.282511</td>\n",
              "      <td>-0.014493</td>\n",
              "      <td>-0.966879</td>\n",
              "      <td>0.627329</td>\n",
              "    </tr>\n",
              "    <tr>\n",
              "      <th>max</th>\n",
              "      <td>1.000000</td>\n",
              "      <td>1.000000</td>\n",
              "      <td>1.000000</td>\n",
              "      <td>1.000000</td>\n",
              "      <td>1.000000</td>\n",
              "      <td>1.000000</td>\n",
              "      <td>1.000000</td>\n",
              "    </tr>\n",
              "  </tbody>\n",
              "</table>\n",
              "</div>"
            ],
            "text/plain": [
              "          Insolacao  Evaporacao Piche  ...  Precipitacao    TempMinima\n",
              "count  10749.000000       6733.000000  ...  11178.000000  10065.000000\n",
              "mean       0.254838         -0.565322  ...     -0.957337      0.505041\n",
              "std        0.499799          0.144675  ...      0.117807      0.177576\n",
              "min       -1.000000         -1.000000  ...     -1.000000     -1.000000\n",
              "25%       -0.008000         -0.657459  ...     -1.000000      0.391304\n",
              "50%        0.424000         -0.558011  ...     -1.000000      0.527950\n",
              "75%        0.632000         -0.480663  ...     -0.966879      0.627329\n",
              "max        1.000000          1.000000  ...      1.000000      1.000000\n",
              "\n",
              "[8 rows x 7 columns]"
            ]
          },
          "metadata": {
            "tags": []
          },
          "execution_count": 29
        }
      ]
    },
    {
      "cell_type": "code",
      "metadata": {
        "colab_type": "code",
        "id": "lkLDSlvMJ_r5",
        "colab": {}
      },
      "source": [
        "#Trocando dados faltantes por 0 \n",
        "dataTreinoTempMax = np.nan_to_num(dataTreinoTempMax, copy = False)"
      ],
      "execution_count": 0,
      "outputs": []
    },
    {
      "cell_type": "code",
      "metadata": {
        "colab_type": "code",
        "id": "kMFGTMz8Kl75",
        "outputId": "97e957b8-c09d-426b-95ca-db154649569c",
        "colab": {
          "base_uri": "https://localhost:8080/",
          "height": 34
        }
      },
      "source": [
        "#Verificando dimensões do dataSet\n",
        "print(dataTreinoTempMax.shape)"
      ],
      "execution_count": 31,
      "outputs": [
        {
          "output_type": "stream",
          "text": [
            "(11210, 7)\n"
          ],
          "name": "stdout"
        }
      ]
    },
    {
      "cell_type": "code",
      "metadata": {
        "colab_type": "code",
        "id": "z-Gj0o_wnAHf",
        "colab": {}
      },
      "source": [
        "#Separando conjunto de treino e teste para previsão de temperatura máxima (90% para treino e 10% para teste)\n",
        "X_trainTempMax, X_testTempMax, Y_trainTempMax, Y_testTempMax = train_test_split(dataTreinoTempMax, tempMax, test_size = 0.1, random_state = 9)"
      ],
      "execution_count": 0,
      "outputs": []
    },
    {
      "cell_type": "code",
      "metadata": {
        "id": "J0j_xomIpgsl",
        "colab_type": "code",
        "colab": {}
      },
      "source": [
        "#Definindo uma função para criar a MLP\n",
        "def trainMLP(optimizer='adam', init='random_uniform', units = 7, camadas = 2):    \n",
        "  #Criando o modelo\n",
        "  mlp = Sequential()\n",
        "  #Adicionando a camada de entrada\n",
        "  mlp.add(Dense(activation = 'tanh', input_dim = units, units = units, kernel_initializer = init, bias_initializer='zeros'))\n",
        "  #Adicionando as camadas escondidas\n",
        "  for i in range(camadas):\n",
        "    mlp.add(Dense(activation = 'tanh', units = units, kernel_initializer = init, bias_initializer='zeros'))\n",
        "  #Adicionando a camada de saída\n",
        "  mlp.add(Dense(units = 1, kernel_initializer = init, bias_initializer='zeros'))    \n",
        "  # Compilando o modelo\n",
        "  mlp.compile(loss='mean_squared_error', optimizer = optimizer, metrics= ['mae'])\n",
        "  return mlp"
      ],
      "execution_count": 0,
      "outputs": []
    },
    {
      "cell_type": "code",
      "metadata": {
        "colab_type": "code",
        "id": "eqVxoZwYVAaJ",
        "colab": {}
      },
      "source": [
        "#Modelo de classificação do Keras\n",
        "estimator = KerasRegressor(build_fn=trainMLP, epochs = 200, verbose = 2)"
      ],
      "execution_count": 0,
      "outputs": []
    },
    {
      "cell_type": "code",
      "metadata": {
        "colab_type": "code",
        "id": "wGupNX3XU_kO",
        "colab": {}
      },
      "source": [
        "#Criando o objeto para Cross Validation\n",
        "kfold = KFold(n_splits=4, shuffle=True, random_state=5)"
      ],
      "execution_count": 0,
      "outputs": []
    },
    {
      "cell_type": "code",
      "metadata": {
        "colab_type": "code",
        "id": "MQlUXb3SE7O-",
        "colab": {}
      },
      "source": [
        "#Parâmetros para o Grid Search\n",
        "parameters = {'batch_size': [10],             \n",
        "              'camadas': [2],\n",
        "              'units': [7]}"
      ],
      "execution_count": 0,
      "outputs": []
    },
    {
      "cell_type": "code",
      "metadata": {
        "colab_type": "code",
        "id": "uyU0TuUjOacd",
        "colab": {}
      },
      "source": [
        "#Modelagem para buscar os melhores parâmetros\n",
        "grid_searchTempMax = GridSearchCV(estimator = estimator, param_grid = parameters,\n",
        "                     scoring = \"neg_mean_squared_error\", verbose=500, cv = kfold, return_train_score = True)"
      ],
      "execution_count": 0,
      "outputs": []
    },
    {
      "cell_type": "code",
      "metadata": {
        "colab_type": "code",
        "id": "M0yrJYODR7kb",
        "outputId": "2093b818-beb8-4140-c4a6-71d7258e38fb",
        "colab": {
          "base_uri": "https://localhost:8080/",
          "height": 2711
        }
      },
      "source": [
        "#Busca pelos melhores parâmetros\n",
        "grid_resultTempMax = grid_searchTempMax.fit(X_trainTempMax, Y_trainTempMax)"
      ],
      "execution_count": 0,
      "outputs": [
        {
          "output_type": "stream",
          "text": [
            "Fitting 4 folds for each of 1 candidates, totalling 4 fits\n",
            "[Parallel(n_jobs=1)]: Using backend SequentialBackend with 1 concurrent workers.\n",
            "[CV] batch_size=10, camadas=2, units=7 ...............................\n",
            "WARNING:tensorflow:From /usr/local/lib/python3.6/dist-packages/tensorflow/python/framework/op_def_library.py:263: colocate_with (from tensorflow.python.framework.ops) is deprecated and will be removed in a future version.\n",
            "Instructions for updating:\n",
            "Colocations handled automatically by placer.\n",
            "WARNING:tensorflow:From /usr/local/lib/python3.6/dist-packages/tensorflow/python/ops/math_ops.py:3066: to_int32 (from tensorflow.python.ops.math_ops) is deprecated and will be removed in a future version.\n",
            "Instructions for updating:\n",
            "Use tf.cast instead.\n",
            "Epoch 1/200\n",
            " - 1s - loss: 657.5869 - mean_absolute_error: 25.5131\n",
            "Epoch 2/200\n",
            " - 1s - loss: 381.5397 - mean_absolute_error: 19.4223\n",
            "Epoch 3/200\n",
            " - 1s - loss: 212.1122 - mean_absolute_error: 14.4348\n",
            "Epoch 4/200\n",
            " - 1s - loss: 105.3986 - mean_absolute_error: 10.1059\n",
            "Epoch 5/200\n",
            " - 1s - loss: 44.4577 - mean_absolute_error: 6.4509\n",
            "Epoch 6/200\n",
            " - 1s - loss: 15.2054 - mean_absolute_error: 3.5849\n",
            "Epoch 7/200\n",
            " - 1s - loss: 4.6586 - mean_absolute_error: 1.8004\n",
            "Epoch 8/200\n",
            " - 1s - loss: 2.2342 - mean_absolute_error: 1.2352\n",
            "Epoch 9/200\n",
            " - 1s - loss: 1.9564 - mean_absolute_error: 1.1527\n",
            "Epoch 10/200\n",
            " - 1s - loss: 1.9447 - mean_absolute_error: 1.1465\n",
            "Epoch 11/200\n",
            " - 1s - loss: 1.9450 - mean_absolute_error: 1.1458\n",
            "Epoch 12/200\n",
            " - 1s - loss: 1.9449 - mean_absolute_error: 1.1460\n",
            "Epoch 13/200\n",
            " - 1s - loss: 1.9446 - mean_absolute_error: 1.1455\n",
            "Epoch 14/200\n",
            " - 1s - loss: 2.1527 - mean_absolute_error: 1.1493\n",
            "Epoch 15/200\n",
            " - 1s - loss: 1.9392 - mean_absolute_error: 1.1449\n",
            "Epoch 16/200\n",
            " - 1s - loss: 1.9384 - mean_absolute_error: 1.1448\n",
            "Epoch 17/200\n",
            " - 1s - loss: 1.9357 - mean_absolute_error: 1.1437\n",
            "Epoch 18/200\n",
            " - 1s - loss: 1.9287 - mean_absolute_error: 1.1418\n",
            "Epoch 19/200\n",
            " - 1s - loss: 1.7265 - mean_absolute_error: 1.0798\n",
            "Epoch 20/200\n",
            " - 1s - loss: 1.2246 - mean_absolute_error: 0.8932\n",
            "Epoch 21/200\n",
            " - 1s - loss: 0.8119 - mean_absolute_error: 0.6951\n",
            "Epoch 22/200\n",
            " - 1s - loss: 0.6303 - mean_absolute_error: 0.5982\n",
            "Epoch 23/200\n",
            " - 1s - loss: 0.5339 - mean_absolute_error: 0.5488\n",
            "Epoch 24/200\n",
            " - 1s - loss: 0.4709 - mean_absolute_error: 0.5217\n",
            "Epoch 25/200\n",
            " - 1s - loss: 0.4200 - mean_absolute_error: 0.4942\n",
            "Epoch 26/200\n",
            " - 1s - loss: 0.3866 - mean_absolute_error: 0.4771\n",
            "Epoch 27/200\n",
            " - 1s - loss: 0.3646 - mean_absolute_error: 0.4636\n",
            "Epoch 28/200\n",
            " - 1s - loss: 0.3571 - mean_absolute_error: 0.4601\n",
            "Epoch 29/200\n",
            " - 1s - loss: 0.3539 - mean_absolute_error: 0.4586\n",
            "Epoch 30/200\n",
            " - 1s - loss: 0.3563 - mean_absolute_error: 0.4595\n",
            "Epoch 31/200\n",
            " - 1s - loss: 0.3473 - mean_absolute_error: 0.4539\n",
            "Epoch 32/200\n",
            " - 1s - loss: 0.3437 - mean_absolute_error: 0.4523\n",
            "Epoch 33/200\n",
            " - 1s - loss: 0.3423 - mean_absolute_error: 0.4524\n",
            "Epoch 34/200\n",
            " - 1s - loss: 0.3425 - mean_absolute_error: 0.4521\n",
            "Epoch 35/200\n",
            " - 1s - loss: 0.3446 - mean_absolute_error: 0.4528\n",
            "Epoch 36/200\n",
            " - 1s - loss: 0.3437 - mean_absolute_error: 0.4522\n",
            "Epoch 37/200\n",
            " - 1s - loss: 0.3414 - mean_absolute_error: 0.4504\n",
            "Epoch 38/200\n",
            " - 1s - loss: 0.3421 - mean_absolute_error: 0.4504\n",
            "Epoch 39/200\n",
            " - 1s - loss: 0.3426 - mean_absolute_error: 0.4504\n",
            "Epoch 40/200\n",
            " - 1s - loss: 0.3425 - mean_absolute_error: 0.4516\n",
            "Epoch 41/200\n",
            " - 1s - loss: 0.3439 - mean_absolute_error: 0.4518\n",
            "Epoch 42/200\n",
            " - 1s - loss: 0.3367 - mean_absolute_error: 0.4455\n",
            "Epoch 43/200\n",
            " - 1s - loss: 0.3395 - mean_absolute_error: 0.4492\n",
            "Epoch 44/200\n",
            " - 1s - loss: 0.3412 - mean_absolute_error: 0.4498\n",
            "Epoch 45/200\n",
            " - 1s - loss: 0.3378 - mean_absolute_error: 0.4496\n",
            "Epoch 46/200\n",
            " - 1s - loss: 0.3389 - mean_absolute_error: 0.4492\n",
            "Epoch 47/200\n",
            " - 1s - loss: 0.3365 - mean_absolute_error: 0.4479\n",
            "Epoch 48/200\n",
            " - 1s - loss: 0.3368 - mean_absolute_error: 0.4479\n",
            "Epoch 49/200\n",
            " - 1s - loss: 0.3349 - mean_absolute_error: 0.4459\n",
            "Epoch 50/200\n",
            " - 1s - loss: 0.3344 - mean_absolute_error: 0.4445\n",
            "Epoch 51/200\n",
            " - 1s - loss: 0.3350 - mean_absolute_error: 0.4465\n",
            "Epoch 52/200\n",
            " - 1s - loss: 0.3329 - mean_absolute_error: 0.4451\n",
            "Epoch 53/200\n",
            " - 1s - loss: 0.3356 - mean_absolute_error: 0.4455\n",
            "Epoch 54/200\n",
            " - 1s - loss: 0.3325 - mean_absolute_error: 0.4437\n",
            "Epoch 55/200\n",
            " - 1s - loss: 0.3301 - mean_absolute_error: 0.4412\n",
            "Epoch 56/200\n",
            " - 1s - loss: 0.3330 - mean_absolute_error: 0.4443\n",
            "Epoch 57/200\n",
            " - 1s - loss: 0.3302 - mean_absolute_error: 0.4420\n",
            "Epoch 58/200\n",
            " - 1s - loss: 0.3309 - mean_absolute_error: 0.4436\n",
            "Epoch 59/200\n",
            " - 1s - loss: 0.3325 - mean_absolute_error: 0.4443\n",
            "Epoch 60/200\n",
            " - 1s - loss: 0.3268 - mean_absolute_error: 0.4409\n",
            "Epoch 61/200\n",
            " - 1s - loss: 0.3270 - mean_absolute_error: 0.4387\n",
            "Epoch 62/200\n",
            " - 1s - loss: 0.3239 - mean_absolute_error: 0.4374\n",
            "Epoch 63/200\n",
            " - 1s - loss: 0.3273 - mean_absolute_error: 0.4382\n",
            "Epoch 64/200\n",
            " - 1s - loss: 0.3318 - mean_absolute_error: 0.4408\n",
            "Epoch 65/200\n",
            " - 1s - loss: 0.3244 - mean_absolute_error: 0.4359\n",
            "Epoch 66/200\n",
            " - 1s - loss: 0.3245 - mean_absolute_error: 0.4364\n",
            "Epoch 67/200\n",
            " - 1s - loss: 0.3226 - mean_absolute_error: 0.4358\n",
            "Epoch 68/200\n",
            " - 1s - loss: 0.3196 - mean_absolute_error: 0.4333\n",
            "Epoch 69/200\n",
            " - 1s - loss: 0.3196 - mean_absolute_error: 0.4322\n",
            "Epoch 70/200\n",
            " - 1s - loss: 0.3236 - mean_absolute_error: 0.4352\n",
            "Epoch 71/200\n",
            " - 1s - loss: 0.3184 - mean_absolute_error: 0.4325\n",
            "Epoch 72/200\n",
            " - 1s - loss: 0.3168 - mean_absolute_error: 0.4308\n",
            "Epoch 73/200\n"
          ],
          "name": "stdout"
        }
      ]
    },
    {
      "cell_type": "code",
      "metadata": {
        "colab_type": "code",
        "id": "niuNkZazQT5L",
        "colab": {}
      },
      "source": [
        "#Exibição dos melhores resultados\n",
        "print(\"Melhor resultado: %f, usando %s\" % (grid_resultTempMax.best_score_, grid_resultTempMax.best_params_))\n",
        "means = grid_resultTempMax.cv_results_['mean_test_score']\n",
        "stds = grid_resultTempMax.cv_results_['std_test_score']\n",
        "params = grid_resultTempMax.cv_results_['params']\n",
        "print(\"Resultados (Desvio padrão) {Parâmetros}\")\n",
        "for mean, stdev, param in zip(means, stds, params):\n",
        "\tprint(\"%f (%f) %r\" % (mean, stdev, param))"
      ],
      "execution_count": 0,
      "outputs": []
    },
    {
      "cell_type": "code",
      "metadata": {
        "colab_type": "code",
        "id": "_u6GdTGCDe4C",
        "colab": {}
      },
      "source": [
        "#Gráfico de previsão para o conjunto de treino\n",
        "plt.scatter(grid_searchTempMax.predict(X_trainTempMax), Y_trainTempMax)\n",
        "plt.title(\"Temperatura máxima estimada para o conjunto de treino\")\n",
        "plt.xlabel(\"Temperatura estimada\")\n",
        "plt.ylabel(\"Temperatura real\")\n",
        "plt.show()"
      ],
      "execution_count": 0,
      "outputs": []
    },
    {
      "cell_type": "code",
      "metadata": {
        "colab_type": "code",
        "id": "BCuUY6uhOrOo",
        "colab": {}
      },
      "source": [
        "#Mostrando uma matriz de correlação das variáveis de treino com a melhor modelagem\n",
        "print(np.corrcoef(grid_searchTempMax.predict(X_trainTempMax), Y_trainTempMax))"
      ],
      "execution_count": 0,
      "outputs": []
    },
    {
      "cell_type": "code",
      "metadata": {
        "id": "j2rbITrnpgtp",
        "colab_type": "code",
        "colab": {}
      },
      "source": [
        "#Previsão com base no resultado da Grid Search\n",
        "Y_predTempMax = grid_searchTempMax.predict(X_testTempMax)"
      ],
      "execution_count": 0,
      "outputs": []
    },
    {
      "cell_type": "code",
      "metadata": {
        "id": "4lTXWFnApgtv",
        "colab_type": "code",
        "colab": {}
      },
      "source": [
        "#Gráfico que mostra a relação entre a temperatura máxima real e a prevista para o conjunto de teste\n",
        "plt.scatter(Y_predTempMax, Y_testTempMax)\n",
        "plt.title(\"Temperatura máxima estimada para o conjunto de teste\")\n",
        "plt.xlabel(\"Temperatura estimada\")\n",
        "plt.ylabel(\"Temperatura real\")\n",
        "plt.show()"
      ],
      "execution_count": 0,
      "outputs": []
    },
    {
      "cell_type": "code",
      "metadata": {
        "id": "zL0IJQ6hpgt8",
        "colab_type": "code",
        "colab": {}
      },
      "source": [
        "#Mostrando uma matriz de correlação das variáveis de teste com a melhor modelagem\n",
        "print(np.corrcoef(Y_predTempMax, Y_testTempMax))"
      ],
      "execution_count": 0,
      "outputs": []
    },
    {
      "cell_type": "code",
      "metadata": {
        "id": "Tf_Sgn0tpguC",
        "colab_type": "code",
        "colab": {}
      },
      "source": [
        "#Erro absoluto médio entre a temperatura máxima prevista e a real\n",
        "print(mean_absolute_error(Y_testTempMax, Y_predTempMax))"
      ],
      "execution_count": 0,
      "outputs": []
    },
    {
      "cell_type": "code",
      "metadata": {
        "id": "aKIZPhszpguH",
        "colab_type": "code",
        "colab": {}
      },
      "source": [
        "#Erro quadrático médio entre a temperatura máxima prevista e a real\n",
        "print(mean_squared_error(Y_testTempMax, Y_predTempMax))"
      ],
      "execution_count": 0,
      "outputs": []
    },
    {
      "cell_type": "markdown",
      "metadata": {
        "id": "vXynbQr-BhIu",
        "colab_type": "text"
      },
      "source": [
        "# Modelagem para previsão de Temperatura Mínima"
      ]
    },
    {
      "cell_type": "code",
      "metadata": {
        "id": "2-WEEybtBkSY",
        "colab_type": "code",
        "colab": {}
      },
      "source": [
        "#Separando dados para treinar rede neural para previsão de temperatura mínima\n",
        "dataTreinoTempMin = dataSet.dropna(subset = [\"TempMinima\"])"
      ],
      "execution_count": 0,
      "outputs": []
    },
    {
      "cell_type": "code",
      "metadata": {
        "id": "5AFVDhMqBnE9",
        "colab_type": "code",
        "colab": {}
      },
      "source": [
        "#Separando a variável que será prevista, TempMinima, da base de dados\n",
        "tempMin = dataTreinoTempMin[\"TempMinima\"]\n",
        "dataTreinoTempMin = dataTreinoTempMin.drop(columns = \"TempMinima\")"
      ],
      "execution_count": 0,
      "outputs": []
    },
    {
      "cell_type": "code",
      "metadata": {
        "id": "_2m_OGoZBpv6",
        "colab_type": "code",
        "colab": {}
      },
      "source": [
        "#Visualizando dados de treino para temperatura mínima\n",
        "dataTreinoTempMin.head()"
      ],
      "execution_count": 0,
      "outputs": []
    },
    {
      "cell_type": "code",
      "metadata": {
        "id": "ulOLXi9IBtUW",
        "colab_type": "code",
        "colab": {}
      },
      "source": [
        "#Visualizando informações de temperatura mínima para cada um dos dados de treino \n",
        "tempMin.head()"
      ],
      "execution_count": 0,
      "outputs": []
    },
    {
      "cell_type": "code",
      "metadata": {
        "id": "phbilflkBt8Y",
        "colab_type": "code",
        "colab": {}
      },
      "source": [
        "#Guardando informação de como as colunas estão distribuídas no dataFrame \n",
        "colunas = dataTreinoTempMin.columns"
      ],
      "execution_count": 0,
      "outputs": []
    },
    {
      "cell_type": "code",
      "metadata": {
        "id": "gRDeFb3PBy4L",
        "colab_type": "code",
        "colab": {}
      },
      "source": [
        "#Efetuando uma transformação que lineariza todas as informações para cada coluna entre -1 e 1\n",
        "mms = MinMaxScaler(feature_range=(-1, 1))\n",
        "dataTreinoTempMin = mms.fit_transform(dataTreinoTempMin)"
      ],
      "execution_count": 0,
      "outputs": []
    },
    {
      "cell_type": "code",
      "metadata": {
        "id": "wfBy6Ne_B2Bz",
        "colab_type": "code",
        "colab": {}
      },
      "source": [
        "#Visualizando como está a base de dados para treino após a linearização\n",
        "prov = pd.DataFrame(dataTreinoTempMin)\n",
        "prov.columns = colunas\n",
        "prov.describe()"
      ],
      "execution_count": 0,
      "outputs": []
    },
    {
      "cell_type": "code",
      "metadata": {
        "id": "g4D4mIuoB4yR",
        "colab_type": "code",
        "colab": {}
      },
      "source": [
        "#Trocando dados faltantes por 0\n",
        "dataTreinoTempMin = np.nan_to_num(dataTreinoTempMin, copy = False)"
      ],
      "execution_count": 0,
      "outputs": []
    },
    {
      "cell_type": "code",
      "metadata": {
        "id": "KV4WRvNaB7PU",
        "colab_type": "code",
        "colab": {}
      },
      "source": [
        "#Verificando dimensões do dataSet\n",
        "print(dataTreinoTempMin.shape)"
      ],
      "execution_count": 0,
      "outputs": []
    },
    {
      "cell_type": "code",
      "metadata": {
        "id": "qYxoZrPVB99b",
        "colab_type": "code",
        "colab": {}
      },
      "source": [
        "#Separando conjunto de treino e teste para previsão de temperatura máxima (90% para treino e 10% para teste)\n",
        "X_trainTempMin, X_testTempMin, Y_trainTempMin, Y_testTempMin = train_test_split(dataTreinoTempMin, tempMin, test_size = 0.1, random_state = 9)"
      ],
      "execution_count": 0,
      "outputs": []
    },
    {
      "cell_type": "code",
      "metadata": {
        "id": "bl6etxXdCGGU",
        "colab_type": "code",
        "colab": {}
      },
      "source": [
        "#Modelo de classificação do Keras\n",
        "estimator = KerasRegressor(build_fn=trainMLP, epochs = 200, verbose = 2)"
      ],
      "execution_count": 0,
      "outputs": []
    },
    {
      "cell_type": "code",
      "metadata": {
        "id": "culLbfaQCJBt",
        "colab_type": "code",
        "colab": {}
      },
      "source": [
        "#Criando o objeto para Cross Validation\n",
        "kfold = KFold(n_splits=4, shuffle=True, random_state=5)"
      ],
      "execution_count": 0,
      "outputs": []
    },
    {
      "cell_type": "code",
      "metadata": {
        "id": "6IJS4_aiCLyM",
        "colab_type": "code",
        "colab": {}
      },
      "source": [
        "#Parâmetros para o Grid Search\n",
        "parameters = {'batch_size': [10],             \n",
        "              'camadas': [2],\n",
        "              'units': [7]}"
      ],
      "execution_count": 0,
      "outputs": []
    },
    {
      "cell_type": "code",
      "metadata": {
        "id": "frmFm3sZCN88",
        "colab_type": "code",
        "colab": {}
      },
      "source": [
        "#Modelagem para buscar os melhores parâmetros\n",
        "grid_searchTempMin = GridSearchCV(estimator = estimator, param_grid = parameters,\n",
        "                     scoring = \"neg_mean_squared_error\", verbose=500, cv = kfold, return_train_score = True)"
      ],
      "execution_count": 0,
      "outputs": []
    },
    {
      "cell_type": "code",
      "metadata": {
        "id": "upTTWSjYCQXS",
        "colab_type": "code",
        "colab": {}
      },
      "source": [
        "#Busca pelos melhores parâmetros\n",
        "grid_resultTempMin = grid_searchTempMin.fit(X_trainTempMin, Y_trainTempMin)"
      ],
      "execution_count": 0,
      "outputs": []
    },
    {
      "cell_type": "code",
      "metadata": {
        "id": "nslya_b9Gl0f",
        "colab_type": "code",
        "colab": {}
      },
      "source": [
        "#Exibição dos melhores resultados\n",
        "print(\"Melhor resultado: %f, usando %s\" % (grid_resultTempMin.best_score_, grid_resultTempMin.best_params_))\n",
        "means = grid_resultTempMin.cv_results_['mean_test_score']\n",
        "stds = grid_resultTempMin.cv_results_['std_test_score']\n",
        "params = grid_resultTempMin.cv_results_['params']\n",
        "print(\"Resultados (Desvio padrão) {Parâmetros}\")\n",
        "for mean, stdev, param in zip(means, stds, params):\n",
        "\tprint(\"%f (%f) %r\" % (mean, stdev, param))"
      ],
      "execution_count": 0,
      "outputs": []
    },
    {
      "cell_type": "code",
      "metadata": {
        "id": "v-G4DCmlGp9p",
        "colab_type": "code",
        "colab": {}
      },
      "source": [
        "#Gráfico de previsão para o conjunto de treino\n",
        "plt.scatter(grid_searchTempMin.predict(X_trainTempMin), Y_trainTempMin)\n",
        "plt.title(\"Temperatura mínima estimada para o conjunto de treino\")\n",
        "plt.xlabel(\"Temperatura estimada\")\n",
        "plt.ylabel(\"Temperatura real\")\n",
        "plt.show()"
      ],
      "execution_count": 0,
      "outputs": []
    },
    {
      "cell_type": "code",
      "metadata": {
        "id": "rKoqtfW_GwML",
        "colab_type": "code",
        "colab": {}
      },
      "source": [
        "#Mostrando uma matriz de correlação das variáveis de treino com a melhor modelagem\n",
        "print(np.corrcoef(grid_searchTempMin.predict(X_trainTempMin), Y_trainTempMin))"
      ],
      "execution_count": 0,
      "outputs": []
    },
    {
      "cell_type": "code",
      "metadata": {
        "id": "l_NBHAM4G1dU",
        "colab_type": "code",
        "colab": {}
      },
      "source": [
        "#Previsão para os dados de teste a partir da modelagem obtida\n",
        "Y_pred = grid_searchTempMin.predict(X_testTempMin)"
      ],
      "execution_count": 0,
      "outputs": []
    },
    {
      "cell_type": "code",
      "metadata": {
        "id": "KSvMTEtEG5tp",
        "colab_type": "code",
        "colab": {}
      },
      "source": [
        "#Gráfico que mostra a relação entre a temperatura mínima real e a temperatura mínima prevista para os dados de teste\n",
        "plt.scatter(Y_predTempMin, Y_testTempMin)\n",
        "plt.title(\"Temperatura mínima estimada para o conjunto de teste\")\n",
        "plt.xlabel(\"Temperatura estimada\")\n",
        "plt.ylabel(\"Temperatura real\")\n",
        "plt.show()"
      ],
      "execution_count": 0,
      "outputs": []
    },
    {
      "cell_type": "code",
      "metadata": {
        "id": "4uXgj-axG_ND",
        "colab_type": "code",
        "colab": {}
      },
      "source": [
        "#Mostrando uma matriz de correlação das variáveis de teste com a melhor modelagem\n",
        "print(np.corrcoef(Y_predTempMin, Y_testTempMin))"
      ],
      "execution_count": 0,
      "outputs": []
    },
    {
      "cell_type": "code",
      "metadata": {
        "id": "bnPHqQsvHGDT",
        "colab_type": "code",
        "colab": {}
      },
      "source": [
        "#Erro absoluto médio entre temperatura mínima real e prevista para os dados de teste\n",
        "print(mean_absolute_error(Y_testTempMin, Y_predTempMin))"
      ],
      "execution_count": 0,
      "outputs": []
    },
    {
      "cell_type": "code",
      "metadata": {
        "id": "xPbgOUziHDjD",
        "colab_type": "code",
        "colab": {}
      },
      "source": [
        "#Erro quadrático médio entre a temperatura mínima real e a prevista para os dados de teste\n",
        "print(mean_squared_error(Y_testTempMin, Y_predTempMin))"
      ],
      "execution_count": 0,
      "outputs": []
    }
  ]
}