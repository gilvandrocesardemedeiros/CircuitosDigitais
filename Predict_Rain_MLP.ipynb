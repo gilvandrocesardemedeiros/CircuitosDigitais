{
  "nbformat": 4,
  "nbformat_minor": 0,
  "metadata": {
    "colab": {
      "name": "Predict_Rain_MLP.ipynb",
      "version": "0.3.2",
      "provenance": [],
      "collapsed_sections": [],
      "include_colab_link": true
    },
    "language_info": {
      "codemirror_mode": {
        "name": "ipython",
        "version": 3
      },
      "file_extension": ".py",
      "mimetype": "text/x-python",
      "name": "python",
      "nbconvert_exporter": "python",
      "pygments_lexer": "ipython3",
      "version": "3.6.8"
    },
    "kernelspec": {
      "display_name": "Python 3",
      "language": "python",
      "name": "python3"
    }
  },
  "cells": [
    {
      "cell_type": "markdown",
      "metadata": {
        "id": "view-in-github",
        "colab_type": "text"
      },
      "source": [
        "<a href=\"https://colab.research.google.com/github/gilvandrocesardemedeiros/CircuitosDigitais/blob/master/Predict_Rain_MLP.ipynb\" target=\"_parent\"><img src=\"https://colab.research.google.com/assets/colab-badge.svg\" alt=\"Open In Colab\"/></a>"
      ]
    },
    {
      "metadata": {
        "id": "27ZehESHNz63",
        "colab_type": "code",
        "colab": {
          "base_uri": "https://localhost:8080/",
          "height": 34
        },
        "outputId": "68588631-3e54-48f5-b7eb-d375e084eed0"
      },
      "cell_type": "code",
      "source": [
        "#Importando bibliotecas\n",
        "import pandas as pd\n",
        "import numpy as np\n",
        "from datetime import datetime\n",
        "from keras.models import Sequential\n",
        "from keras.layers import Dense\n",
        "from keras.wrappers.scikit_learn import KerasRegressor\n",
        "from keras.utils import np_utils\n",
        "from sklearn.metrics import mean_absolute_error\n",
        "from sklearn.model_selection import KFold\n",
        "from sklearn.model_selection import GridSearchCV\n",
        "from sklearn.model_selection import train_test_split\n",
        "from sklearn.preprocessing import RobustScaler\n",
        "from sklearn.preprocessing import LabelEncoder\n",
        "from sklearn.model_selection import train_test_split\n",
        "import matplotlib.pyplot as plt"
      ],
      "execution_count": 1,
      "outputs": [
        {
          "output_type": "stream",
          "text": [
            "Using TensorFlow backend.\n"
          ],
          "name": "stderr"
        }
      ]
    },
    {
      "metadata": {
        "id": "_30s_sAnNz7Z",
        "colab_type": "code",
        "colab": {}
      },
      "cell_type": "code",
      "source": [
        "#Nomes para as colunas\n",
        "columns = [\"Estacao\",\"Data\",\"Hora\",\"Prec\",\"TempMax\",\"TempMin\",\"Insolacao\",\"EvapoPiche\",\"TempCompMedia\",\n",
        "           \"UmidRelatMedia\", \"VelocVento\", \"Missing\"]\n",
        "\n",
        "#Tipos de dados em cada coluna\n",
        "types = {\"Hora\":np.uint16,\"Prec\":np.float64,\"TempMax\":np.float64,\"TempMin\":np.float64,\"Insolacao\":np.float64,\n",
        "         \"EvapoPiche\":np.float64,\"TempCompMedia\":np.float64,\"UmidRelatMedia\":np.float64,\"VelocVento\":np.float64}\n",
        "\n",
        "#Leitura do arquivo csv\n",
        "dataSet = pd.read_csv(\"https://github.com/gilvandrocesardemedeiros/ClimatePrediction/raw/master/Dados_INMET/Diarios/INMET-Dados_Diarios_Natal_1968-2018.csv\",\n",
        "                      sep=';',skiprows=48, nrows = 27003, usecols = columns[1:11], names=columns, dtype = types)"
      ],
      "execution_count": 0,
      "outputs": []
    },
    {
      "metadata": {
        "id": "j6wsU7SJNz7t",
        "colab_type": "code",
        "colab": {}
      },
      "cell_type": "code",
      "source": [
        "#Transformando data em variável do tipo datetime\n",
        "dataSet[\"Data\"] = pd.to_datetime(dataSet[\"Data\"], format = \"%d/%m/%Y\")"
      ],
      "execution_count": 0,
      "outputs": []
    },
    {
      "metadata": {
        "id": "4Q7RdptNNz8A",
        "colab_type": "code",
        "outputId": "02702953-87b5-404a-e3b6-4a8837be157c",
        "colab": {
          "base_uri": "https://localhost:8080/",
          "height": 206
        }
      },
      "cell_type": "code",
      "source": [
        "#Verificando dados\n",
        "dataSet.head()"
      ],
      "execution_count": 4,
      "outputs": [
        {
          "output_type": "execute_result",
          "data": {
            "text/html": [
              "<div>\n",
              "<style scoped>\n",
              "    .dataframe tbody tr th:only-of-type {\n",
              "        vertical-align: middle;\n",
              "    }\n",
              "\n",
              "    .dataframe tbody tr th {\n",
              "        vertical-align: top;\n",
              "    }\n",
              "\n",
              "    .dataframe thead th {\n",
              "        text-align: right;\n",
              "    }\n",
              "</style>\n",
              "<table border=\"1\" class=\"dataframe\">\n",
              "  <thead>\n",
              "    <tr style=\"text-align: right;\">\n",
              "      <th></th>\n",
              "      <th>Data</th>\n",
              "      <th>Hora</th>\n",
              "      <th>Prec</th>\n",
              "      <th>TempMax</th>\n",
              "      <th>TempMin</th>\n",
              "      <th>Insolacao</th>\n",
              "      <th>EvapoPiche</th>\n",
              "      <th>TempCompMedia</th>\n",
              "      <th>UmidRelatMedia</th>\n",
              "      <th>VelocVento</th>\n",
              "    </tr>\n",
              "  </thead>\n",
              "  <tbody>\n",
              "    <tr>\n",
              "      <th>0</th>\n",
              "      <td>1968-01-01</td>\n",
              "      <td>0</td>\n",
              "      <td>NaN</td>\n",
              "      <td>30.6</td>\n",
              "      <td>NaN</td>\n",
              "      <td>11.1</td>\n",
              "      <td>4.4</td>\n",
              "      <td>25.14</td>\n",
              "      <td>73.50</td>\n",
              "      <td>2.666667</td>\n",
              "    </tr>\n",
              "    <tr>\n",
              "      <th>1</th>\n",
              "      <td>1968-01-01</td>\n",
              "      <td>1200</td>\n",
              "      <td>0.0</td>\n",
              "      <td>NaN</td>\n",
              "      <td>21.4</td>\n",
              "      <td>NaN</td>\n",
              "      <td>NaN</td>\n",
              "      <td>NaN</td>\n",
              "      <td>NaN</td>\n",
              "      <td>NaN</td>\n",
              "    </tr>\n",
              "    <tr>\n",
              "      <th>2</th>\n",
              "      <td>1968-01-02</td>\n",
              "      <td>0</td>\n",
              "      <td>NaN</td>\n",
              "      <td>31.0</td>\n",
              "      <td>NaN</td>\n",
              "      <td>11.9</td>\n",
              "      <td>6.5</td>\n",
              "      <td>24.92</td>\n",
              "      <td>74.75</td>\n",
              "      <td>1.666667</td>\n",
              "    </tr>\n",
              "    <tr>\n",
              "      <th>3</th>\n",
              "      <td>1968-01-02</td>\n",
              "      <td>1200</td>\n",
              "      <td>0.0</td>\n",
              "      <td>NaN</td>\n",
              "      <td>19.6</td>\n",
              "      <td>NaN</td>\n",
              "      <td>NaN</td>\n",
              "      <td>NaN</td>\n",
              "      <td>NaN</td>\n",
              "      <td>NaN</td>\n",
              "    </tr>\n",
              "    <tr>\n",
              "      <th>4</th>\n",
              "      <td>1968-01-03</td>\n",
              "      <td>0</td>\n",
              "      <td>NaN</td>\n",
              "      <td>31.6</td>\n",
              "      <td>NaN</td>\n",
              "      <td>11.3</td>\n",
              "      <td>5.0</td>\n",
              "      <td>24.90</td>\n",
              "      <td>77.25</td>\n",
              "      <td>2.333333</td>\n",
              "    </tr>\n",
              "  </tbody>\n",
              "</table>\n",
              "</div>"
            ],
            "text/plain": [
              "        Data  Hora  Prec  TempMax  TempMin  Insolacao  EvapoPiche  \\\n",
              "0 1968-01-01     0   NaN     30.6      NaN       11.1         4.4   \n",
              "1 1968-01-01  1200   0.0      NaN     21.4        NaN         NaN   \n",
              "2 1968-01-02     0   NaN     31.0      NaN       11.9         6.5   \n",
              "3 1968-01-02  1200   0.0      NaN     19.6        NaN         NaN   \n",
              "4 1968-01-03     0   NaN     31.6      NaN       11.3         5.0   \n",
              "\n",
              "   TempCompMedia  UmidRelatMedia  VelocVento  \n",
              "0          25.14           73.50    2.666667  \n",
              "1            NaN             NaN         NaN  \n",
              "2          24.92           74.75    1.666667  \n",
              "3            NaN             NaN         NaN  \n",
              "4          24.90           77.25    2.333333  "
            ]
          },
          "metadata": {
            "tags": []
          },
          "execution_count": 4
        }
      ]
    },
    {
      "metadata": {
        "id": "1GBPk-0mNz8Q",
        "colab_type": "code",
        "outputId": "e677040f-0d42-4126-c48f-5883b8515ac3",
        "colab": {
          "base_uri": "https://localhost:8080/",
          "height": 208
        }
      },
      "cell_type": "code",
      "source": [
        "#Verificando o tipo dos dados\n",
        "dataSet.dtypes"
      ],
      "execution_count": 5,
      "outputs": [
        {
          "output_type": "execute_result",
          "data": {
            "text/plain": [
              "Data              datetime64[ns]\n",
              "Hora                      uint16\n",
              "Prec                     float64\n",
              "TempMax                  float64\n",
              "TempMin                  float64\n",
              "Insolacao                float64\n",
              "EvapoPiche               float64\n",
              "TempCompMedia            float64\n",
              "UmidRelatMedia           float64\n",
              "VelocVento               float64\n",
              "dtype: object"
            ]
          },
          "metadata": {
            "tags": []
          },
          "execution_count": 5
        }
      ]
    },
    {
      "metadata": {
        "id": "Bljp6tdBNz8e",
        "colab_type": "code",
        "colab": {}
      },
      "cell_type": "code",
      "source": [
        "#Separando os dados em dois dataframes, um para as 00:00 h e outro para as 12:00 h\n",
        "dataSet00, dataSet12 = dataSet[dataSet[\"Hora\"] == 0], dataSet[dataSet[\"Hora\"] == 1200]"
      ],
      "execution_count": 0,
      "outputs": []
    },
    {
      "metadata": {
        "id": "2bh8K6NANz8r",
        "colab_type": "code",
        "outputId": "053bc1a2-0ac3-4c15-b661-4e6d0f305075",
        "colab": {
          "base_uri": "https://localhost:8080/",
          "height": 206
        }
      },
      "cell_type": "code",
      "source": [
        "#Verificando dataframe para os dados disponibilizados às 00:00 h\n",
        "dataSet00.head()"
      ],
      "execution_count": 7,
      "outputs": [
        {
          "output_type": "execute_result",
          "data": {
            "text/html": [
              "<div>\n",
              "<style scoped>\n",
              "    .dataframe tbody tr th:only-of-type {\n",
              "        vertical-align: middle;\n",
              "    }\n",
              "\n",
              "    .dataframe tbody tr th {\n",
              "        vertical-align: top;\n",
              "    }\n",
              "\n",
              "    .dataframe thead th {\n",
              "        text-align: right;\n",
              "    }\n",
              "</style>\n",
              "<table border=\"1\" class=\"dataframe\">\n",
              "  <thead>\n",
              "    <tr style=\"text-align: right;\">\n",
              "      <th></th>\n",
              "      <th>Data</th>\n",
              "      <th>Hora</th>\n",
              "      <th>Prec</th>\n",
              "      <th>TempMax</th>\n",
              "      <th>TempMin</th>\n",
              "      <th>Insolacao</th>\n",
              "      <th>EvapoPiche</th>\n",
              "      <th>TempCompMedia</th>\n",
              "      <th>UmidRelatMedia</th>\n",
              "      <th>VelocVento</th>\n",
              "    </tr>\n",
              "  </thead>\n",
              "  <tbody>\n",
              "    <tr>\n",
              "      <th>0</th>\n",
              "      <td>1968-01-01</td>\n",
              "      <td>0</td>\n",
              "      <td>NaN</td>\n",
              "      <td>30.6</td>\n",
              "      <td>NaN</td>\n",
              "      <td>11.1</td>\n",
              "      <td>4.4</td>\n",
              "      <td>25.14</td>\n",
              "      <td>73.50</td>\n",
              "      <td>2.666667</td>\n",
              "    </tr>\n",
              "    <tr>\n",
              "      <th>2</th>\n",
              "      <td>1968-01-02</td>\n",
              "      <td>0</td>\n",
              "      <td>NaN</td>\n",
              "      <td>31.0</td>\n",
              "      <td>NaN</td>\n",
              "      <td>11.9</td>\n",
              "      <td>6.5</td>\n",
              "      <td>24.92</td>\n",
              "      <td>74.75</td>\n",
              "      <td>1.666667</td>\n",
              "    </tr>\n",
              "    <tr>\n",
              "      <th>4</th>\n",
              "      <td>1968-01-03</td>\n",
              "      <td>0</td>\n",
              "      <td>NaN</td>\n",
              "      <td>31.6</td>\n",
              "      <td>NaN</td>\n",
              "      <td>11.3</td>\n",
              "      <td>5.0</td>\n",
              "      <td>24.90</td>\n",
              "      <td>77.25</td>\n",
              "      <td>2.333333</td>\n",
              "    </tr>\n",
              "    <tr>\n",
              "      <th>6</th>\n",
              "      <td>1968-01-04</td>\n",
              "      <td>0</td>\n",
              "      <td>NaN</td>\n",
              "      <td>31.2</td>\n",
              "      <td>NaN</td>\n",
              "      <td>10.3</td>\n",
              "      <td>4.0</td>\n",
              "      <td>24.82</td>\n",
              "      <td>80.75</td>\n",
              "      <td>3.666667</td>\n",
              "    </tr>\n",
              "    <tr>\n",
              "      <th>8</th>\n",
              "      <td>1968-01-05</td>\n",
              "      <td>0</td>\n",
              "      <td>NaN</td>\n",
              "      <td>30.8</td>\n",
              "      <td>NaN</td>\n",
              "      <td>11.0</td>\n",
              "      <td>4.2</td>\n",
              "      <td>24.78</td>\n",
              "      <td>76.00</td>\n",
              "      <td>4.000000</td>\n",
              "    </tr>\n",
              "  </tbody>\n",
              "</table>\n",
              "</div>"
            ],
            "text/plain": [
              "        Data  Hora  Prec  TempMax  TempMin  Insolacao  EvapoPiche  \\\n",
              "0 1968-01-01     0   NaN     30.6      NaN       11.1         4.4   \n",
              "2 1968-01-02     0   NaN     31.0      NaN       11.9         6.5   \n",
              "4 1968-01-03     0   NaN     31.6      NaN       11.3         5.0   \n",
              "6 1968-01-04     0   NaN     31.2      NaN       10.3         4.0   \n",
              "8 1968-01-05     0   NaN     30.8      NaN       11.0         4.2   \n",
              "\n",
              "   TempCompMedia  UmidRelatMedia  VelocVento  \n",
              "0          25.14           73.50    2.666667  \n",
              "2          24.92           74.75    1.666667  \n",
              "4          24.90           77.25    2.333333  \n",
              "6          24.82           80.75    3.666667  \n",
              "8          24.78           76.00    4.000000  "
            ]
          },
          "metadata": {
            "tags": []
          },
          "execution_count": 7
        }
      ]
    },
    {
      "metadata": {
        "id": "edBEOHdPNz9B",
        "colab_type": "code",
        "outputId": "6113d623-ea08-4651-f714-a160c8bcee80",
        "colab": {
          "base_uri": "https://localhost:8080/",
          "height": 206
        }
      },
      "cell_type": "code",
      "source": [
        "#Verificando dataframe para os dados disponibilizados às 12:00 h\n",
        "dataSet12.head()"
      ],
      "execution_count": 8,
      "outputs": [
        {
          "output_type": "execute_result",
          "data": {
            "text/html": [
              "<div>\n",
              "<style scoped>\n",
              "    .dataframe tbody tr th:only-of-type {\n",
              "        vertical-align: middle;\n",
              "    }\n",
              "\n",
              "    .dataframe tbody tr th {\n",
              "        vertical-align: top;\n",
              "    }\n",
              "\n",
              "    .dataframe thead th {\n",
              "        text-align: right;\n",
              "    }\n",
              "</style>\n",
              "<table border=\"1\" class=\"dataframe\">\n",
              "  <thead>\n",
              "    <tr style=\"text-align: right;\">\n",
              "      <th></th>\n",
              "      <th>Data</th>\n",
              "      <th>Hora</th>\n",
              "      <th>Prec</th>\n",
              "      <th>TempMax</th>\n",
              "      <th>TempMin</th>\n",
              "      <th>Insolacao</th>\n",
              "      <th>EvapoPiche</th>\n",
              "      <th>TempCompMedia</th>\n",
              "      <th>UmidRelatMedia</th>\n",
              "      <th>VelocVento</th>\n",
              "    </tr>\n",
              "  </thead>\n",
              "  <tbody>\n",
              "    <tr>\n",
              "      <th>1</th>\n",
              "      <td>1968-01-01</td>\n",
              "      <td>1200</td>\n",
              "      <td>0.0</td>\n",
              "      <td>NaN</td>\n",
              "      <td>21.4</td>\n",
              "      <td>NaN</td>\n",
              "      <td>NaN</td>\n",
              "      <td>NaN</td>\n",
              "      <td>NaN</td>\n",
              "      <td>NaN</td>\n",
              "    </tr>\n",
              "    <tr>\n",
              "      <th>3</th>\n",
              "      <td>1968-01-02</td>\n",
              "      <td>1200</td>\n",
              "      <td>0.0</td>\n",
              "      <td>NaN</td>\n",
              "      <td>19.6</td>\n",
              "      <td>NaN</td>\n",
              "      <td>NaN</td>\n",
              "      <td>NaN</td>\n",
              "      <td>NaN</td>\n",
              "      <td>NaN</td>\n",
              "    </tr>\n",
              "    <tr>\n",
              "      <th>5</th>\n",
              "      <td>1968-01-03</td>\n",
              "      <td>1200</td>\n",
              "      <td>0.0</td>\n",
              "      <td>NaN</td>\n",
              "      <td>18.5</td>\n",
              "      <td>NaN</td>\n",
              "      <td>NaN</td>\n",
              "      <td>NaN</td>\n",
              "      <td>NaN</td>\n",
              "      <td>NaN</td>\n",
              "    </tr>\n",
              "    <tr>\n",
              "      <th>7</th>\n",
              "      <td>1968-01-04</td>\n",
              "      <td>1200</td>\n",
              "      <td>0.0</td>\n",
              "      <td>NaN</td>\n",
              "      <td>20.7</td>\n",
              "      <td>NaN</td>\n",
              "      <td>NaN</td>\n",
              "      <td>NaN</td>\n",
              "      <td>NaN</td>\n",
              "      <td>NaN</td>\n",
              "    </tr>\n",
              "    <tr>\n",
              "      <th>9</th>\n",
              "      <td>1968-01-05</td>\n",
              "      <td>1200</td>\n",
              "      <td>0.0</td>\n",
              "      <td>NaN</td>\n",
              "      <td>19.9</td>\n",
              "      <td>NaN</td>\n",
              "      <td>NaN</td>\n",
              "      <td>NaN</td>\n",
              "      <td>NaN</td>\n",
              "      <td>NaN</td>\n",
              "    </tr>\n",
              "  </tbody>\n",
              "</table>\n",
              "</div>"
            ],
            "text/plain": [
              "        Data  Hora  Prec  TempMax  TempMin  Insolacao  EvapoPiche  \\\n",
              "1 1968-01-01  1200   0.0      NaN     21.4        NaN         NaN   \n",
              "3 1968-01-02  1200   0.0      NaN     19.6        NaN         NaN   \n",
              "5 1968-01-03  1200   0.0      NaN     18.5        NaN         NaN   \n",
              "7 1968-01-04  1200   0.0      NaN     20.7        NaN         NaN   \n",
              "9 1968-01-05  1200   0.0      NaN     19.9        NaN         NaN   \n",
              "\n",
              "   TempCompMedia  UmidRelatMedia  VelocVento  \n",
              "1            NaN             NaN         NaN  \n",
              "3            NaN             NaN         NaN  \n",
              "5            NaN             NaN         NaN  \n",
              "7            NaN             NaN         NaN  \n",
              "9            NaN             NaN         NaN  "
            ]
          },
          "metadata": {
            "tags": []
          },
          "execution_count": 8
        }
      ]
    },
    {
      "metadata": {
        "id": "OUqiIBkLNz9S",
        "colab_type": "code",
        "colab": {}
      },
      "cell_type": "code",
      "source": [
        "#Transformando a data no índice de cada dataframe\n",
        "dataSet00 = dataSet00.set_index(\"Data\")\n",
        "dataSet12 = dataSet12.set_index(\"Data\")"
      ],
      "execution_count": 0,
      "outputs": []
    },
    {
      "metadata": {
        "id": "CSC3Qof0Nz9j",
        "colab_type": "code",
        "colab": {}
      },
      "cell_type": "code",
      "source": [
        "#Descartando a coluna \"Hora\"\n",
        "dataSet00, dataSet12 = dataSet00.drop(columns = \"Hora\"), dataSet12.drop(columns = \"Hora\")"
      ],
      "execution_count": 0,
      "outputs": []
    },
    {
      "metadata": {
        "id": "EOtr9pK5Nz99",
        "colab_type": "code",
        "outputId": "8a934aeb-6f38-4e53-dc3a-8aa4030d03b7",
        "colab": {
          "base_uri": "https://localhost:8080/",
          "height": 156
        }
      },
      "cell_type": "code",
      "source": [
        "#Juntando os dados em um mesmo dataframe (no caso, o dataSet00)\n",
        "for i in dataSet00.index:\n",
        "    try:\n",
        "        dataSet00[\"Prec\"].loc[i] = dataSet12[\"Prec\"].loc[i]\n",
        "        dataSet00[\"TempMin\"].loc[i] = dataSet12[\"TempMin\"].loc[i]\n",
        "    except:\n",
        "        print(\"Data \" + str(i.day) + \"/\" + str(i.month) + \"/\" + str(i.year) + \" Não encontrada!\")"
      ],
      "execution_count": 11,
      "outputs": [
        {
          "output_type": "stream",
          "text": [
            "Data 5/7/1986 Não encontrada!\n",
            "Data 20/7/1986 Não encontrada!\n",
            "Data 3/6/1989 Não encontrada!\n",
            "Data 12/6/1989 Não encontrada!\n",
            "Data 4/12/1992 Não encontrada!\n",
            "Data 26/5/2018 Não encontrada!\n",
            "Data 1/8/2018 Não encontrada!\n",
            "Data 27/10/2018 Não encontrada!\n"
          ],
          "name": "stdout"
        }
      ]
    },
    {
      "metadata": {
        "id": "ZkvEVq8aNz-M",
        "colab_type": "code",
        "outputId": "7093cecb-95ba-4593-e973-09efb8fb3cc5",
        "colab": {
          "base_uri": "https://localhost:8080/",
          "height": 34
        }
      },
      "cell_type": "code",
      "source": [
        "#Atribuindo à variável dataSet o DataFrame atualizado\n",
        "dataSet = dataSet00\n",
        "#Verificando dimensões do DataFrame\n",
        "print(dataSet.shape)"
      ],
      "execution_count": 12,
      "outputs": [
        {
          "output_type": "stream",
          "text": [
            "(13502, 8)\n"
          ],
          "name": "stdout"
        }
      ]
    },
    {
      "metadata": {
        "id": "jBsDkedfcZ_h",
        "colab_type": "code",
        "colab": {}
      },
      "cell_type": "code",
      "source": [
        "#Transformando a coluna Data de volta em uma coluna de informações do dataSet\n",
        "dataSet = dataSet.reset_index()"
      ],
      "execution_count": 0,
      "outputs": []
    },
    {
      "metadata": {
        "id": "XGeOl_FCqgyK",
        "colab_type": "code",
        "outputId": "d933e1e2-3386-4faf-a65a-1b37d72a8ee2",
        "colab": {
          "base_uri": "https://localhost:8080/",
          "height": 34
        }
      },
      "cell_type": "code",
      "source": [
        "#Eliminando da base de dados dias com variáveis faltantes\n",
        "dataSet = dataSet.dropna()\n",
        "#Exibindo novas dimensões da base de dados\n",
        "print(dataSet.shape)"
      ],
      "execution_count": 14,
      "outputs": [
        {
          "output_type": "stream",
          "text": [
            "(11911, 9)\n"
          ],
          "name": "stdout"
        }
      ]
    },
    {
      "metadata": {
        "id": "4YfK3SJ0dQAW",
        "colab_type": "text"
      },
      "cell_type": "markdown",
      "source": [
        "# Considerando os seguintes intervalos: \n",
        "- Outono: 20 de março a 21 de junho (fechado em 20/03 e aberto em 21/06)\n",
        "- Inverno: 21 de junho a 22 de setembro (fechado em 21/06 e aberto em 22/09)\n",
        "- Primavera: de 22 de setembro a 21 de dezembro (fechado em 22/09 e aberto em 21/12)\n",
        "- Verão: de 21 de dezembro a 20 de março (fechado em 21/12 e aberto em 20/03)"
      ]
    },
    {
      "metadata": {
        "id": "dtSvce66c8zF",
        "colab_type": "code",
        "colab": {}
      },
      "cell_type": "code",
      "source": [
        "#Função que retorna a estação do ano para uma determinada data, para ser adicionada à base de dados\n",
        "def season(data):\n",
        "    if (data.month > 3 and data.month < 6) or (data.month == 3 and data.day >= 20) or (data.month == 6 and data.day < 21):\n",
        "        return \"Out\"\n",
        "    if (data.month > 6 and data.month < 9) or (data.month == 6 and data.day >= 21) or (data.month == 9 and data.day < 22):\n",
        "        return \"Inv\"\n",
        "    if (data.month > 9 and data.month < 12) or (data.month == 9 and data.day >= 22) or (data.month == 12 and data.day < 21):\n",
        "        return \"Pri\"\n",
        "    else:\n",
        "        return \"Ver\""
      ],
      "execution_count": 0,
      "outputs": []
    },
    {
      "metadata": {
        "id": "FTRevEZ9AUSe",
        "colab_type": "code",
        "colab": {}
      },
      "cell_type": "code",
      "source": [
        "#Identificando a estação do ano na base de dados e guardando a informação referente ao ano de cada dado\n",
        "estacao = []\n",
        "for i in dataSet.index:\n",
        "    estacao.insert(i, season(dataSet.loc[i, \"Data\"]))"
      ],
      "execution_count": 0,
      "outputs": []
    },
    {
      "metadata": {
        "id": "Ut_YTEMKd3Jv",
        "colab_type": "code",
        "outputId": "8d5f6c86-d688-41f0-fc01-d013efc657ad",
        "colab": {
          "base_uri": "https://localhost:8080/",
          "height": 86
        }
      },
      "cell_type": "code",
      "source": [
        "#Contando quantos dados existem para cada estação\n",
        "print(\"Outono: \" + str(estacao.count(\"Out\")))\n",
        "print(\"Inverno: \" + str(estacao.count(\"Inv\")))\n",
        "print(\"Primavera: \" + str(estacao.count(\"Pri\")))\n",
        "print(\"Verão: \" + str(estacao.count(\"Ver\")))"
      ],
      "execution_count": 17,
      "outputs": [
        {
          "output_type": "stream",
          "text": [
            "Outono: 3048\n",
            "Inverno: 2988\n",
            "Primavera: 2946\n",
            "Verão: 2929\n"
          ],
          "name": "stdout"
        }
      ]
    },
    {
      "metadata": {
        "id": "UbW5mMKJcojI",
        "colab_type": "code",
        "outputId": "40044400-7c7c-48be-c87b-a147a0d4807e",
        "colab": {
          "base_uri": "https://localhost:8080/",
          "height": 206
        }
      },
      "cell_type": "code",
      "source": [
        "#Eliminando a coluna \"Data\" e visualizando dados\n",
        "dataSet = dataSet.drop(columns=\"Data\")\n",
        "dataSet.head()"
      ],
      "execution_count": 18,
      "outputs": [
        {
          "output_type": "execute_result",
          "data": {
            "text/html": [
              "<div>\n",
              "<style scoped>\n",
              "    .dataframe tbody tr th:only-of-type {\n",
              "        vertical-align: middle;\n",
              "    }\n",
              "\n",
              "    .dataframe tbody tr th {\n",
              "        vertical-align: top;\n",
              "    }\n",
              "\n",
              "    .dataframe thead th {\n",
              "        text-align: right;\n",
              "    }\n",
              "</style>\n",
              "<table border=\"1\" class=\"dataframe\">\n",
              "  <thead>\n",
              "    <tr style=\"text-align: right;\">\n",
              "      <th></th>\n",
              "      <th>Prec</th>\n",
              "      <th>TempMax</th>\n",
              "      <th>TempMin</th>\n",
              "      <th>Insolacao</th>\n",
              "      <th>EvapoPiche</th>\n",
              "      <th>TempCompMedia</th>\n",
              "      <th>UmidRelatMedia</th>\n",
              "      <th>VelocVento</th>\n",
              "    </tr>\n",
              "  </thead>\n",
              "  <tbody>\n",
              "    <tr>\n",
              "      <th>0</th>\n",
              "      <td>0.0</td>\n",
              "      <td>30.6</td>\n",
              "      <td>21.4</td>\n",
              "      <td>11.1</td>\n",
              "      <td>4.4</td>\n",
              "      <td>25.14</td>\n",
              "      <td>73.50</td>\n",
              "      <td>2.666667</td>\n",
              "    </tr>\n",
              "    <tr>\n",
              "      <th>1</th>\n",
              "      <td>0.0</td>\n",
              "      <td>31.0</td>\n",
              "      <td>19.6</td>\n",
              "      <td>11.9</td>\n",
              "      <td>6.5</td>\n",
              "      <td>24.92</td>\n",
              "      <td>74.75</td>\n",
              "      <td>1.666667</td>\n",
              "    </tr>\n",
              "    <tr>\n",
              "      <th>2</th>\n",
              "      <td>0.0</td>\n",
              "      <td>31.6</td>\n",
              "      <td>18.5</td>\n",
              "      <td>11.3</td>\n",
              "      <td>5.0</td>\n",
              "      <td>24.90</td>\n",
              "      <td>77.25</td>\n",
              "      <td>2.333333</td>\n",
              "    </tr>\n",
              "    <tr>\n",
              "      <th>3</th>\n",
              "      <td>0.0</td>\n",
              "      <td>31.2</td>\n",
              "      <td>20.7</td>\n",
              "      <td>10.3</td>\n",
              "      <td>4.0</td>\n",
              "      <td>24.82</td>\n",
              "      <td>80.75</td>\n",
              "      <td>3.666667</td>\n",
              "    </tr>\n",
              "    <tr>\n",
              "      <th>4</th>\n",
              "      <td>0.0</td>\n",
              "      <td>30.8</td>\n",
              "      <td>19.9</td>\n",
              "      <td>11.0</td>\n",
              "      <td>4.2</td>\n",
              "      <td>24.78</td>\n",
              "      <td>76.00</td>\n",
              "      <td>4.000000</td>\n",
              "    </tr>\n",
              "  </tbody>\n",
              "</table>\n",
              "</div>"
            ],
            "text/plain": [
              "   Prec  TempMax  TempMin  Insolacao  EvapoPiche  TempCompMedia  \\\n",
              "0   0.0     30.6     21.4       11.1         4.4          25.14   \n",
              "1   0.0     31.0     19.6       11.9         6.5          24.92   \n",
              "2   0.0     31.6     18.5       11.3         5.0          24.90   \n",
              "3   0.0     31.2     20.7       10.3         4.0          24.82   \n",
              "4   0.0     30.8     19.9       11.0         4.2          24.78   \n",
              "\n",
              "   UmidRelatMedia  VelocVento  \n",
              "0           73.50    2.666667  \n",
              "1           74.75    1.666667  \n",
              "2           77.25    2.333333  \n",
              "3           80.75    3.666667  \n",
              "4           76.00    4.000000  "
            ]
          },
          "metadata": {
            "tags": []
          },
          "execution_count": 18
        }
      ]
    },
    {
      "metadata": {
        "id": "oPXso2gaeUoN",
        "colab_type": "code",
        "colab": {}
      },
      "cell_type": "code",
      "source": [
        "#Decodificando as estações em uma matriz (one hot encoding - dummy variables)\n",
        "encoder = LabelEncoder()\n",
        "encoder.fit(estacao)\n",
        "encodedSeason = encoder.transform(estacao)\n",
        "dummySeason = np_utils.to_categorical(encodedSeason)"
      ],
      "execution_count": 0,
      "outputs": []
    },
    {
      "metadata": {
        "id": "z3c5JCUHqBna",
        "colab_type": "code",
        "outputId": "7fc36c34-2c17-4cff-a6c1-7049ec5fca62",
        "colab": {
          "base_uri": "https://localhost:8080/",
          "height": 104
        }
      },
      "cell_type": "code",
      "source": [
        "#Identificar como aconteceu a transformação\n",
        "auxSeason = encoder.transform([\"Inv\",\"Out\",\"Pri\",\"Ver\"])\n",
        "auxDummy = np_utils.to_categorical(auxSeason)\n",
        "print(\"[Inv,Out,Pri,Ver]\")\n",
        "print(auxDummy)"
      ],
      "execution_count": 20,
      "outputs": [
        {
          "output_type": "stream",
          "text": [
            "[Inv,Out,Pri,Ver]\n",
            "[[1. 0. 0. 0.]\n",
            " [0. 1. 0. 0.]\n",
            " [0. 0. 1. 0.]\n",
            " [0. 0. 0. 1.]]\n"
          ],
          "name": "stdout"
        }
      ]
    },
    {
      "metadata": {
        "id": "cWsOQWadAsGG",
        "colab_type": "code",
        "colab": {}
      },
      "cell_type": "code",
      "source": [
        "#Separando a variável que será prevista, precipitação, da base de dados\n",
        "prec = dataSet[\"Prec\"]\n",
        "dataSet = dataSet.drop(columns = \"Prec\")"
      ],
      "execution_count": 0,
      "outputs": []
    },
    {
      "metadata": {
        "id": "yEz1zDeWDvBs",
        "colab_type": "code",
        "colab": {}
      },
      "cell_type": "code",
      "source": [
        "#Adicionando ao dataSet as informações de estação climática\n",
        "dataSet[\"Inv\"] = dummySeason[:,0]\n",
        "dataSet[\"Out\"] = dummySeason[:,1]\n",
        "dataSet[\"Pri\"] = dummySeason[:,2]\n",
        "dataSet[\"Ver\"] = dummySeason[:,3]"
      ],
      "execution_count": 0,
      "outputs": []
    },
    {
      "metadata": {
        "id": "Y2eHNMUbET06",
        "colab_type": "code",
        "outputId": "81e30779-5204-4b28-aedf-84f75e37af1d",
        "colab": {
          "base_uri": "https://localhost:8080/",
          "height": 206
        }
      },
      "cell_type": "code",
      "source": [
        "#Visualizando dados\n",
        "dataSet.head()"
      ],
      "execution_count": 23,
      "outputs": [
        {
          "output_type": "execute_result",
          "data": {
            "text/html": [
              "<div>\n",
              "<style scoped>\n",
              "    .dataframe tbody tr th:only-of-type {\n",
              "        vertical-align: middle;\n",
              "    }\n",
              "\n",
              "    .dataframe tbody tr th {\n",
              "        vertical-align: top;\n",
              "    }\n",
              "\n",
              "    .dataframe thead th {\n",
              "        text-align: right;\n",
              "    }\n",
              "</style>\n",
              "<table border=\"1\" class=\"dataframe\">\n",
              "  <thead>\n",
              "    <tr style=\"text-align: right;\">\n",
              "      <th></th>\n",
              "      <th>TempMax</th>\n",
              "      <th>TempMin</th>\n",
              "      <th>Insolacao</th>\n",
              "      <th>EvapoPiche</th>\n",
              "      <th>TempCompMedia</th>\n",
              "      <th>UmidRelatMedia</th>\n",
              "      <th>VelocVento</th>\n",
              "      <th>Inv</th>\n",
              "      <th>Out</th>\n",
              "      <th>Pri</th>\n",
              "      <th>Ver</th>\n",
              "    </tr>\n",
              "  </thead>\n",
              "  <tbody>\n",
              "    <tr>\n",
              "      <th>0</th>\n",
              "      <td>30.6</td>\n",
              "      <td>21.4</td>\n",
              "      <td>11.1</td>\n",
              "      <td>4.4</td>\n",
              "      <td>25.14</td>\n",
              "      <td>73.50</td>\n",
              "      <td>2.666667</td>\n",
              "      <td>0.0</td>\n",
              "      <td>0.0</td>\n",
              "      <td>0.0</td>\n",
              "      <td>1.0</td>\n",
              "    </tr>\n",
              "    <tr>\n",
              "      <th>1</th>\n",
              "      <td>31.0</td>\n",
              "      <td>19.6</td>\n",
              "      <td>11.9</td>\n",
              "      <td>6.5</td>\n",
              "      <td>24.92</td>\n",
              "      <td>74.75</td>\n",
              "      <td>1.666667</td>\n",
              "      <td>0.0</td>\n",
              "      <td>0.0</td>\n",
              "      <td>0.0</td>\n",
              "      <td>1.0</td>\n",
              "    </tr>\n",
              "    <tr>\n",
              "      <th>2</th>\n",
              "      <td>31.6</td>\n",
              "      <td>18.5</td>\n",
              "      <td>11.3</td>\n",
              "      <td>5.0</td>\n",
              "      <td>24.90</td>\n",
              "      <td>77.25</td>\n",
              "      <td>2.333333</td>\n",
              "      <td>0.0</td>\n",
              "      <td>0.0</td>\n",
              "      <td>0.0</td>\n",
              "      <td>1.0</td>\n",
              "    </tr>\n",
              "    <tr>\n",
              "      <th>3</th>\n",
              "      <td>31.2</td>\n",
              "      <td>20.7</td>\n",
              "      <td>10.3</td>\n",
              "      <td>4.0</td>\n",
              "      <td>24.82</td>\n",
              "      <td>80.75</td>\n",
              "      <td>3.666667</td>\n",
              "      <td>0.0</td>\n",
              "      <td>0.0</td>\n",
              "      <td>0.0</td>\n",
              "      <td>1.0</td>\n",
              "    </tr>\n",
              "    <tr>\n",
              "      <th>4</th>\n",
              "      <td>30.8</td>\n",
              "      <td>19.9</td>\n",
              "      <td>11.0</td>\n",
              "      <td>4.2</td>\n",
              "      <td>24.78</td>\n",
              "      <td>76.00</td>\n",
              "      <td>4.000000</td>\n",
              "      <td>0.0</td>\n",
              "      <td>0.0</td>\n",
              "      <td>0.0</td>\n",
              "      <td>1.0</td>\n",
              "    </tr>\n",
              "  </tbody>\n",
              "</table>\n",
              "</div>"
            ],
            "text/plain": [
              "   TempMax  TempMin  Insolacao  EvapoPiche  TempCompMedia  UmidRelatMedia  \\\n",
              "0     30.6     21.4       11.1         4.4          25.14           73.50   \n",
              "1     31.0     19.6       11.9         6.5          24.92           74.75   \n",
              "2     31.6     18.5       11.3         5.0          24.90           77.25   \n",
              "3     31.2     20.7       10.3         4.0          24.82           80.75   \n",
              "4     30.8     19.9       11.0         4.2          24.78           76.00   \n",
              "\n",
              "   VelocVento  Inv  Out  Pri  Ver  \n",
              "0    2.666667  0.0  0.0  0.0  1.0  \n",
              "1    1.666667  0.0  0.0  0.0  1.0  \n",
              "2    2.333333  0.0  0.0  0.0  1.0  \n",
              "3    3.666667  0.0  0.0  0.0  1.0  \n",
              "4    4.000000  0.0  0.0  0.0  1.0  "
            ]
          },
          "metadata": {
            "tags": []
          },
          "execution_count": 23
        }
      ]
    },
    {
      "metadata": {
        "id": "e6AWMiNF2XgU",
        "colab_type": "code",
        "colab": {}
      },
      "cell_type": "code",
      "source": [
        "#Separando conjunto de treino e teste\n",
        "X_train, X_test, Y_train, Y_test = train_test_split(dataSet, prec, test_size = 0.1, random_state = 5)"
      ],
      "execution_count": 0,
      "outputs": []
    },
    {
      "metadata": {
        "id": "q9vTWZ9PCH4H",
        "colab_type": "code",
        "colab": {}
      },
      "cell_type": "code",
      "source": [
        "#Efetuando uma transformação robusta, trabalhando com os dados entre os percentis 10 e 90\n",
        "rs = RobustScaler(quantile_range = (10.0,90.0))\n",
        "X_train = rs.fit_transform(X_train)\n",
        "X_test = rs.transform(X_test)"
      ],
      "execution_count": 0,
      "outputs": []
    },
    {
      "metadata": {
        "id": "GgM6EySIB4-I",
        "colab_type": "code",
        "colab": {}
      },
      "cell_type": "code",
      "source": [
        "#Definindo uma função para criar a MLP\n",
        "def trainMLP(optimizer='rmsprop', init='normal', units = 11, camadas = 2):    \n",
        "  #Criando o modelo\n",
        "  mlp = Sequential()\n",
        "  #Adicionando a camada de entrada\n",
        "  mlp.add(Dense(activation = 'tanh', input_dim = 11, units = units, kernel_initializer = init))\n",
        "  #Adicionando as camadas escondidas\n",
        "  for i in range(camadas):\n",
        "    mlp.add(Dense(activation = 'tanh', units = units, kernel_initializer = init))\n",
        "  #Adicionando a camada de saída\n",
        "  mlp.add(Dense(units = 1, kernel_initializer=init))    \n",
        "  # Compilando o modelo\n",
        "  mlp.compile(loss='mae',optimizer = optimizer, metrics= ['mse', 'acc'])\n",
        "  return mlp"
      ],
      "execution_count": 0,
      "outputs": []
    },
    {
      "metadata": {
        "colab_type": "code",
        "id": "eqVxoZwYVAaJ",
        "colab": {}
      },
      "cell_type": "code",
      "source": [
        "#Modelo de classificação do Keras\n",
        "estimator = KerasRegressor(build_fn=trainMLP, epochs = 300, verbose = 1)"
      ],
      "execution_count": 0,
      "outputs": []
    },
    {
      "metadata": {
        "colab_type": "code",
        "id": "wGupNX3XU_kO",
        "colab": {}
      },
      "cell_type": "code",
      "source": [
        "#Criando o objeto para Cross Validation\n",
        "kfold = KFold(n_splits=5, shuffle=True, random_state=7)"
      ],
      "execution_count": 0,
      "outputs": []
    },
    {
      "metadata": {
        "id": "MQlUXb3SE7O-",
        "colab_type": "code",
        "colab": {}
      },
      "cell_type": "code",
      "source": [
        "#Parâmetros para o Grid Search\n",
        "parameters = {'batch_size': [10],             \n",
        "              'camadas': [4,5],\n",
        "              'units': [11]}"
      ],
      "execution_count": 0,
      "outputs": []
    },
    {
      "metadata": {
        "id": "uyU0TuUjOacd",
        "colab_type": "code",
        "colab": {}
      },
      "cell_type": "code",
      "source": [
        "#Modelagem para buscar os melhores parâmetros\n",
        "grid_search = GridSearchCV(estimator = estimator, param_grid = parameters, n_jobs = -1,\n",
        "                       scoring = \"neg_mean_absolute_error\", verbose=2, cv = kfold, return_train_score = True)"
      ],
      "execution_count": 0,
      "outputs": []
    },
    {
      "metadata": {
        "id": "M0yrJYODR7kb",
        "colab_type": "code",
        "colab": {
          "base_uri": "https://localhost:8080/",
          "height": 10613
        },
        "outputId": "e77fdcd1-351e-48af-fb8e-5d16eea8ca79"
      },
      "cell_type": "code",
      "source": [
        "#Busca pelos melhores parâmetros\n",
        "grid_result = grid_search.fit(X_train, Y_train)"
      ],
      "execution_count": 31,
      "outputs": [
        {
          "output_type": "stream",
          "text": [
            "Fitting 5 folds for each of 2 candidates, totalling 10 fits\n"
          ],
          "name": "stdout"
        },
        {
          "output_type": "stream",
          "text": [
            "[Parallel(n_jobs=-1)]: Using backend LokyBackend with 2 concurrent workers.\n"
          ],
          "name": "stderr"
        },
        {
          "output_type": "stream",
          "text": [
            "WARNING:tensorflow:From /usr/local/lib/python3.6/dist-packages/tensorflow/python/framework/op_def_library.py:263: colocate_with (from tensorflow.python.framework.ops) is deprecated and will be removed in a future version.\n",
            "Instructions for updating:\n",
            "Colocations handled automatically by placer.\n",
            "WARNING:tensorflow:From /usr/local/lib/python3.6/dist-packages/tensorflow/python/ops/math_ops.py:3066: to_int32 (from tensorflow.python.ops.math_ops) is deprecated and will be removed in a future version.\n",
            "Instructions for updating:\n",
            "Use tf.cast instead.\n"
          ],
          "name": "stdout"
        },
        {
          "output_type": "stream",
          "text": [
            "[Parallel(n_jobs=-1)]: Done  10 out of  10 | elapsed: 33.8min finished\n"
          ],
          "name": "stderr"
        },
        {
          "output_type": "stream",
          "text": [
            "Epoch 1/300\n",
            "10719/10719 [==============================] - 1s 117us/step - loss: 4.3854 - mean_squared_error: 183.8523 - acc: 0.4175\n",
            "Epoch 2/300\n",
            "10719/10719 [==============================] - 1s 99us/step - loss: 4.3164 - mean_squared_error: 176.2349 - acc: 0.3346\n",
            "Epoch 3/300\n",
            "10719/10719 [==============================] - 1s 100us/step - loss: 4.2786 - mean_squared_error: 172.4932 - acc: 0.3206\n",
            "Epoch 4/300\n",
            "10719/10719 [==============================] - 1s 100us/step - loss: 4.0999 - mean_squared_error: 163.9039 - acc: 0.3984\n",
            "Epoch 5/300\n",
            "10719/10719 [==============================] - 1s 100us/step - loss: 3.8917 - mean_squared_error: 151.7738 - acc: 0.4829\n",
            "Epoch 6/300\n",
            "10719/10719 [==============================] - 1s 100us/step - loss: 3.8369 - mean_squared_error: 146.5569 - acc: 0.4843\n",
            "Epoch 7/300\n",
            "10719/10719 [==============================] - 1s 101us/step - loss: 3.8141 - mean_squared_error: 143.7871 - acc: 0.4825\n",
            "Epoch 8/300\n",
            "10719/10719 [==============================] - 1s 100us/step - loss: 3.8030 - mean_squared_error: 141.7481 - acc: 0.4782\n",
            "Epoch 9/300\n",
            "10719/10719 [==============================] - 1s 101us/step - loss: 3.7828 - mean_squared_error: 139.4908 - acc: 0.4779\n",
            "Epoch 10/300\n",
            "10719/10719 [==============================] - 1s 101us/step - loss: 3.7780 - mean_squared_error: 139.1570 - acc: 0.4793\n",
            "Epoch 11/300\n",
            "10719/10719 [==============================] - 1s 100us/step - loss: 3.7723 - mean_squared_error: 136.9659 - acc: 0.4690\n",
            "Epoch 12/300\n",
            "10719/10719 [==============================] - 1s 99us/step - loss: 3.7678 - mean_squared_error: 136.4005 - acc: 0.4678\n",
            "Epoch 13/300\n",
            "10719/10719 [==============================] - 1s 101us/step - loss: 3.7644 - mean_squared_error: 136.3540 - acc: 0.4696\n",
            "Epoch 14/300\n",
            "10719/10719 [==============================] - 1s 101us/step - loss: 3.7633 - mean_squared_error: 135.4808 - acc: 0.4676\n",
            "Epoch 15/300\n",
            "10719/10719 [==============================] - 1s 100us/step - loss: 3.7583 - mean_squared_error: 135.2910 - acc: 0.4632\n",
            "Epoch 16/300\n",
            "10719/10719 [==============================] - 1s 100us/step - loss: 3.7579 - mean_squared_error: 134.0402 - acc: 0.4652\n",
            "Epoch 17/300\n",
            "10719/10719 [==============================] - 1s 100us/step - loss: 3.7541 - mean_squared_error: 134.0841 - acc: 0.4712\n",
            "Epoch 18/300\n",
            "10719/10719 [==============================] - 1s 101us/step - loss: 3.7508 - mean_squared_error: 132.8016 - acc: 0.4673\n",
            "Epoch 19/300\n",
            "10719/10719 [==============================] - 1s 101us/step - loss: 3.7492 - mean_squared_error: 134.7071 - acc: 0.4689\n",
            "Epoch 20/300\n",
            "10719/10719 [==============================] - 1s 99us/step - loss: 3.7348 - mean_squared_error: 133.2268 - acc: 0.4667\n",
            "Epoch 21/300\n",
            "10719/10719 [==============================] - 1s 100us/step - loss: 3.7307 - mean_squared_error: 132.5703 - acc: 0.4692\n",
            "Epoch 22/300\n",
            "10719/10719 [==============================] - 1s 102us/step - loss: 3.7252 - mean_squared_error: 132.5706 - acc: 0.4737\n",
            "Epoch 23/300\n",
            "10719/10719 [==============================] - 1s 101us/step - loss: 3.7226 - mean_squared_error: 132.7713 - acc: 0.4728\n",
            "Epoch 24/300\n",
            "10719/10719 [==============================] - 1s 101us/step - loss: 3.7163 - mean_squared_error: 132.1420 - acc: 0.4750\n",
            "Epoch 25/300\n",
            "10719/10719 [==============================] - 1s 100us/step - loss: 3.7162 - mean_squared_error: 131.6820 - acc: 0.4773\n",
            "Epoch 26/300\n",
            "10719/10719 [==============================] - 1s 101us/step - loss: 3.7178 - mean_squared_error: 131.5156 - acc: 0.4778\n",
            "Epoch 27/300\n",
            "10719/10719 [==============================] - 1s 100us/step - loss: 3.7010 - mean_squared_error: 131.0996 - acc: 0.4791\n",
            "Epoch 28/300\n",
            "10719/10719 [==============================] - 1s 100us/step - loss: 3.7064 - mean_squared_error: 131.2851 - acc: 0.4802\n",
            "Epoch 29/300\n",
            "10719/10719 [==============================] - 1s 101us/step - loss: 3.6958 - mean_squared_error: 130.8501 - acc: 0.4782\n",
            "Epoch 30/300\n",
            "10719/10719 [==============================] - 1s 101us/step - loss: 3.6931 - mean_squared_error: 130.9592 - acc: 0.4799\n",
            "Epoch 31/300\n",
            "10719/10719 [==============================] - 1s 100us/step - loss: 3.6923 - mean_squared_error: 129.9031 - acc: 0.4787\n",
            "Epoch 32/300\n",
            "10719/10719 [==============================] - 1s 99us/step - loss: 3.6910 - mean_squared_error: 129.6800 - acc: 0.4820\n",
            "Epoch 33/300\n",
            "10719/10719 [==============================] - 1s 100us/step - loss: 3.6872 - mean_squared_error: 130.4916 - acc: 0.4843\n",
            "Epoch 34/300\n",
            "10719/10719 [==============================] - 1s 99us/step - loss: 3.6878 - mean_squared_error: 130.0965 - acc: 0.4800\n",
            "Epoch 35/300\n",
            "10719/10719 [==============================] - 1s 101us/step - loss: 3.6849 - mean_squared_error: 130.7734 - acc: 0.4852\n",
            "Epoch 36/300\n",
            "10719/10719 [==============================] - 1s 99us/step - loss: 3.6840 - mean_squared_error: 130.1575 - acc: 0.4797\n",
            "Epoch 37/300\n",
            "10719/10719 [==============================] - 1s 100us/step - loss: 3.6843 - mean_squared_error: 129.7279 - acc: 0.4822\n",
            "Epoch 38/300\n",
            "10719/10719 [==============================] - 1s 103us/step - loss: 3.6853 - mean_squared_error: 130.0433 - acc: 0.4855\n",
            "Epoch 39/300\n",
            "10719/10719 [==============================] - 1s 106us/step - loss: 3.6786 - mean_squared_error: 129.8715 - acc: 0.4826\n",
            "Epoch 40/300\n",
            "10719/10719 [==============================] - 1s 107us/step - loss: 3.6770 - mean_squared_error: 129.3345 - acc: 0.4864\n",
            "Epoch 41/300\n",
            "10719/10719 [==============================] - 1s 106us/step - loss: 3.6722 - mean_squared_error: 129.5816 - acc: 0.4847\n",
            "Epoch 42/300\n",
            "10719/10719 [==============================] - 1s 107us/step - loss: 3.6716 - mean_squared_error: 130.0144 - acc: 0.4850\n",
            "Epoch 43/300\n",
            "10719/10719 [==============================] - 1s 101us/step - loss: 3.6707 - mean_squared_error: 130.1310 - acc: 0.4868\n",
            "Epoch 44/300\n",
            "10719/10719 [==============================] - 1s 102us/step - loss: 3.6731 - mean_squared_error: 129.2476 - acc: 0.4851\n",
            "Epoch 45/300\n",
            "10719/10719 [==============================] - 1s 100us/step - loss: 3.6637 - mean_squared_error: 129.3926 - acc: 0.4875\n",
            "Epoch 46/300\n",
            "10719/10719 [==============================] - 1s 100us/step - loss: 3.6680 - mean_squared_error: 128.6397 - acc: 0.4919\n",
            "Epoch 47/300\n",
            "10719/10719 [==============================] - 1s 100us/step - loss: 3.6620 - mean_squared_error: 129.2768 - acc: 0.4855\n",
            "Epoch 48/300\n",
            "10719/10719 [==============================] - 1s 101us/step - loss: 3.6537 - mean_squared_error: 128.7627 - acc: 0.4887\n",
            "Epoch 49/300\n",
            "10719/10719 [==============================] - 1s 100us/step - loss: 3.6616 - mean_squared_error: 128.1093 - acc: 0.4885\n",
            "Epoch 50/300\n",
            "10719/10719 [==============================] - 1s 99us/step - loss: 3.6576 - mean_squared_error: 129.2689 - acc: 0.4889\n",
            "Epoch 51/300\n",
            "10719/10719 [==============================] - 1s 100us/step - loss: 3.6598 - mean_squared_error: 129.6122 - acc: 0.4911\n",
            "Epoch 52/300\n",
            "10719/10719 [==============================] - 1s 100us/step - loss: 3.6499 - mean_squared_error: 129.2619 - acc: 0.4913\n",
            "Epoch 53/300\n",
            "10719/10719 [==============================] - 1s 101us/step - loss: 3.6491 - mean_squared_error: 128.7206 - acc: 0.4908\n",
            "Epoch 54/300\n",
            "10719/10719 [==============================] - 1s 100us/step - loss: 3.6499 - mean_squared_error: 127.5143 - acc: 0.4912\n",
            "Epoch 55/300\n",
            "10719/10719 [==============================] - 1s 101us/step - loss: 3.6545 - mean_squared_error: 128.7750 - acc: 0.4907\n",
            "Epoch 56/300\n",
            "10719/10719 [==============================] - 1s 99us/step - loss: 3.6405 - mean_squared_error: 127.2559 - acc: 0.4917\n",
            "Epoch 57/300\n",
            "10719/10719 [==============================] - 1s 100us/step - loss: 3.6521 - mean_squared_error: 127.6704 - acc: 0.4910\n",
            "Epoch 58/300\n",
            "10719/10719 [==============================] - 1s 99us/step - loss: 3.6421 - mean_squared_error: 128.2606 - acc: 0.4935\n",
            "Epoch 59/300\n",
            "10719/10719 [==============================] - 1s 100us/step - loss: 3.6426 - mean_squared_error: 127.7098 - acc: 0.4937\n",
            "Epoch 60/300\n",
            "10719/10719 [==============================] - 1s 100us/step - loss: 3.6420 - mean_squared_error: 127.6599 - acc: 0.4939\n",
            "Epoch 61/300\n",
            "10719/10719 [==============================] - 1s 100us/step - loss: 3.6434 - mean_squared_error: 127.3062 - acc: 0.4953\n",
            "Epoch 62/300\n",
            "10719/10719 [==============================] - 1s 101us/step - loss: 3.6364 - mean_squared_error: 127.1049 - acc: 0.4933\n",
            "Epoch 63/300\n",
            "10719/10719 [==============================] - 1s 100us/step - loss: 3.6374 - mean_squared_error: 127.2302 - acc: 0.4979\n",
            "Epoch 64/300\n",
            "10719/10719 [==============================] - 1s 100us/step - loss: 3.6302 - mean_squared_error: 126.5757 - acc: 0.4930\n",
            "Epoch 65/300\n",
            "10719/10719 [==============================] - 1s 101us/step - loss: 3.6311 - mean_squared_error: 126.2633 - acc: 0.4967\n",
            "Epoch 66/300\n",
            "10719/10719 [==============================] - 1s 101us/step - loss: 3.6305 - mean_squared_error: 127.2396 - acc: 0.4943\n",
            "Epoch 67/300\n",
            "10719/10719 [==============================] - 1s 100us/step - loss: 3.6303 - mean_squared_error: 126.8674 - acc: 0.4948\n",
            "Epoch 68/300\n",
            "10719/10719 [==============================] - 1s 100us/step - loss: 3.6329 - mean_squared_error: 126.8047 - acc: 0.4940\n",
            "Epoch 69/300\n",
            "10719/10719 [==============================] - 1s 101us/step - loss: 3.6213 - mean_squared_error: 124.8846 - acc: 0.4943\n",
            "Epoch 70/300\n",
            "10719/10719 [==============================] - 1s 101us/step - loss: 3.6248 - mean_squared_error: 126.5387 - acc: 0.4937\n",
            "Epoch 71/300\n",
            "10719/10719 [==============================] - 1s 100us/step - loss: 3.6277 - mean_squared_error: 127.2709 - acc: 0.4954\n",
            "Epoch 72/300\n",
            "10719/10719 [==============================] - 1s 100us/step - loss: 3.6176 - mean_squared_error: 125.9934 - acc: 0.4943\n",
            "Epoch 73/300\n",
            "10719/10719 [==============================] - 1s 101us/step - loss: 3.6213 - mean_squared_error: 125.5196 - acc: 0.4935\n",
            "Epoch 74/300\n",
            "10719/10719 [==============================] - 1s 100us/step - loss: 3.6138 - mean_squared_error: 125.1528 - acc: 0.4926\n",
            "Epoch 75/300\n",
            "10719/10719 [==============================] - 1s 101us/step - loss: 3.6105 - mean_squared_error: 126.1829 - acc: 0.4944\n",
            "Epoch 76/300\n",
            "10719/10719 [==============================] - 1s 101us/step - loss: 3.6166 - mean_squared_error: 126.8367 - acc: 0.4930\n",
            "Epoch 77/300\n",
            "10719/10719 [==============================] - 1s 100us/step - loss: 3.6146 - mean_squared_error: 125.7838 - acc: 0.4919\n",
            "Epoch 78/300\n",
            "10719/10719 [==============================] - 1s 100us/step - loss: 3.6146 - mean_squared_error: 125.5285 - acc: 0.4914\n",
            "Epoch 79/300\n",
            "10719/10719 [==============================] - 1s 99us/step - loss: 3.6134 - mean_squared_error: 125.3738 - acc: 0.4922\n",
            "Epoch 80/300\n",
            "10719/10719 [==============================] - 1s 101us/step - loss: 3.6088 - mean_squared_error: 126.0396 - acc: 0.4947\n",
            "Epoch 81/300\n",
            "10719/10719 [==============================] - 1s 101us/step - loss: 3.6199 - mean_squared_error: 127.2924 - acc: 0.4938\n",
            "Epoch 82/300\n",
            "10719/10719 [==============================] - 1s 99us/step - loss: 3.6113 - mean_squared_error: 125.2822 - acc: 0.4917\n",
            "Epoch 83/300\n",
            "10719/10719 [==============================] - 1s 100us/step - loss: 3.6105 - mean_squared_error: 125.6060 - acc: 0.4942\n",
            "Epoch 84/300\n",
            "10719/10719 [==============================] - 1s 102us/step - loss: 3.6073 - mean_squared_error: 125.0962 - acc: 0.4904\n",
            "Epoch 85/300\n",
            "10719/10719 [==============================] - 1s 100us/step - loss: 3.6074 - mean_squared_error: 125.5586 - acc: 0.4916\n",
            "Epoch 86/300\n",
            "10719/10719 [==============================] - 1s 101us/step - loss: 3.6086 - mean_squared_error: 125.3713 - acc: 0.4892\n",
            "Epoch 87/300\n",
            "10719/10719 [==============================] - 1s 101us/step - loss: 3.6079 - mean_squared_error: 125.4881 - acc: 0.4937\n",
            "Epoch 88/300\n",
            "10719/10719 [==============================] - 1s 100us/step - loss: 3.5915 - mean_squared_error: 124.5104 - acc: 0.4930\n",
            "Epoch 89/300\n",
            "10719/10719 [==============================] - 1s 100us/step - loss: 3.6057 - mean_squared_error: 125.0103 - acc: 0.4944\n",
            "Epoch 90/300\n",
            "10719/10719 [==============================] - 1s 100us/step - loss: 3.6014 - mean_squared_error: 124.2791 - acc: 0.4883\n",
            "Epoch 91/300\n",
            "10719/10719 [==============================] - 1s 100us/step - loss: 3.6016 - mean_squared_error: 125.0640 - acc: 0.4888\n",
            "Epoch 92/300\n",
            "10719/10719 [==============================] - 1s 101us/step - loss: 3.6080 - mean_squared_error: 124.9324 - acc: 0.4897\n",
            "Epoch 93/300\n",
            "10719/10719 [==============================] - 1s 100us/step - loss: 3.5996 - mean_squared_error: 125.1558 - acc: 0.4903\n",
            "Epoch 94/300\n",
            "10719/10719 [==============================] - 1s 101us/step - loss: 3.5882 - mean_squared_error: 123.4850 - acc: 0.4912\n",
            "Epoch 95/300\n",
            "10719/10719 [==============================] - 1s 99us/step - loss: 3.5898 - mean_squared_error: 122.8359 - acc: 0.4891\n",
            "Epoch 96/300\n",
            "10719/10719 [==============================] - 1s 101us/step - loss: 3.6024 - mean_squared_error: 124.1217 - acc: 0.4920\n",
            "Epoch 97/300\n",
            "10719/10719 [==============================] - 1s 98us/step - loss: 3.6017 - mean_squared_error: 123.7000 - acc: 0.4929\n",
            "Epoch 98/300\n",
            "10719/10719 [==============================] - 1s 101us/step - loss: 3.5932 - mean_squared_error: 123.0578 - acc: 0.4881\n",
            "Epoch 99/300\n",
            "10719/10719 [==============================] - 1s 100us/step - loss: 3.5891 - mean_squared_error: 124.2670 - acc: 0.4934\n",
            "Epoch 100/300\n",
            "10719/10719 [==============================] - 1s 100us/step - loss: 3.5835 - mean_squared_error: 123.9924 - acc: 0.4917\n",
            "Epoch 101/300\n",
            "10719/10719 [==============================] - 1s 99us/step - loss: 3.5882 - mean_squared_error: 123.9761 - acc: 0.4916\n",
            "Epoch 102/300\n",
            "10719/10719 [==============================] - 1s 100us/step - loss: 3.5894 - mean_squared_error: 123.1172 - acc: 0.4925\n",
            "Epoch 103/300\n",
            "10719/10719 [==============================] - 1s 99us/step - loss: 3.5860 - mean_squared_error: 123.4124 - acc: 0.4905\n",
            "Epoch 104/300\n",
            "10719/10719 [==============================] - 1s 101us/step - loss: 3.5801 - mean_squared_error: 123.1857 - acc: 0.4920\n",
            "Epoch 105/300\n",
            "10719/10719 [==============================] - 1s 99us/step - loss: 3.5872 - mean_squared_error: 123.4106 - acc: 0.4895\n",
            "Epoch 106/300\n",
            "10719/10719 [==============================] - 1s 99us/step - loss: 3.5881 - mean_squared_error: 124.0965 - acc: 0.4903\n",
            "Epoch 107/300\n",
            "10719/10719 [==============================] - 1s 100us/step - loss: 3.5877 - mean_squared_error: 122.3489 - acc: 0.4922\n",
            "Epoch 108/300\n",
            "10719/10719 [==============================] - 1s 101us/step - loss: 3.5743 - mean_squared_error: 123.1046 - acc: 0.4915\n",
            "Epoch 109/300\n",
            "10719/10719 [==============================] - 1s 102us/step - loss: 3.5786 - mean_squared_error: 123.7514 - acc: 0.4897\n",
            "Epoch 110/300\n",
            "10719/10719 [==============================] - 1s 100us/step - loss: 3.5707 - mean_squared_error: 123.8597 - acc: 0.4922\n",
            "Epoch 111/300\n",
            "10719/10719 [==============================] - 1s 100us/step - loss: 3.5714 - mean_squared_error: 123.0162 - acc: 0.4916\n",
            "Epoch 112/300\n",
            "10719/10719 [==============================] - 1s 100us/step - loss: 3.5823 - mean_squared_error: 123.5491 - acc: 0.4906\n",
            "Epoch 113/300\n",
            "10719/10719 [==============================] - 1s 99us/step - loss: 3.5833 - mean_squared_error: 123.8427 - acc: 0.4947\n",
            "Epoch 114/300\n",
            "10719/10719 [==============================] - 1s 100us/step - loss: 3.5805 - mean_squared_error: 123.9359 - acc: 0.4895\n",
            "Epoch 115/300\n",
            "10719/10719 [==============================] - 1s 101us/step - loss: 3.5725 - mean_squared_error: 123.4621 - acc: 0.4930\n",
            "Epoch 116/300\n",
            "10719/10719 [==============================] - 1s 100us/step - loss: 3.5679 - mean_squared_error: 122.1978 - acc: 0.4928\n",
            "Epoch 117/300\n",
            "10719/10719 [==============================] - 1s 100us/step - loss: 3.5768 - mean_squared_error: 122.9732 - acc: 0.4903\n",
            "Epoch 118/300\n",
            "10719/10719 [==============================] - 1s 101us/step - loss: 3.5707 - mean_squared_error: 122.9246 - acc: 0.4920\n",
            "Epoch 119/300\n",
            "10719/10719 [==============================] - 1s 100us/step - loss: 3.5737 - mean_squared_error: 122.6378 - acc: 0.4939\n",
            "Epoch 120/300\n",
            "10719/10719 [==============================] - 1s 99us/step - loss: 3.5685 - mean_squared_error: 122.4493 - acc: 0.4931\n",
            "Epoch 121/300\n",
            "10719/10719 [==============================] - 1s 99us/step - loss: 3.5652 - mean_squared_error: 122.3142 - acc: 0.4940\n",
            "Epoch 122/300\n",
            "10719/10719 [==============================] - 1s 102us/step - loss: 3.5695 - mean_squared_error: 121.8010 - acc: 0.4939\n",
            "Epoch 123/300\n",
            "10719/10719 [==============================] - 1s 99us/step - loss: 3.5659 - mean_squared_error: 122.6345 - acc: 0.4930\n",
            "Epoch 124/300\n",
            "10719/10719 [==============================] - 1s 101us/step - loss: 3.5634 - mean_squared_error: 122.4809 - acc: 0.4920\n",
            "Epoch 125/300\n",
            "10719/10719 [==============================] - 1s 101us/step - loss: 3.5664 - mean_squared_error: 121.7841 - acc: 0.4941\n",
            "Epoch 126/300\n",
            "10719/10719 [==============================] - 1s 100us/step - loss: 3.5633 - mean_squared_error: 120.5106 - acc: 0.4919\n",
            "Epoch 127/300\n",
            "10719/10719 [==============================] - 1s 100us/step - loss: 3.5744 - mean_squared_error: 123.8110 - acc: 0.4942\n",
            "Epoch 128/300\n",
            "10719/10719 [==============================] - 1s 101us/step - loss: 3.5577 - mean_squared_error: 123.1706 - acc: 0.4933\n",
            "Epoch 129/300\n",
            "10719/10719 [==============================] - 1s 101us/step - loss: 3.5682 - mean_squared_error: 122.5788 - acc: 0.4925\n",
            "Epoch 130/300\n",
            "10719/10719 [==============================] - 1s 101us/step - loss: 3.5592 - mean_squared_error: 121.8673 - acc: 0.4928\n",
            "Epoch 131/300\n",
            "10719/10719 [==============================] - 1s 100us/step - loss: 3.5644 - mean_squared_error: 122.1598 - acc: 0.4926\n",
            "Epoch 132/300\n",
            "10719/10719 [==============================] - 1s 98us/step - loss: 3.5601 - mean_squared_error: 122.0522 - acc: 0.4918\n",
            "Epoch 133/300\n",
            "10719/10719 [==============================] - 1s 101us/step - loss: 3.5600 - mean_squared_error: 122.4100 - acc: 0.4937\n",
            "Epoch 134/300\n",
            "10719/10719 [==============================] - 1s 100us/step - loss: 3.5522 - mean_squared_error: 122.5204 - acc: 0.4960\n",
            "Epoch 135/300\n",
            "10719/10719 [==============================] - 1s 99us/step - loss: 3.5615 - mean_squared_error: 121.5537 - acc: 0.4922\n",
            "Epoch 136/300\n",
            "10719/10719 [==============================] - 1s 100us/step - loss: 3.5569 - mean_squared_error: 121.2909 - acc: 0.4954\n",
            "Epoch 137/300\n",
            "10719/10719 [==============================] - 1s 100us/step - loss: 3.5640 - mean_squared_error: 122.0603 - acc: 0.4946\n",
            "Epoch 138/300\n",
            "10719/10719 [==============================] - 1s 100us/step - loss: 3.5515 - mean_squared_error: 121.7053 - acc: 0.4935\n",
            "Epoch 139/300\n",
            "10719/10719 [==============================] - 1s 99us/step - loss: 3.5642 - mean_squared_error: 122.4362 - acc: 0.4947\n",
            "Epoch 140/300\n",
            "10719/10719 [==============================] - 1s 100us/step - loss: 3.5622 - mean_squared_error: 121.9110 - acc: 0.4948\n",
            "Epoch 141/300\n",
            "10719/10719 [==============================] - 1s 99us/step - loss: 3.5597 - mean_squared_error: 120.7036 - acc: 0.4955\n",
            "Epoch 142/300\n",
            "10719/10719 [==============================] - 1s 100us/step - loss: 3.5582 - mean_squared_error: 122.3375 - acc: 0.4937\n",
            "Epoch 143/300\n",
            "10719/10719 [==============================] - 1s 99us/step - loss: 3.5578 - mean_squared_error: 121.8002 - acc: 0.4942\n",
            "Epoch 144/300\n",
            "10719/10719 [==============================] - 1s 100us/step - loss: 3.5583 - mean_squared_error: 122.0871 - acc: 0.4947\n",
            "Epoch 145/300\n",
            "10719/10719 [==============================] - 1s 101us/step - loss: 3.5623 - mean_squared_error: 121.5471 - acc: 0.4954\n",
            "Epoch 146/300\n",
            "10719/10719 [==============================] - 1s 100us/step - loss: 3.5564 - mean_squared_error: 123.2917 - acc: 0.4945\n",
            "Epoch 147/300\n",
            "10719/10719 [==============================] - 1s 101us/step - loss: 3.5487 - mean_squared_error: 122.1189 - acc: 0.4936\n",
            "Epoch 148/300\n",
            "10719/10719 [==============================] - 1s 99us/step - loss: 3.5503 - mean_squared_error: 121.5982 - acc: 0.4928\n",
            "Epoch 149/300\n",
            "10719/10719 [==============================] - 1s 100us/step - loss: 3.5599 - mean_squared_error: 120.2788 - acc: 0.4969\n",
            "Epoch 150/300\n",
            "10719/10719 [==============================] - 1s 103us/step - loss: 3.5470 - mean_squared_error: 121.9731 - acc: 0.4939\n",
            "Epoch 151/300\n",
            "10719/10719 [==============================] - 1s 101us/step - loss: 3.5550 - mean_squared_error: 121.3873 - acc: 0.4956\n",
            "Epoch 152/300\n",
            "10719/10719 [==============================] - 1s 100us/step - loss: 3.5493 - mean_squared_error: 121.0418 - acc: 0.4907\n",
            "Epoch 153/300\n",
            "10719/10719 [==============================] - 1s 100us/step - loss: 3.5517 - mean_squared_error: 121.8804 - acc: 0.4936\n",
            "Epoch 154/300\n",
            "10719/10719 [==============================] - 1s 99us/step - loss: 3.5526 - mean_squared_error: 121.2473 - acc: 0.4949\n",
            "Epoch 155/300\n",
            "10719/10719 [==============================] - 1s 101us/step - loss: 3.5573 - mean_squared_error: 121.7426 - acc: 0.4972\n",
            "Epoch 156/300\n",
            "10719/10719 [==============================] - 1s 101us/step - loss: 3.5495 - mean_squared_error: 121.4416 - acc: 0.4966\n",
            "Epoch 157/300\n",
            "10719/10719 [==============================] - 1s 101us/step - loss: 3.5504 - mean_squared_error: 121.6895 - acc: 0.4966\n",
            "Epoch 158/300\n",
            "10719/10719 [==============================] - 1s 100us/step - loss: 3.5540 - mean_squared_error: 122.7865 - acc: 0.4929\n",
            "Epoch 159/300\n",
            "10719/10719 [==============================] - 1s 102us/step - loss: 3.5476 - mean_squared_error: 121.3990 - acc: 0.4958\n",
            "Epoch 160/300\n",
            "10719/10719 [==============================] - 1s 102us/step - loss: 3.5472 - mean_squared_error: 121.3330 - acc: 0.4925\n",
            "Epoch 161/300\n",
            "10719/10719 [==============================] - 1s 102us/step - loss: 3.5570 - mean_squared_error: 122.3400 - acc: 0.4932\n",
            "Epoch 162/300\n",
            "10719/10719 [==============================] - 1s 101us/step - loss: 3.5472 - mean_squared_error: 122.2570 - acc: 0.4946\n",
            "Epoch 163/300\n",
            "10719/10719 [==============================] - 1s 101us/step - loss: 3.5543 - mean_squared_error: 121.2248 - acc: 0.4948\n",
            "Epoch 164/300\n",
            "10719/10719 [==============================] - 1s 101us/step - loss: 3.5559 - mean_squared_error: 121.7329 - acc: 0.4948\n",
            "Epoch 165/300\n",
            "10719/10719 [==============================] - 1s 102us/step - loss: 3.5485 - mean_squared_error: 121.3695 - acc: 0.4941\n",
            "Epoch 166/300\n",
            "10719/10719 [==============================] - 1s 102us/step - loss: 3.5551 - mean_squared_error: 121.4899 - acc: 0.4943\n",
            "Epoch 167/300\n",
            "10719/10719 [==============================] - 1s 101us/step - loss: 3.5524 - mean_squared_error: 120.8574 - acc: 0.4937\n",
            "Epoch 168/300\n",
            "10719/10719 [==============================] - 1s 101us/step - loss: 3.5501 - mean_squared_error: 122.2523 - acc: 0.4986\n",
            "Epoch 169/300\n",
            "10719/10719 [==============================] - 1s 101us/step - loss: 3.5454 - mean_squared_error: 122.1922 - acc: 0.4964\n",
            "Epoch 170/300\n",
            "10719/10719 [==============================] - 1s 102us/step - loss: 3.5531 - mean_squared_error: 121.3603 - acc: 0.4944\n",
            "Epoch 171/300\n",
            "10719/10719 [==============================] - 1s 101us/step - loss: 3.5495 - mean_squared_error: 122.0372 - acc: 0.4976\n",
            "Epoch 172/300\n",
            "10719/10719 [==============================] - 1s 101us/step - loss: 3.5492 - mean_squared_error: 121.2140 - acc: 0.4929\n",
            "Epoch 173/300\n",
            "10719/10719 [==============================] - 1s 100us/step - loss: 3.5496 - mean_squared_error: 120.9702 - acc: 0.4978\n",
            "Epoch 174/300\n",
            "10719/10719 [==============================] - 1s 101us/step - loss: 3.5496 - mean_squared_error: 121.9536 - acc: 0.4952\n",
            "Epoch 175/300\n",
            "10719/10719 [==============================] - 1s 101us/step - loss: 3.5506 - mean_squared_error: 122.4109 - acc: 0.4938\n",
            "Epoch 176/300\n",
            "10719/10719 [==============================] - 1s 99us/step - loss: 3.5478 - mean_squared_error: 120.7315 - acc: 0.4968\n",
            "Epoch 177/300\n",
            "10719/10719 [==============================] - 1s 101us/step - loss: 3.5428 - mean_squared_error: 120.7963 - acc: 0.4934\n",
            "Epoch 178/300\n",
            "10719/10719 [==============================] - 1s 100us/step - loss: 3.5433 - mean_squared_error: 120.0763 - acc: 0.4952\n",
            "Epoch 179/300\n",
            "10719/10719 [==============================] - 1s 99us/step - loss: 3.5441 - mean_squared_error: 121.4856 - acc: 0.4950\n",
            "Epoch 180/300\n",
            "10719/10719 [==============================] - 1s 101us/step - loss: 3.5483 - mean_squared_error: 121.1092 - acc: 0.4959\n",
            "Epoch 181/300\n",
            "10719/10719 [==============================] - 1s 100us/step - loss: 3.5415 - mean_squared_error: 121.8524 - acc: 0.4972\n",
            "Epoch 182/300\n",
            "10719/10719 [==============================] - 1s 101us/step - loss: 3.5356 - mean_squared_error: 119.8751 - acc: 0.4941\n",
            "Epoch 183/300\n",
            "10719/10719 [==============================] - 1s 101us/step - loss: 3.5487 - mean_squared_error: 119.0826 - acc: 0.4956\n",
            "Epoch 184/300\n",
            "10719/10719 [==============================] - 1s 100us/step - loss: 3.5495 - mean_squared_error: 121.2894 - acc: 0.4949\n",
            "Epoch 185/300\n",
            "10719/10719 [==============================] - 1s 99us/step - loss: 3.5504 - mean_squared_error: 121.3924 - acc: 0.4958\n",
            "Epoch 186/300\n",
            "10719/10719 [==============================] - 1s 101us/step - loss: 3.5377 - mean_squared_error: 120.1636 - acc: 0.4976\n",
            "Epoch 187/300\n",
            "10719/10719 [==============================] - 1s 101us/step - loss: 3.5439 - mean_squared_error: 120.4802 - acc: 0.4937\n",
            "Epoch 188/300\n",
            "10719/10719 [==============================] - 1s 100us/step - loss: 3.5406 - mean_squared_error: 121.0030 - acc: 0.4933\n",
            "Epoch 189/300\n",
            "10719/10719 [==============================] - 1s 100us/step - loss: 3.5429 - mean_squared_error: 119.5145 - acc: 0.4942\n",
            "Epoch 190/300\n",
            "10719/10719 [==============================] - 1s 101us/step - loss: 3.5406 - mean_squared_error: 120.1909 - acc: 0.4961\n",
            "Epoch 191/300\n",
            "10719/10719 [==============================] - 1s 99us/step - loss: 3.5405 - mean_squared_error: 119.8451 - acc: 0.4978\n",
            "Epoch 192/300\n",
            "10719/10719 [==============================] - 1s 100us/step - loss: 3.5494 - mean_squared_error: 121.4811 - acc: 0.4971\n",
            "Epoch 193/300\n",
            "10719/10719 [==============================] - 1s 100us/step - loss: 3.5425 - mean_squared_error: 119.8915 - acc: 0.4945\n",
            "Epoch 194/300\n",
            "10719/10719 [==============================] - 1s 100us/step - loss: 3.5377 - mean_squared_error: 120.4000 - acc: 0.4943\n",
            "Epoch 195/300\n",
            "10719/10719 [==============================] - 1s 101us/step - loss: 3.5313 - mean_squared_error: 120.3228 - acc: 0.4956\n",
            "Epoch 196/300\n",
            "10719/10719 [==============================] - 1s 102us/step - loss: 3.5443 - mean_squared_error: 121.2704 - acc: 0.4966\n",
            "Epoch 197/300\n",
            "10719/10719 [==============================] - 1s 101us/step - loss: 3.5469 - mean_squared_error: 121.7281 - acc: 0.4947\n",
            "Epoch 198/300\n",
            "10719/10719 [==============================] - 1s 102us/step - loss: 3.5398 - mean_squared_error: 120.9462 - acc: 0.4948\n",
            "Epoch 199/300\n",
            "10719/10719 [==============================] - 1s 99us/step - loss: 3.5381 - mean_squared_error: 121.1717 - acc: 0.4969\n",
            "Epoch 200/300\n",
            "10719/10719 [==============================] - 1s 100us/step - loss: 3.5397 - mean_squared_error: 120.3958 - acc: 0.4983\n",
            "Epoch 201/300\n",
            "10719/10719 [==============================] - 1s 100us/step - loss: 3.5381 - mean_squared_error: 121.5022 - acc: 0.4960\n",
            "Epoch 202/300\n",
            "10719/10719 [==============================] - 1s 100us/step - loss: 3.5351 - mean_squared_error: 120.0044 - acc: 0.4968\n",
            "Epoch 203/300\n",
            "10719/10719 [==============================] - 1s 100us/step - loss: 3.5342 - mean_squared_error: 120.0903 - acc: 0.4934\n",
            "Epoch 204/300\n",
            "10719/10719 [==============================] - 1s 102us/step - loss: 3.5385 - mean_squared_error: 119.8823 - acc: 0.4967\n",
            "Epoch 205/300\n",
            "10719/10719 [==============================] - 1s 100us/step - loss: 3.5196 - mean_squared_error: 120.1199 - acc: 0.4984\n",
            "Epoch 206/300\n",
            "10719/10719 [==============================] - 1s 101us/step - loss: 3.5425 - mean_squared_error: 120.3301 - acc: 0.4992\n",
            "Epoch 207/300\n",
            "10719/10719 [==============================] - 1s 100us/step - loss: 3.5477 - mean_squared_error: 120.6326 - acc: 0.4953\n",
            "Epoch 208/300\n",
            "10719/10719 [==============================] - 1s 100us/step - loss: 3.5401 - mean_squared_error: 120.9172 - acc: 0.4975\n",
            "Epoch 209/300\n",
            "10719/10719 [==============================] - 1s 99us/step - loss: 3.5400 - mean_squared_error: 120.7665 - acc: 0.4945\n",
            "Epoch 210/300\n",
            "10719/10719 [==============================] - 1s 100us/step - loss: 3.5337 - mean_squared_error: 121.0958 - acc: 0.4973\n",
            "Epoch 211/300\n",
            "10719/10719 [==============================] - 1s 100us/step - loss: 3.5364 - mean_squared_error: 120.5854 - acc: 0.4964\n",
            "Epoch 212/300\n",
            "10719/10719 [==============================] - 1s 101us/step - loss: 3.5396 - mean_squared_error: 120.3904 - acc: 0.4958\n",
            "Epoch 213/300\n",
            "10719/10719 [==============================] - 1s 99us/step - loss: 3.5407 - mean_squared_error: 120.4326 - acc: 0.4966\n",
            "Epoch 214/300\n",
            "10719/10719 [==============================] - 1s 101us/step - loss: 3.5285 - mean_squared_error: 120.1105 - acc: 0.4976\n",
            "Epoch 215/300\n",
            "10719/10719 [==============================] - 1s 101us/step - loss: 3.5266 - mean_squared_error: 120.1862 - acc: 0.4978\n",
            "Epoch 216/300\n",
            "10719/10719 [==============================] - 1s 100us/step - loss: 3.5309 - mean_squared_error: 121.0834 - acc: 0.4979\n",
            "Epoch 217/300\n",
            "10719/10719 [==============================] - 1s 101us/step - loss: 3.5395 - mean_squared_error: 121.4098 - acc: 0.4976\n",
            "Epoch 218/300\n",
            "10719/10719 [==============================] - 1s 100us/step - loss: 3.5331 - mean_squared_error: 121.1578 - acc: 0.4949\n",
            "Epoch 219/300\n",
            "10719/10719 [==============================] - 1s 100us/step - loss: 3.5324 - mean_squared_error: 118.9784 - acc: 0.4968\n",
            "Epoch 220/300\n",
            "10719/10719 [==============================] - 1s 101us/step - loss: 3.5323 - mean_squared_error: 120.4231 - acc: 0.4960\n",
            "Epoch 221/300\n",
            "10719/10719 [==============================] - 1s 100us/step - loss: 3.5312 - mean_squared_error: 120.8889 - acc: 0.4933\n",
            "Epoch 222/300\n",
            "10719/10719 [==============================] - 1s 102us/step - loss: 3.5296 - mean_squared_error: 120.7777 - acc: 0.4959\n",
            "Epoch 223/300\n",
            "10719/10719 [==============================] - 1s 100us/step - loss: 3.5275 - mean_squared_error: 121.1521 - acc: 0.4966\n",
            "Epoch 224/300\n",
            "10719/10719 [==============================] - 1s 101us/step - loss: 3.5291 - mean_squared_error: 120.4564 - acc: 0.4946\n",
            "Epoch 225/300\n",
            "10719/10719 [==============================] - 1s 100us/step - loss: 3.5238 - mean_squared_error: 120.5079 - acc: 0.4969\n",
            "Epoch 226/300\n",
            "10719/10719 [==============================] - 1s 100us/step - loss: 3.5332 - mean_squared_error: 119.8279 - acc: 0.4935\n",
            "Epoch 227/300\n",
            "10719/10719 [==============================] - 1s 99us/step - loss: 3.5250 - mean_squared_error: 119.6185 - acc: 0.4991\n",
            "Epoch 228/300\n",
            "10719/10719 [==============================] - 1s 101us/step - loss: 3.5267 - mean_squared_error: 120.4397 - acc: 0.4939\n",
            "Epoch 229/300\n",
            "10719/10719 [==============================] - 1s 101us/step - loss: 3.5228 - mean_squared_error: 120.2815 - acc: 0.4972\n",
            "Epoch 230/300\n",
            "10719/10719 [==============================] - 1s 102us/step - loss: 3.5255 - mean_squared_error: 119.7943 - acc: 0.4942\n",
            "Epoch 231/300\n",
            "10719/10719 [==============================] - 1s 100us/step - loss: 3.5283 - mean_squared_error: 120.5867 - acc: 0.4971\n",
            "Epoch 232/300\n",
            "10719/10719 [==============================] - 1s 98us/step - loss: 3.5315 - mean_squared_error: 119.9862 - acc: 0.4974\n",
            "Epoch 233/300\n",
            "10719/10719 [==============================] - 1s 101us/step - loss: 3.5226 - mean_squared_error: 119.6614 - acc: 0.4942\n",
            "Epoch 234/300\n",
            "10719/10719 [==============================] - 1s 99us/step - loss: 3.5198 - mean_squared_error: 119.3820 - acc: 0.4928\n",
            "Epoch 235/300\n",
            "10719/10719 [==============================] - 1s 99us/step - loss: 3.5189 - mean_squared_error: 120.3564 - acc: 0.4958\n",
            "Epoch 236/300\n",
            "10719/10719 [==============================] - 1s 99us/step - loss: 3.5253 - mean_squared_error: 119.6971 - acc: 0.4948\n",
            "Epoch 237/300\n",
            "10719/10719 [==============================] - 1s 100us/step - loss: 3.5198 - mean_squared_error: 120.2752 - acc: 0.4939\n",
            "Epoch 238/300\n",
            "10719/10719 [==============================] - 1s 100us/step - loss: 3.5209 - mean_squared_error: 119.5357 - acc: 0.4944\n",
            "Epoch 239/300\n",
            "10719/10719 [==============================] - 1s 100us/step - loss: 3.5231 - mean_squared_error: 119.9609 - acc: 0.4953\n",
            "Epoch 240/300\n",
            "10719/10719 [==============================] - 1s 100us/step - loss: 3.5245 - mean_squared_error: 120.5652 - acc: 0.4938\n",
            "Epoch 241/300\n",
            "10719/10719 [==============================] - 1s 99us/step - loss: 3.5246 - mean_squared_error: 120.8464 - acc: 0.4947\n",
            "Epoch 242/300\n",
            "10719/10719 [==============================] - 1s 101us/step - loss: 3.5115 - mean_squared_error: 118.1797 - acc: 0.4964\n",
            "Epoch 243/300\n",
            "10719/10719 [==============================] - 1s 99us/step - loss: 3.5219 - mean_squared_error: 119.4298 - acc: 0.4971\n",
            "Epoch 244/300\n",
            "10719/10719 [==============================] - 1s 102us/step - loss: 3.5273 - mean_squared_error: 119.9164 - acc: 0.4949\n",
            "Epoch 245/300\n",
            "10719/10719 [==============================] - 1s 99us/step - loss: 3.5152 - mean_squared_error: 119.3730 - acc: 0.4924\n",
            "Epoch 246/300\n",
            "10719/10719 [==============================] - 1s 100us/step - loss: 3.5273 - mean_squared_error: 119.3843 - acc: 0.4954\n",
            "Epoch 247/300\n",
            "10719/10719 [==============================] - 1s 100us/step - loss: 3.5252 - mean_squared_error: 118.6605 - acc: 0.4926\n",
            "Epoch 248/300\n",
            "10719/10719 [==============================] - 1s 99us/step - loss: 3.5151 - mean_squared_error: 120.0686 - acc: 0.4943\n",
            "Epoch 249/300\n",
            "10719/10719 [==============================] - 1s 100us/step - loss: 3.5218 - mean_squared_error: 120.5913 - acc: 0.4983\n",
            "Epoch 250/300\n",
            "10719/10719 [==============================] - 1s 100us/step - loss: 3.5167 - mean_squared_error: 118.5165 - acc: 0.4942\n",
            "Epoch 251/300\n",
            "10719/10719 [==============================] - 1s 99us/step - loss: 3.5131 - mean_squared_error: 119.0771 - acc: 0.4958\n",
            "Epoch 252/300\n",
            "10719/10719 [==============================] - 1s 101us/step - loss: 3.5202 - mean_squared_error: 119.9050 - acc: 0.4951\n",
            "Epoch 253/300\n",
            "10719/10719 [==============================] - 1s 100us/step - loss: 3.5171 - mean_squared_error: 120.0045 - acc: 0.4971\n",
            "Epoch 254/300\n",
            "10719/10719 [==============================] - 1s 100us/step - loss: 3.5164 - mean_squared_error: 118.9998 - acc: 0.4958\n",
            "Epoch 255/300\n",
            "10719/10719 [==============================] - 1s 100us/step - loss: 3.5219 - mean_squared_error: 119.3525 - acc: 0.4949\n",
            "Epoch 256/300\n",
            "10719/10719 [==============================] - 1s 100us/step - loss: 3.5229 - mean_squared_error: 119.0799 - acc: 0.4924\n",
            "Epoch 257/300\n",
            "10719/10719 [==============================] - 1s 100us/step - loss: 3.5207 - mean_squared_error: 119.4318 - acc: 0.4942\n",
            "Epoch 258/300\n",
            "10719/10719 [==============================] - 1s 100us/step - loss: 3.5194 - mean_squared_error: 120.1339 - acc: 0.4960\n",
            "Epoch 259/300\n",
            "10719/10719 [==============================] - 1s 101us/step - loss: 3.5163 - mean_squared_error: 119.9832 - acc: 0.4959\n",
            "Epoch 260/300\n",
            "10719/10719 [==============================] - 1s 100us/step - loss: 3.5138 - mean_squared_error: 119.8242 - acc: 0.4938\n",
            "Epoch 261/300\n",
            "10719/10719 [==============================] - 1s 102us/step - loss: 3.5242 - mean_squared_error: 120.8785 - acc: 0.4924\n",
            "Epoch 262/300\n",
            "10719/10719 [==============================] - 1s 102us/step - loss: 3.5167 - mean_squared_error: 120.5549 - acc: 0.4957\n",
            "Epoch 263/300\n",
            "10719/10719 [==============================] - 1s 101us/step - loss: 3.5105 - mean_squared_error: 120.1454 - acc: 0.4961\n",
            "Epoch 264/300\n",
            "10719/10719 [==============================] - 1s 100us/step - loss: 3.5128 - mean_squared_error: 120.6897 - acc: 0.4918\n",
            "Epoch 265/300\n",
            "10719/10719 [==============================] - 1s 101us/step - loss: 3.5142 - mean_squared_error: 118.5663 - acc: 0.4938\n",
            "Epoch 266/300\n",
            "10719/10719 [==============================] - 1s 101us/step - loss: 3.5190 - mean_squared_error: 120.3795 - acc: 0.4922\n",
            "Epoch 267/300\n",
            "10719/10719 [==============================] - 1s 99us/step - loss: 3.5156 - mean_squared_error: 119.9462 - acc: 0.4931\n",
            "Epoch 268/300\n",
            "10719/10719 [==============================] - 1s 104us/step - loss: 3.5110 - mean_squared_error: 118.4430 - acc: 0.4938\n",
            "Epoch 269/300\n",
            "10719/10719 [==============================] - 1s 110us/step - loss: 3.5143 - mean_squared_error: 120.9194 - acc: 0.4929\n",
            "Epoch 270/300\n",
            "10719/10719 [==============================] - 1s 111us/step - loss: 3.5107 - mean_squared_error: 119.3899 - acc: 0.4945\n",
            "Epoch 271/300\n",
            "10719/10719 [==============================] - 1s 112us/step - loss: 3.5018 - mean_squared_error: 119.5656 - acc: 0.4940\n",
            "Epoch 272/300\n",
            "10719/10719 [==============================] - 1s 110us/step - loss: 3.5116 - mean_squared_error: 120.3568 - acc: 0.4915\n",
            "Epoch 273/300\n",
            "10719/10719 [==============================] - 1s 109us/step - loss: 3.5061 - mean_squared_error: 119.0116 - acc: 0.4935\n",
            "Epoch 274/300\n",
            "10719/10719 [==============================] - 1s 126us/step - loss: 3.5076 - mean_squared_error: 119.2007 - acc: 0.4939\n",
            "Epoch 275/300\n",
            "10719/10719 [==============================] - 1s 110us/step - loss: 3.5057 - mean_squared_error: 120.1434 - acc: 0.4934\n",
            "Epoch 276/300\n",
            "10719/10719 [==============================] - 1s 110us/step - loss: 3.5022 - mean_squared_error: 120.8166 - acc: 0.4944\n",
            "Epoch 277/300\n",
            "10719/10719 [==============================] - 1s 110us/step - loss: 3.5090 - mean_squared_error: 119.9623 - acc: 0.4932\n",
            "Epoch 278/300\n",
            "10719/10719 [==============================] - 1s 112us/step - loss: 3.4946 - mean_squared_error: 119.0444 - acc: 0.4928\n",
            "Epoch 279/300\n",
            "10719/10719 [==============================] - 1s 99us/step - loss: 3.5130 - mean_squared_error: 119.3430 - acc: 0.4917\n",
            "Epoch 280/300\n",
            "10719/10719 [==============================] - 1s 101us/step - loss: 3.5030 - mean_squared_error: 120.0419 - acc: 0.4964\n",
            "Epoch 281/300\n",
            "10719/10719 [==============================] - 1s 99us/step - loss: 3.4890 - mean_squared_error: 119.2588 - acc: 0.4939\n",
            "Epoch 282/300\n",
            "10719/10719 [==============================] - 1s 99us/step - loss: 3.5075 - mean_squared_error: 118.4147 - acc: 0.4954\n",
            "Epoch 283/300\n",
            "10719/10719 [==============================] - 1s 100us/step - loss: 3.4949 - mean_squared_error: 117.7354 - acc: 0.4930\n",
            "Epoch 284/300\n",
            "10719/10719 [==============================] - 1s 100us/step - loss: 3.5098 - mean_squared_error: 118.8209 - acc: 0.4929\n",
            "Epoch 285/300\n",
            "10719/10719 [==============================] - 1s 100us/step - loss: 3.5047 - mean_squared_error: 119.9062 - acc: 0.4930\n",
            "Epoch 286/300\n",
            "10719/10719 [==============================] - 1s 101us/step - loss: 3.4977 - mean_squared_error: 119.5942 - acc: 0.4928\n",
            "Epoch 287/300\n",
            "10719/10719 [==============================] - 1s 101us/step - loss: 3.5006 - mean_squared_error: 119.7749 - acc: 0.4935\n",
            "Epoch 288/300\n",
            "10719/10719 [==============================] - 1s 102us/step - loss: 3.4982 - mean_squared_error: 119.9710 - acc: 0.4925\n",
            "Epoch 289/300\n",
            "10719/10719 [==============================] - 1s 101us/step - loss: 3.5050 - mean_squared_error: 119.3348 - acc: 0.4936\n",
            "Epoch 290/300\n",
            "10719/10719 [==============================] - 1s 100us/step - loss: 3.4920 - mean_squared_error: 119.7848 - acc: 0.4930\n",
            "Epoch 291/300\n",
            "10719/10719 [==============================] - 1s 98us/step - loss: 3.4965 - mean_squared_error: 118.9679 - acc: 0.4935\n",
            "Epoch 292/300\n",
            "10719/10719 [==============================] - 1s 102us/step - loss: 3.4973 - mean_squared_error: 118.7887 - acc: 0.4954\n",
            "Epoch 293/300\n",
            "10719/10719 [==============================] - 1s 101us/step - loss: 3.5018 - mean_squared_error: 118.6493 - acc: 0.4930\n",
            "Epoch 294/300\n",
            "10719/10719 [==============================] - 1s 100us/step - loss: 3.4873 - mean_squared_error: 118.3517 - acc: 0.4944\n",
            "Epoch 295/300\n",
            "10719/10719 [==============================] - 1s 99us/step - loss: 3.4955 - mean_squared_error: 118.9638 - acc: 0.4953\n",
            "Epoch 296/300\n",
            "10719/10719 [==============================] - 1s 100us/step - loss: 3.4903 - mean_squared_error: 118.1232 - acc: 0.4962\n",
            "Epoch 297/300\n",
            "10719/10719 [==============================] - 1s 100us/step - loss: 3.4882 - mean_squared_error: 119.0057 - acc: 0.4917\n",
            "Epoch 298/300\n",
            "10719/10719 [==============================] - 1s 101us/step - loss: 3.4966 - mean_squared_error: 118.8386 - acc: 0.4956\n",
            "Epoch 299/300\n",
            "10719/10719 [==============================] - 1s 101us/step - loss: 3.5022 - mean_squared_error: 118.8720 - acc: 0.4916\n",
            "Epoch 300/300\n",
            "10719/10719 [==============================] - 1s 101us/step - loss: 3.4947 - mean_squared_error: 118.5423 - acc: 0.4946\n"
          ],
          "name": "stdout"
        }
      ]
    },
    {
      "metadata": {
        "id": "niuNkZazQT5L",
        "colab_type": "code",
        "colab": {
          "base_uri": "https://localhost:8080/",
          "height": 86
        },
        "outputId": "4887085a-8c4b-4649-b01e-ee6fdda9d5d8"
      },
      "cell_type": "code",
      "source": [
        "#Exibição dos melhores resultados\n",
        "print(\"Melhor resultado: %f, usando %s\" % (grid_result.best_score_, grid_result.best_params_))\n",
        "means = grid_result.cv_results_['mean_test_score']\n",
        "stds = grid_result.cv_results_['std_test_score']\n",
        "params = grid_result.cv_results_['params']\n",
        "print(\"Resultados (Desvio padrão) {Parâmetros}\")\n",
        "for mean, stdev, param in zip(means, stds, params):\n",
        "\tprint(\"%f (%f) %r\" % (mean, stdev, param))"
      ],
      "execution_count": 32,
      "outputs": [
        {
          "output_type": "stream",
          "text": [
            "Melhor resultado: -3.646824, usando {'batch_size': 10, 'camadas': 4, 'units': 11}\n",
            "Resultados (Desvio padrão) {Parâmetros}\n",
            "-3.646824 (0.204017) {'batch_size': 10, 'camadas': 4, 'units': 11}\n",
            "-3.651974 (0.164764) {'batch_size': 10, 'camadas': 5, 'units': 11}\n"
          ],
          "name": "stdout"
        }
      ]
    },
    {
      "metadata": {
        "id": "qd6jAdoA7qI2",
        "colab_type": "code",
        "colab": {
          "base_uri": "https://localhost:8080/",
          "height": 304
        },
        "outputId": "bd1f9c17-776c-4f93-e166-5937aed8bb09"
      },
      "cell_type": "code",
      "source": [
        "#Gráfico de previsão para o conjunto de treino\n",
        "plt.scatter(grid_search.predict(X_train), Y_train)"
      ],
      "execution_count": 37,
      "outputs": [
        {
          "output_type": "stream",
          "text": [
            "10719/10719 [==============================] - 0s 35us/step\n"
          ],
          "name": "stdout"
        },
        {
          "output_type": "execute_result",
          "data": {
            "text/plain": [
              "<matplotlib.collections.PathCollection at 0x7f0105864198>"
            ]
          },
          "metadata": {
            "tags": []
          },
          "execution_count": 37
        },
        {
          "output_type": "display_data",
          "data": {
            "image/png": "[encoded data removed]",
            "text/plain": [
              "<Figure size 432x288 with 1 Axes>"
            ]
          },
          "metadata": {
            "tags": []
          }
        }
      ]
    },
    {
      "metadata": {
        "id": "ikJ6SCU-798i",
        "colab_type": "code",
        "colab": {
          "base_uri": "https://localhost:8080/",
          "height": 321
        },
        "outputId": "885017ed-fac8-47e6-d5e5-1b2c96976f5f"
      },
      "cell_type": "code",
      "source": [
        "#Gráfico de previsão para o conjunto de treino normalizado\n",
        "plt.scatter(grid_search.predict(X_train) / max(grid_search.predict(X_train)), Y_train / max(Y_train))"
      ],
      "execution_count": 38,
      "outputs": [
        {
          "output_type": "stream",
          "text": [
            "10719/10719 [==============================] - 0s 33us/step\n",
            "10719/10719 [==============================] - 0s 34us/step\n"
          ],
          "name": "stdout"
        },
        {
          "output_type": "execute_result",
          "data": {
            "text/plain": [
              "<matplotlib.collections.PathCollection at 0x7f0105845390>"
            ]
          },
          "metadata": {
            "tags": []
          },
          "execution_count": 38
        },
        {
          "output_type": "display_data",
          "data": {
            "image/png": "[encoded data removed]",
            "text/plain": [
              "<Figure size 432x288 with 1 Axes>"
            ]
          },
          "metadata": {
            "tags": []
          }
        }
      ]
    },
    {
      "metadata": {
        "id": "odMh7NI5A413",
        "colab_type": "code",
        "colab": {
          "base_uri": "https://localhost:8080/",
          "height": 69
        },
        "outputId": "4ef393a5-6b9e-4ac0-a2e1-8c85bf219a06"
      },
      "cell_type": "code",
      "source": [
        "#Mostrando uma matriz de correlação das variáveis com a melhor modelagem\n",
        "print(np.corrcoef(Y_train, grid_search.predict(X_train)))"
      ],
      "execution_count": 39,
      "outputs": [
        {
          "output_type": "stream",
          "text": [
            "10719/10719 [==============================] - 0s 37us/step\n",
            "[[1.         0.62486099]\n",
            " [0.62486099 1.        ]]\n"
          ],
          "name": "stdout"
        }
      ]
    },
    {
      "metadata": {
        "id": "VVyAlBsY5fLe",
        "colab_type": "code",
        "colab": {
          "base_uri": "https://localhost:8080/",
          "height": 34
        },
        "outputId": "62f01de4-e2ac-45f3-9ef2-61c191c05438"
      },
      "cell_type": "code",
      "source": [
        "#Previsão com base no resultado da Grid Search\n",
        "Y_pred = grid_search.predict(X_test)"
      ],
      "execution_count": 33,
      "outputs": [
        {
          "output_type": "stream",
          "text": [
            "1192/1192 [==============================] - 0s 56us/step\n"
          ],
          "name": "stdout"
        }
      ]
    },
    {
      "metadata": {
        "id": "skEMxj6QtVVO",
        "colab_type": "code",
        "colab": {
          "base_uri": "https://localhost:8080/",
          "height": 286
        },
        "outputId": "61892bd5-2b6c-4572-9834-15234c205fb9"
      },
      "cell_type": "code",
      "source": [
        "#Gráfico que mostra a relação entre a chuva real e a prevista\n",
        "plt.scatter(Y_test, Y_pred)"
      ],
      "execution_count": 34,
      "outputs": [
        {
          "output_type": "execute_result",
          "data": {
            "text/plain": [
              "<matplotlib.collections.PathCollection at 0x7f0108c08d30>"
            ]
          },
          "metadata": {
            "tags": []
          },
          "execution_count": 34
        },
        {
          "output_type": "display_data",
          "data": {
            "image/png": "[encoded data removed]",
            "text/plain": [
              "<Figure size 432x288 with 1 Axes>"
            ]
          },
          "metadata": {
            "tags": []
          }
        }
      ]
    },
    {
      "metadata": {
        "id": "_u6GdTGCDe4C",
        "colab_type": "code",
        "colab": {
          "base_uri": "https://localhost:8080/",
          "height": 286
        },
        "outputId": "d189b7b6-3d4f-4237-be45-4d1269a02112"
      },
      "cell_type": "code",
      "source": [
        "#Gráfico normalizado que mostra a relação entre a chuva real e a prevista\n",
        "plt.scatter(Y_test / max(Y_test), Y_pred / max(Y_pred))"
      ],
      "execution_count": 40,
      "outputs": [
        {
          "output_type": "execute_result",
          "data": {
            "text/plain": [
              "<matplotlib.collections.PathCollection at 0x7f010581e908>"
            ]
          },
          "metadata": {
            "tags": []
          },
          "execution_count": 40
        },
        {
          "output_type": "display_data",
          "data": {
            "image/png": "[encoded data removed]",
            "text/plain": [
              "<Figure size 432x288 with 1 Axes>"
            ]
          },
          "metadata": {
            "tags": []
          }
        }
      ]
    },
    {
      "metadata": {
        "id": "zIMiGtzT6LDK",
        "colab_type": "code",
        "colab": {
          "base_uri": "https://localhost:8080/",
          "height": 69
        },
        "outputId": "722e92b6-4d64-4d9f-e537-7e537f01ee3f"
      },
      "cell_type": "code",
      "source": [
        "#Mostrando uma matriz de correlação das variáveis com a melhor modelagem\n",
        "print(np.corrcoef(Y_test, grid_search.predict(X_test)))"
      ],
      "execution_count": 42,
      "outputs": [
        {
          "output_type": "stream",
          "text": [
            "1192/1192 [==============================] - 0s 42us/step\n",
            "[[1.         0.54094629]\n",
            " [0.54094629 1.        ]]\n"
          ],
          "name": "stdout"
        }
      ]
    },
    {
      "metadata": {
        "id": "h-5aF3iGAN22",
        "colab_type": "code",
        "colab": {
          "base_uri": "https://localhost:8080/",
          "height": 34
        },
        "outputId": "6378caa9-9cbf-4518-82c3-1e89c03add50"
      },
      "cell_type": "code",
      "source": [
        "#Erro absoluto médio entre a chuva prevista e a real\n",
        "print(mean_absolute_error(Y_test, Y_pred))"
      ],
      "execution_count": 43,
      "outputs": [
        {
          "output_type": "stream",
          "text": [
            "3.4664304980895664\n"
          ],
          "name": "stdout"
        }
      ]
    }
  ]
}